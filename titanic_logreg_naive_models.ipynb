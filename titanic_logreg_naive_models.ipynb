{
 "cells": [
  {
   "cell_type": "markdown",
   "metadata": {},
   "source": [
    "# Exploratory Data Analysis of Titanic Prediction Data\n",
    "\n",
    "#### Goal: To predict passenger survival outcome and probability.\n",
    "Dataset can be downloaded from my GitHub repository: [mygitrepo](https://raw.githubusercontent.com/crosstrack10/data-science-projects/main/datasets/titanic_data.csv)"
   ]
  },
  {
   "cell_type": "markdown",
   "metadata": {},
   "source": [
    "## Exploratory Analysis\n",
    "Importing necessary packages and reading in the dataset."
   ]
  },
  {
   "cell_type": "code",
   "execution_count": 1,
   "metadata": {},
   "outputs": [],
   "source": [
    "# importing libraries\n",
    "import pandas as pd\n",
    "import numpy as np\n",
    "import matplotlib.pyplot as plt\n",
    "import seaborn as sns\n",
    "\n",
    "%matplotlib inline\n",
    "%config Completer.use_jedi = False"
   ]
  },
  {
   "cell_type": "code",
   "execution_count": 2,
   "metadata": {},
   "outputs": [],
   "source": [
    "# reading in dataset from github repository\n",
    "url = \"https://raw.githubusercontent.com/crosstrack10/data-science-projects/main/datasets/titanic_data.csv\"\n",
    "titanic_data = pd.read_csv(url)"
   ]
  },
  {
   "cell_type": "code",
   "execution_count": 3,
   "metadata": {},
   "outputs": [],
   "source": [
    "# shuffling dataset\n",
    "titanic_data = titanic_data.sample(frac = 1).reset_index(drop = True)"
   ]
  },
  {
   "cell_type": "code",
   "execution_count": 4,
   "metadata": {},
   "outputs": [
    {
     "data": {
      "text/html": [
       "<div>\n",
       "<style scoped>\n",
       "    .dataframe tbody tr th:only-of-type {\n",
       "        vertical-align: middle;\n",
       "    }\n",
       "\n",
       "    .dataframe tbody tr th {\n",
       "        vertical-align: top;\n",
       "    }\n",
       "\n",
       "    .dataframe thead th {\n",
       "        text-align: right;\n",
       "    }\n",
       "</style>\n",
       "<table border=\"1\" class=\"dataframe\">\n",
       "  <thead>\n",
       "    <tr style=\"text-align: right;\">\n",
       "      <th></th>\n",
       "      <th>Row</th>\n",
       "      <th>pclass</th>\n",
       "      <th>survived</th>\n",
       "      <th>name</th>\n",
       "      <th>sex</th>\n",
       "      <th>age</th>\n",
       "      <th>sibsp</th>\n",
       "      <th>parch</th>\n",
       "      <th>ticket</th>\n",
       "      <th>fare</th>\n",
       "      <th>cabin</th>\n",
       "      <th>embarked</th>\n",
       "      <th>home.dest</th>\n",
       "    </tr>\n",
       "  </thead>\n",
       "  <tbody>\n",
       "    <tr>\n",
       "      <th>0</th>\n",
       "      <td>809</td>\n",
       "      <td>3</td>\n",
       "      <td>0</td>\n",
       "      <td>Ford, Mr. Arthur</td>\n",
       "      <td>male</td>\n",
       "      <td>NaN</td>\n",
       "      <td>0</td>\n",
       "      <td>0</td>\n",
       "      <td>A/5 1478</td>\n",
       "      <td>8.0500</td>\n",
       "      <td>NaN</td>\n",
       "      <td>S</td>\n",
       "      <td>Bridgwater, Somerset, England</td>\n",
       "    </tr>\n",
       "    <tr>\n",
       "      <th>1</th>\n",
       "      <td>561</td>\n",
       "      <td>2</td>\n",
       "      <td>1</td>\n",
       "      <td>Sinkkonen, Miss. Anna</td>\n",
       "      <td>female</td>\n",
       "      <td>30.0</td>\n",
       "      <td>0</td>\n",
       "      <td>0</td>\n",
       "      <td>250648</td>\n",
       "      <td>13.0000</td>\n",
       "      <td>NaN</td>\n",
       "      <td>S</td>\n",
       "      <td>Finland / Washington, DC</td>\n",
       "    </tr>\n",
       "    <tr>\n",
       "      <th>2</th>\n",
       "      <td>438</td>\n",
       "      <td>2</td>\n",
       "      <td>1</td>\n",
       "      <td>Herman, Miss. Alice</td>\n",
       "      <td>female</td>\n",
       "      <td>24.0</td>\n",
       "      <td>1</td>\n",
       "      <td>2</td>\n",
       "      <td>220845</td>\n",
       "      <td>65.0000</td>\n",
       "      <td>NaN</td>\n",
       "      <td>S</td>\n",
       "      <td>Somerset / Bernardsville, NJ</td>\n",
       "    </tr>\n",
       "    <tr>\n",
       "      <th>3</th>\n",
       "      <td>988</td>\n",
       "      <td>3</td>\n",
       "      <td>0</td>\n",
       "      <td>Mahon, Miss. Bridget Delia</td>\n",
       "      <td>female</td>\n",
       "      <td>NaN</td>\n",
       "      <td>0</td>\n",
       "      <td>0</td>\n",
       "      <td>330924</td>\n",
       "      <td>7.8792</td>\n",
       "      <td>NaN</td>\n",
       "      <td>Q</td>\n",
       "      <td>NaN</td>\n",
       "    </tr>\n",
       "    <tr>\n",
       "      <th>4</th>\n",
       "      <td>765</td>\n",
       "      <td>3</td>\n",
       "      <td>0</td>\n",
       "      <td>Dean, Mr. Bertram Frank</td>\n",
       "      <td>male</td>\n",
       "      <td>26.0</td>\n",
       "      <td>1</td>\n",
       "      <td>2</td>\n",
       "      <td>C.A. 2315</td>\n",
       "      <td>20.5750</td>\n",
       "      <td>NaN</td>\n",
       "      <td>S</td>\n",
       "      <td>Devon, England Wichita, KS</td>\n",
       "    </tr>\n",
       "  </tbody>\n",
       "</table>\n",
       "</div>"
      ],
      "text/plain": [
       "   Row  pclass  survived                        name     sex   age  sibsp  \\\n",
       "0  809       3         0            Ford, Mr. Arthur    male   NaN      0   \n",
       "1  561       2         1       Sinkkonen, Miss. Anna  female  30.0      0   \n",
       "2  438       2         1         Herman, Miss. Alice  female  24.0      1   \n",
       "3  988       3         0  Mahon, Miss. Bridget Delia  female   NaN      0   \n",
       "4  765       3         0     Dean, Mr. Bertram Frank    male  26.0      1   \n",
       "\n",
       "   parch     ticket     fare cabin embarked                      home.dest  \n",
       "0      0   A/5 1478   8.0500   NaN        S  Bridgwater, Somerset, England  \n",
       "1      0     250648  13.0000   NaN        S       Finland / Washington, DC  \n",
       "2      2     220845  65.0000   NaN        S   Somerset / Bernardsville, NJ  \n",
       "3      0     330924   7.8792   NaN        Q                            NaN  \n",
       "4      2  C.A. 2315  20.5750   NaN        S     Devon, England Wichita, KS  "
      ]
     },
     "execution_count": 4,
     "metadata": {},
     "output_type": "execute_result"
    }
   ],
   "source": [
    "# first five rows\n",
    "titanic_data.head()"
   ]
  },
  {
   "cell_type": "code",
   "execution_count": 5,
   "metadata": {},
   "outputs": [
    {
     "name": "stdout",
     "output_type": "stream",
     "text": [
      "<class 'pandas.core.frame.DataFrame'>\n",
      "RangeIndex: 1309 entries, 0 to 1308\n",
      "Data columns (total 13 columns):\n",
      " #   Column     Non-Null Count  Dtype  \n",
      "---  ------     --------------  -----  \n",
      " 0   Row        1309 non-null   int64  \n",
      " 1   pclass     1309 non-null   int64  \n",
      " 2   survived   1309 non-null   int64  \n",
      " 3   name       1309 non-null   object \n",
      " 4   sex        1309 non-null   object \n",
      " 5   age        1046 non-null   float64\n",
      " 6   sibsp      1309 non-null   int64  \n",
      " 7   parch      1309 non-null   int64  \n",
      " 8   ticket     1309 non-null   object \n",
      " 9   fare       1308 non-null   float64\n",
      " 10  cabin      295 non-null    object \n",
      " 11  embarked   1307 non-null   object \n",
      " 12  home.dest  745 non-null    object \n",
      "dtypes: float64(2), int64(5), object(6)\n",
      "memory usage: 133.1+ KB\n"
     ]
    }
   ],
   "source": [
    "# general variable info\n",
    "titanic_data.info()"
   ]
  },
  {
   "cell_type": "markdown",
   "metadata": {},
   "source": [
    "The pclass feature should be changed to object data type."
   ]
  },
  {
   "cell_type": "code",
   "execution_count": 6,
   "metadata": {},
   "outputs": [],
   "source": [
    "# converting column types to appropriate type\n",
    "cols = [\"pclass\"]\n",
    "titanic_data[cols] = titanic_data[cols].astype('O')"
   ]
  },
  {
   "cell_type": "code",
   "execution_count": 7,
   "metadata": {},
   "outputs": [
    {
     "data": {
      "text/plain": [
       "cabin        1014\n",
       "home.dest     564\n",
       "age           263\n",
       "embarked        2\n",
       "fare            1\n",
       "dtype: int64"
      ]
     },
     "execution_count": 7,
     "metadata": {},
     "output_type": "execute_result"
    }
   ],
   "source": [
    "# counting number of nulls\n",
    "null_count = titanic_data.isna().sum()\n",
    "null_count[null_count > 0].sort_values(ascending = False)"
   ]
  },
  {
   "cell_type": "markdown",
   "metadata": {},
   "source": [
    "The cabin and home.dest features have a lot of nulls present. They probably won't do any good as feature inputs.\n",
    "Rows with null values in the age column can be dropped for now so we can perform variable relationship analysis."
   ]
  },
  {
   "cell_type": "code",
   "execution_count": 8,
   "metadata": {},
   "outputs": [],
   "source": [
    "# dropping cabin and home.dest variables (high percentage of null values)\n",
    "titanic_no_nulls = titanic_data.drop(labels = [\"cabin\", \"home.dest\"], axis = 1)"
   ]
  },
  {
   "cell_type": "code",
   "execution_count": 9,
   "metadata": {},
   "outputs": [],
   "source": [
    "# dropping rows with na's\n",
    "titanic_no_nulls = titanic_no_nulls.dropna(axis = 0)"
   ]
  },
  {
   "cell_type": "code",
   "execution_count": 10,
   "metadata": {},
   "outputs": [
    {
     "data": {
      "text/plain": [
       "Series([], dtype: int64)"
      ]
     },
     "execution_count": 10,
     "metadata": {},
     "output_type": "execute_result"
    }
   ],
   "source": [
    "# counting number of nulls\n",
    "null_count = titanic_no_nulls.isna().sum()\n",
    "null_count[null_count > 0].sort_values(ascending = False)"
   ]
  },
  {
   "cell_type": "code",
   "execution_count": 11,
   "metadata": {},
   "outputs": [],
   "source": [
    "# creating function to count categorical values\n",
    "def count_categorical(dataset):\n",
    "    for col in dataset.columns:\n",
    "        if dataset[col].dtype == np.dtype('O'):\n",
    "            col_count = dataset[col].value_counts()\n",
    "            print(col_count, \"\\n\")\n",
    "        else:\n",
    "            pass"
   ]
  },
  {
   "cell_type": "code",
   "execution_count": 12,
   "metadata": {},
   "outputs": [
    {
     "name": "stdout",
     "output_type": "stream",
     "text": [
      "Row\n",
      "pclass\n",
      "survived\n",
      "name\n",
      "sex\n",
      "age\n",
      "sibsp\n",
      "parch\n",
      "ticket\n",
      "fare\n",
      "cabin\n",
      "embarked\n",
      "home.dest\n"
     ]
    }
   ],
   "source": [
    "# printing column names\n",
    "for col in titanic_data.columns:\n",
    "        print(col)"
   ]
  },
  {
   "cell_type": "code",
   "execution_count": 13,
   "metadata": {},
   "outputs": [
    {
     "name": "stdout",
     "output_type": "stream",
     "text": [
      "3    500\n",
      "1    282\n",
      "2    261\n",
      "Name: pclass, dtype: int64 \n",
      "\n",
      "Connolly, Miss. Kate                                2\n",
      "Kelly, Mr. James                                    2\n",
      "Kenyon, Mr. Frederick R                             1\n",
      "Leyson, Mr. Robert William Norman                   1\n",
      "Rice, Mrs. William (Margaret Norton)                1\n",
      "                                                   ..\n",
      "Mayne, Mlle. Berthe Antonine (\"Mrs de Villiers\")    1\n",
      "Bostandyeff, Mr. Guentcho                           1\n",
      "Barbara, Miss. Saiide                               1\n",
      "Reynaldo, Ms. Encarnacion                           1\n",
      "Wittevrongel, Mr. Camille                           1\n",
      "Name: name, Length: 1041, dtype: int64 \n",
      "\n",
      "male      657\n",
      "female    386\n",
      "Name: sex, dtype: int64 \n",
      "\n",
      "CA 2144         8\n",
      "3101295         7\n",
      "347077          7\n",
      "347082          7\n",
      "S.O.C. 14879    7\n",
      "               ..\n",
      "13049           1\n",
      "5727            1\n",
      "315154          1\n",
      "370376          1\n",
      "349207          1\n",
      "Name: ticket, Length: 730, dtype: int64 \n",
      "\n",
      "S    781\n",
      "C    212\n",
      "Q     50\n",
      "Name: embarked, dtype: int64 \n",
      "\n"
     ]
    }
   ],
   "source": [
    "# counting values by category for object data types\n",
    "count_categorical(titanic_no_nulls)"
   ]
  },
  {
   "cell_type": "code",
   "execution_count": 14,
   "metadata": {},
   "outputs": [
    {
     "data": {
      "text/html": [
       "<div>\n",
       "<style scoped>\n",
       "    .dataframe tbody tr th:only-of-type {\n",
       "        vertical-align: middle;\n",
       "    }\n",
       "\n",
       "    .dataframe tbody tr th {\n",
       "        vertical-align: top;\n",
       "    }\n",
       "\n",
       "    .dataframe thead th {\n",
       "        text-align: right;\n",
       "    }\n",
       "</style>\n",
       "<table border=\"1\" class=\"dataframe\">\n",
       "  <thead>\n",
       "    <tr style=\"text-align: right;\">\n",
       "      <th></th>\n",
       "      <th>Row</th>\n",
       "      <th>survived</th>\n",
       "      <th>age</th>\n",
       "      <th>sibsp</th>\n",
       "      <th>parch</th>\n",
       "      <th>fare</th>\n",
       "    </tr>\n",
       "  </thead>\n",
       "  <tbody>\n",
       "    <tr>\n",
       "      <th>count</th>\n",
       "      <td>1043.000000</td>\n",
       "      <td>1043.000000</td>\n",
       "      <td>1043.000000</td>\n",
       "      <td>1043.000000</td>\n",
       "      <td>1043.000000</td>\n",
       "      <td>1043.000000</td>\n",
       "    </tr>\n",
       "    <tr>\n",
       "      <th>mean</th>\n",
       "      <td>600.331735</td>\n",
       "      <td>0.407478</td>\n",
       "      <td>29.813199</td>\n",
       "      <td>0.504314</td>\n",
       "      <td>0.421860</td>\n",
       "      <td>36.603024</td>\n",
       "    </tr>\n",
       "    <tr>\n",
       "      <th>std</th>\n",
       "      <td>364.291510</td>\n",
       "      <td>0.491601</td>\n",
       "      <td>14.366261</td>\n",
       "      <td>0.913080</td>\n",
       "      <td>0.840655</td>\n",
       "      <td>55.753648</td>\n",
       "    </tr>\n",
       "    <tr>\n",
       "      <th>min</th>\n",
       "      <td>1.000000</td>\n",
       "      <td>0.000000</td>\n",
       "      <td>0.166700</td>\n",
       "      <td>0.000000</td>\n",
       "      <td>0.000000</td>\n",
       "      <td>0.000000</td>\n",
       "    </tr>\n",
       "    <tr>\n",
       "      <th>25%</th>\n",
       "      <td>300.500000</td>\n",
       "      <td>0.000000</td>\n",
       "      <td>21.000000</td>\n",
       "      <td>0.000000</td>\n",
       "      <td>0.000000</td>\n",
       "      <td>8.050000</td>\n",
       "    </tr>\n",
       "    <tr>\n",
       "      <th>50%</th>\n",
       "      <td>576.000000</td>\n",
       "      <td>0.000000</td>\n",
       "      <td>28.000000</td>\n",
       "      <td>0.000000</td>\n",
       "      <td>0.000000</td>\n",
       "      <td>15.750000</td>\n",
       "    </tr>\n",
       "    <tr>\n",
       "      <th>75%</th>\n",
       "      <td>875.000000</td>\n",
       "      <td>1.000000</td>\n",
       "      <td>39.000000</td>\n",
       "      <td>1.000000</td>\n",
       "      <td>1.000000</td>\n",
       "      <td>35.077100</td>\n",
       "    </tr>\n",
       "    <tr>\n",
       "      <th>max</th>\n",
       "      <td>1309.000000</td>\n",
       "      <td>1.000000</td>\n",
       "      <td>80.000000</td>\n",
       "      <td>8.000000</td>\n",
       "      <td>6.000000</td>\n",
       "      <td>512.329200</td>\n",
       "    </tr>\n",
       "  </tbody>\n",
       "</table>\n",
       "</div>"
      ],
      "text/plain": [
       "               Row     survived          age        sibsp        parch  \\\n",
       "count  1043.000000  1043.000000  1043.000000  1043.000000  1043.000000   \n",
       "mean    600.331735     0.407478    29.813199     0.504314     0.421860   \n",
       "std     364.291510     0.491601    14.366261     0.913080     0.840655   \n",
       "min       1.000000     0.000000     0.166700     0.000000     0.000000   \n",
       "25%     300.500000     0.000000    21.000000     0.000000     0.000000   \n",
       "50%     576.000000     0.000000    28.000000     0.000000     0.000000   \n",
       "75%     875.000000     1.000000    39.000000     1.000000     1.000000   \n",
       "max    1309.000000     1.000000    80.000000     8.000000     6.000000   \n",
       "\n",
       "              fare  \n",
       "count  1043.000000  \n",
       "mean     36.603024  \n",
       "std      55.753648  \n",
       "min       0.000000  \n",
       "25%       8.050000  \n",
       "50%      15.750000  \n",
       "75%      35.077100  \n",
       "max     512.329200  "
      ]
     },
     "execution_count": 14,
     "metadata": {},
     "output_type": "execute_result"
    }
   ],
   "source": [
    "# retrieving general statistics for numerical variables\n",
    "titanic_no_nulls.describe()"
   ]
  },
  {
   "cell_type": "markdown",
   "metadata": {},
   "source": [
    "The custom function listed below calculate will information gain based on data type class."
   ]
  },
  {
   "cell_type": "code",
   "execution_count": 15,
   "metadata": {},
   "outputs": [],
   "source": [
    "# importing scipy.stats entropy\n",
    "from scipy.stats import entropy\n",
    "\n",
    "# creating function to calculate entropy\n",
    "def cal_entropy(dataset, log_base = 2.718281828459):\n",
    "    entropy_dict = {}\n",
    "    for vect in dataset.columns:\n",
    "        if dataset[vect].dtype == np.dtype('O'):\n",
    "            vect_rel_prob = dataset[vect].value_counts() / len(dataset[vect])\n",
    "            vect_entropy = entropy(vect_rel_prob, base = log_base)\n",
    "            entropy_dict[vect] = vect_entropy\n",
    "        else:\n",
    "            pass\n",
    "    return(entropy_dict)"
   ]
  },
  {
   "cell_type": "code",
   "execution_count": 16,
   "metadata": {},
   "outputs": [
    {
     "data": {
      "text/html": [
       "<div>\n",
       "<style scoped>\n",
       "    .dataframe tbody tr th:only-of-type {\n",
       "        vertical-align: middle;\n",
       "    }\n",
       "\n",
       "    .dataframe tbody tr th {\n",
       "        vertical-align: top;\n",
       "    }\n",
       "\n",
       "    .dataframe thead th {\n",
       "        text-align: right;\n",
       "    }\n",
       "</style>\n",
       "<table border=\"1\" class=\"dataframe\">\n",
       "  <thead>\n",
       "    <tr style=\"text-align: right;\">\n",
       "      <th></th>\n",
       "      <th>features</th>\n",
       "      <th>IG</th>\n",
       "    </tr>\n",
       "  </thead>\n",
       "  <tbody>\n",
       "    <tr>\n",
       "      <th>0</th>\n",
       "      <td>name</td>\n",
       "      <td>10.022688</td>\n",
       "    </tr>\n",
       "    <tr>\n",
       "      <th>1</th>\n",
       "      <td>ticket</td>\n",
       "      <td>9.283192</td>\n",
       "    </tr>\n",
       "    <tr>\n",
       "      <th>2</th>\n",
       "      <td>pclass</td>\n",
       "      <td>1.518825</td>\n",
       "    </tr>\n",
       "    <tr>\n",
       "      <th>3</th>\n",
       "      <td>embarked</td>\n",
       "      <td>0.989821</td>\n",
       "    </tr>\n",
       "    <tr>\n",
       "      <th>4</th>\n",
       "      <td>sex</td>\n",
       "      <td>0.950738</td>\n",
       "    </tr>\n",
       "  </tbody>\n",
       "</table>\n",
       "</div>"
      ],
      "text/plain": [
       "   features         IG\n",
       "0      name  10.022688\n",
       "1    ticket   9.283192\n",
       "2    pclass   1.518825\n",
       "3  embarked   0.989821\n",
       "4       sex   0.950738"
      ]
     },
     "execution_count": 16,
     "metadata": {},
     "output_type": "execute_result"
    }
   ],
   "source": [
    "# creating dictionary to store results\n",
    "ig_dict = cal_entropy(titanic_no_nulls, 2)\n",
    "\n",
    "# calculating information gain and storing a dataframe\n",
    "info_gain = (\n",
    "    pd.DataFrame(list(ig_dict.items()), columns = [\"features\", \"IG\"]).\n",
    "    sort_values(by = [\"IG\"], ascending = False)\n",
    ")\n",
    "info_gain.reset_index(inplace = True, drop = True)\n",
    "info_gain"
   ]
  },
  {
   "cell_type": "markdown",
   "metadata": {},
   "source": [
    "This first few instances might be useful. Let's see if they appear in the correlation results."
   ]
  },
  {
   "cell_type": "code",
   "execution_count": 17,
   "metadata": {},
   "outputs": [
    {
     "data": {
      "image/png": "[encoded data removed]",
      "text/plain": [
       "<Figure size 864x432 with 1 Axes>"
      ]
     },
     "metadata": {
      "needs_background": "light"
     },
     "output_type": "display_data"
    }
   ],
   "source": [
    "# visualizing information gain\n",
    "plt.figure(figsize = (12,6))\n",
    "sns.set_theme(style = \"whitegrid\")\n",
    "ax = sns.barplot(x = \"features\", y = \"IG\", data = info_gain, palette = sns.color_palette(\"rocket\"))\n",
    "plt.show()"
   ]
  },
  {
   "cell_type": "code",
   "execution_count": 18,
   "metadata": {},
   "outputs": [
    {
     "data": {
      "text/plain": [
       "<Figure size 864x432 with 0 Axes>"
      ]
     },
     "metadata": {},
     "output_type": "display_data"
    },
    {
     "data": {
      "image/png": "[encoded data removed]",
      "text/plain": [
       "<Figure size 717.675x432 with 20 Axes>"
      ]
     },
     "metadata": {},
     "output_type": "display_data"
    }
   ],
   "source": [
    "# numerical vairables corrleation and distributions\n",
    "plt.style.use(\"fivethirtyeight\")\n",
    "plt.figure(figsize = (12,6))\n",
    "sns.set_theme(style = \"ticks\")\n",
    "sns.set_palette(sns.color_palette(\"hls\", 8))\n",
    "sns.pairplot(data = titanic_no_nulls[[\"age\", \"sibsp\", \"parch\", \"fare\", \"embarked\"]], \n",
    "             hue = \"embarked\", diag_kind = \"kde\", height = 1.5, aspect = 1.5)\n",
    "plt.show()"
   ]
  },
  {
   "cell_type": "markdown",
   "metadata": {},
   "source": [
    "Most numerical distributions are negatively skewed. Correlation of \"independent\" variables is not obvious."
   ]
  },
  {
   "cell_type": "code",
   "execution_count": 19,
   "metadata": {},
   "outputs": [],
   "source": [
    "# converting categorical values to numerical to see relationships \n",
    "from sklearn import preprocessing\n",
    "\n",
    "label = preprocessing.LabelEncoder()\n",
    "titanic_encoded = pd.DataFrame() \n",
    "\n",
    "for i in titanic_no_nulls.columns :\n",
    "  titanic_encoded[i] = label.fit_transform(titanic_no_nulls[i])"
   ]
  },
  {
   "cell_type": "code",
   "execution_count": 20,
   "metadata": {},
   "outputs": [
    {
     "name": "stdout",
     "output_type": "stream",
     "text": [
      "sex        -0.536332\n",
      "pclass     -0.317737\n",
      "embarked   -0.202258\n",
      "ticket     -0.112899\n",
      "age        -0.055155\n",
      "name       -0.010417\n",
      "sibsp      -0.009809\n",
      "parch       0.115436\n",
      "fare        0.308960\n",
      "survived    1.000000\n",
      "Name: survived, dtype: float64\n"
     ]
    },
    {
     "data": {
      "image/png": "[encoded data removed]",
      "text/plain": [
       "<Figure size 720x360 with 2 Axes>"
      ]
     },
     "metadata": {},
     "output_type": "display_data"
    }
   ],
   "source": [
    "# Creating correlation matrix\n",
    "corr_matrix = titanic_encoded.drop(axis = 1, columns = \"Row\").corr()\n",
    "print(corr_matrix[\"survived\"].sort_values())\n",
    "\n",
    "# visualizing it\n",
    "plt.figure(figsize = (10,5))\n",
    "mask = np.zeros_like(corr_matrix)\n",
    "mask[np.triu_indices_from(mask)] = True\n",
    "sns.heatmap(corr_matrix, mask = mask, annot = True, vmin = -1, vmax = 1, \n",
    "            cmap = sns.diverging_palette(20, 220, as_cmap=True))\n",
    "plt.show()"
   ]
  },
  {
   "cell_type": "markdown",
   "metadata": {},
   "source": [
    "## Machine Learning Pipeline"
   ]
  },
  {
   "cell_type": "markdown",
   "metadata": {},
   "source": [
    "First, I will import necessary packages and modules from scikit-learn."
   ]
  },
  {
   "cell_type": "code",
   "execution_count": 21,
   "metadata": {},
   "outputs": [],
   "source": [
    "# importing scikit-learn packages\n",
    "from sklearn.linear_model import LogisticRegression\n",
    "from sklearn.naive_bayes import GaussianNB\n",
    "from sklearn.model_selection import train_test_split\n",
    "from sklearn.impute import SimpleImputer\n",
    "from sklearn.preprocessing import OneHotEncoder\n",
    "from sklearn.preprocessing import StandardScaler\n",
    "from sklearn.feature_extraction.text import CountVectorizer\n",
    "from sklearn.compose import make_column_transformer\n",
    "from sklearn.pipeline import make_pipeline"
   ]
  },
  {
   "cell_type": "markdown",
   "metadata": {},
   "source": [
    "Dividing dataset into features and target variables."
   ]
  },
  {
   "cell_type": "code",
   "execution_count": 22,
   "metadata": {},
   "outputs": [
    {
     "name": "stdout",
     "output_type": "stream",
     "text": [
      "(1309, 6)\n",
      "(1309,)\n"
     ]
    }
   ],
   "source": [
    "# features\n",
    "X = titanic_data[[\"sex\", \"pclass\", \"embarked\", \"ticket\", \"parch\", \"fare\"]]\n",
    "print(X.shape)\n",
    "\n",
    "# target\n",
    "y = titanic_data[\"survived\"]\n",
    "print(y.shape)"
   ]
  },
  {
   "cell_type": "markdown",
   "metadata": {},
   "source": [
    "Splitting arrays into training and testing sets. I will be using about 20% for final true holdout set."
   ]
  },
  {
   "cell_type": "code",
   "execution_count": 23,
   "metadata": {},
   "outputs": [
    {
     "name": "stdout",
     "output_type": "stream",
     "text": [
      "X_train: 1047 X_test: 262 y_train: 1047 y_test: 262\n"
     ]
    }
   ],
   "source": [
    "# splitting the data using K-Folds Cross Validation\n",
    "X_train, X_test, y_train, y_test = train_test_split(X, y, test_size = 0.2, random_state = 1, shuffle = True)\n",
    "print(\"X_train:\", len(X_train), \"X_test:\", len(X_test),\n",
    "      \"y_train:\", len(X_train), \"y_test:\", len(X_test))"
   ]
  },
  {
   "cell_type": "markdown",
   "metadata": {},
   "source": [
    "Importing imputer and encoding classes from scikit-learn."
   ]
  },
  {
   "cell_type": "code",
   "execution_count": 24,
   "metadata": {},
   "outputs": [],
   "source": [
    "# creating Simple Imputer, OneHot Encoder, and Standard Scaler objects\n",
    "simple_imp = SimpleImputer(strategy = \"median\")\n",
    "constant_imp = SimpleImputer(strategy = \"most_frequent\")\n",
    "ohe = OneHotEncoder(handle_unknown = \"ignore\")\n",
    "scaler = StandardScaler()"
   ]
  },
  {
   "cell_type": "code",
   "execution_count": 25,
   "metadata": {},
   "outputs": [
    {
     "data": {
      "text/plain": [
       "Row            int64\n",
       "pclass        object\n",
       "survived       int64\n",
       "name          object\n",
       "sex           object\n",
       "age          float64\n",
       "sibsp          int64\n",
       "parch          int64\n",
       "ticket        object\n",
       "fare         float64\n",
       "cabin         object\n",
       "embarked      object\n",
       "home.dest     object\n",
       "dtype: object"
      ]
     },
     "execution_count": 25,
     "metadata": {},
     "output_type": "execute_result"
    }
   ],
   "source": [
    "# listing column types\n",
    "titanic_data.dtypes"
   ]
  },
  {
   "cell_type": "markdown",
   "metadata": {},
   "source": [
    "Creating pipelines for catergorical and numerical variables."
   ]
  },
  {
   "cell_type": "code",
   "execution_count": 26,
   "metadata": {},
   "outputs": [],
   "source": [
    "# creating pipeline for categorical variable transformations\n",
    "imp_ohe = make_pipeline(constant_imp, ohe)"
   ]
  },
  {
   "cell_type": "code",
   "execution_count": 27,
   "metadata": {},
   "outputs": [],
   "source": [
    "# creating pipeline for numerical variable transformations\n",
    "imp_std = make_pipeline(simple_imp, scaler)"
   ]
  },
  {
   "cell_type": "markdown",
   "metadata": {},
   "source": [
    "Creating a column transformer to facilitate variable transformations."
   ]
  },
  {
   "cell_type": "code",
   "execution_count": 28,
   "metadata": {},
   "outputs": [],
   "source": [
    "# transforming variables using a column transformer\n",
    "ct_imputer = make_column_transformer(\n",
    "    (imp_ohe, [\"sex\", \"pclass\", \"embarked\", \"ticket\"]),\n",
    "    (imp_std, [\"parch\", \"fare\"])\n",
    ")"
   ]
  },
  {
   "cell_type": "code",
   "execution_count": 29,
   "metadata": {},
   "outputs": [],
   "source": [
    "# creating an instance of logistic regression classifier\n",
    "logreg = LogisticRegression()"
   ]
  },
  {
   "cell_type": "markdown",
   "metadata": {},
   "source": [
    "Creating a pipeline using a logistic regression model."
   ]
  },
  {
   "cell_type": "code",
   "execution_count": 30,
   "metadata": {},
   "outputs": [
    {
     "data": {
      "text/plain": [
       "Pipeline(steps=[('columntransformer',\n",
       "                 ColumnTransformer(transformers=[('pipeline-1',\n",
       "                                                  Pipeline(steps=[('simpleimputer',\n",
       "                                                                   SimpleImputer(strategy='most_frequent')),\n",
       "                                                                  ('onehotencoder',\n",
       "                                                                   OneHotEncoder(handle_unknown='ignore'))]),\n",
       "                                                  ['sex', 'pclass', 'embarked',\n",
       "                                                   'ticket']),\n",
       "                                                 ('pipeline-2',\n",
       "                                                  Pipeline(steps=[('simpleimputer',\n",
       "                                                                   SimpleImputer(strategy='median')),\n",
       "                                                                  ('standardscaler',\n",
       "                                                                   StandardScaler())]),\n",
       "                                                  ['parch', 'fare'])])),\n",
       "                ('logisticregression', LogisticRegression())])"
      ]
     },
     "execution_count": 30,
     "metadata": {},
     "output_type": "execute_result"
    }
   ],
   "source": [
    "# creating a pipeline\n",
    "pipe = make_pipeline(ct_imputer, logreg)\n",
    "pipe.fit(X_train, y_train)"
   ]
  },
  {
   "cell_type": "code",
   "execution_count": 31,
   "metadata": {},
   "outputs": [
    {
     "data": {
      "text/plain": [
       "0.804"
      ]
     },
     "execution_count": 31,
     "metadata": {},
     "output_type": "execute_result"
    }
   ],
   "source": [
    "# using cross val score function to test model accuracy\n",
    "from sklearn.model_selection import cross_val_score\n",
    "round(cross_val_score(pipe, X, y, cv = 5, scoring = \"accuracy\").mean(), 3)"
   ]
  },
  {
   "cell_type": "code",
   "execution_count": 32,
   "metadata": {},
   "outputs": [
    {
     "data": {
      "text/plain": [
       "dict_keys(['columntransformer', 'logisticregression'])"
      ]
     },
     "execution_count": 32,
     "metadata": {},
     "output_type": "execute_result"
    }
   ],
   "source": [
    "# retrieving named steps in the pipeline\n",
    "pipe.named_steps.keys()"
   ]
  },
  {
   "cell_type": "markdown",
   "metadata": {},
   "source": [
    "Hyperparamter tuning is important so I will specify a few parameters to use in a grid search."
   ]
  },
  {
   "cell_type": "code",
   "execution_count": 33,
   "metadata": {},
   "outputs": [],
   "source": [
    "# specifying hypertuning parameters to use in a grid search\n",
    "params = {}\n",
    "params[\"logisticregression__penalty\"] = [\"l1\", \"l2\"]\n",
    "params[\"logisticregression__random_state\"] = [1]\n",
    "params[\"logisticregression__solver\"] = [\"liblinear\"]"
   ]
  },
  {
   "cell_type": "code",
   "execution_count": 34,
   "metadata": {},
   "outputs": [],
   "source": [
    "# creating grid search CV instance\n",
    "from sklearn.model_selection import GridSearchCV\n",
    "grid = GridSearchCV(pipe, params, cv = 5, scoring = \"accuracy\")\n",
    "grid.fit(X, y);"
   ]
  },
  {
   "cell_type": "code",
   "execution_count": 35,
   "metadata": {},
   "outputs": [
    {
     "data": {
      "text/html": [
       "<div>\n",
       "<style scoped>\n",
       "    .dataframe tbody tr th:only-of-type {\n",
       "        vertical-align: middle;\n",
       "    }\n",
       "\n",
       "    .dataframe tbody tr th {\n",
       "        vertical-align: top;\n",
       "    }\n",
       "\n",
       "    .dataframe thead th {\n",
       "        text-align: right;\n",
       "    }\n",
       "</style>\n",
       "<table border=\"1\" class=\"dataframe\">\n",
       "  <thead>\n",
       "    <tr style=\"text-align: right;\">\n",
       "      <th></th>\n",
       "      <th>mean_fit_time</th>\n",
       "      <th>std_fit_time</th>\n",
       "      <th>mean_score_time</th>\n",
       "      <th>std_score_time</th>\n",
       "      <th>param_logisticregression__penalty</th>\n",
       "      <th>param_logisticregression__random_state</th>\n",
       "      <th>param_logisticregression__solver</th>\n",
       "      <th>params</th>\n",
       "      <th>split0_test_score</th>\n",
       "      <th>split1_test_score</th>\n",
       "      <th>split2_test_score</th>\n",
       "      <th>split3_test_score</th>\n",
       "      <th>split4_test_score</th>\n",
       "      <th>mean_test_score</th>\n",
       "      <th>std_test_score</th>\n",
       "      <th>rank_test_score</th>\n",
       "    </tr>\n",
       "  </thead>\n",
       "  <tbody>\n",
       "    <tr>\n",
       "      <th>0</th>\n",
       "      <td>0.026607</td>\n",
       "      <td>0.003239</td>\n",
       "      <td>0.013267</td>\n",
       "      <td>0.003791</td>\n",
       "      <td>l2</td>\n",
       "      <td>1</td>\n",
       "      <td>liblinear</td>\n",
       "      <td>{'logisticregression__penalty': 'l2', 'logisti...</td>\n",
       "      <td>0.809160</td>\n",
       "      <td>0.793893</td>\n",
       "      <td>0.801527</td>\n",
       "      <td>0.816794</td>\n",
       "      <td>0.800766</td>\n",
       "      <td>0.804428</td>\n",
       "      <td>0.007850</td>\n",
       "      <td>1</td>\n",
       "    </tr>\n",
       "    <tr>\n",
       "      <th>1</th>\n",
       "      <td>0.049591</td>\n",
       "      <td>0.017047</td>\n",
       "      <td>0.021712</td>\n",
       "      <td>0.013405</td>\n",
       "      <td>l1</td>\n",
       "      <td>1</td>\n",
       "      <td>liblinear</td>\n",
       "      <td>{'logisticregression__penalty': 'l1', 'logisti...</td>\n",
       "      <td>0.801527</td>\n",
       "      <td>0.786260</td>\n",
       "      <td>0.801527</td>\n",
       "      <td>0.801527</td>\n",
       "      <td>0.793103</td>\n",
       "      <td>0.796789</td>\n",
       "      <td>0.006193</td>\n",
       "      <td>2</td>\n",
       "    </tr>\n",
       "  </tbody>\n",
       "</table>\n",
       "</div>"
      ],
      "text/plain": [
       "   mean_fit_time  std_fit_time  mean_score_time  std_score_time  \\\n",
       "0       0.026607      0.003239         0.013267        0.003791   \n",
       "1       0.049591      0.017047         0.021712        0.013405   \n",
       "\n",
       "  param_logisticregression__penalty param_logisticregression__random_state  \\\n",
       "0                                l2                                      1   \n",
       "1                                l1                                      1   \n",
       "\n",
       "  param_logisticregression__solver  \\\n",
       "0                        liblinear   \n",
       "1                        liblinear   \n",
       "\n",
       "                                              params  split0_test_score  \\\n",
       "0  {'logisticregression__penalty': 'l2', 'logisti...           0.809160   \n",
       "1  {'logisticregression__penalty': 'l1', 'logisti...           0.801527   \n",
       "\n",
       "   split1_test_score  split2_test_score  split3_test_score  split4_test_score  \\\n",
       "0           0.793893           0.801527           0.816794           0.800766   \n",
       "1           0.786260           0.801527           0.801527           0.793103   \n",
       "\n",
       "   mean_test_score  std_test_score  rank_test_score  \n",
       "0         0.804428        0.007850                1  \n",
       "1         0.796789        0.006193                2  "
      ]
     },
     "execution_count": 35,
     "metadata": {},
     "output_type": "execute_result"
    }
   ],
   "source": [
    "# displaying grid search results\n",
    "results = pd.DataFrame(grid.cv_results_).sort_values(\"rank_test_score\").reset_index(drop = True)[:10]\n",
    "results"
   ]
  },
  {
   "cell_type": "code",
   "execution_count": 36,
   "metadata": {},
   "outputs": [
    {
     "name": "stdout",
     "output_type": "stream",
     "text": [
      "best score:\n",
      "0.8\n",
      "\n",
      "\n",
      "best parameters:\n",
      "{'logisticregression__penalty': 'l2', 'logisticregression__random_state': 1, 'logisticregression__solver': 'liblinear'}\n"
     ]
    }
   ],
   "source": [
    "# printing best score and parameters\n",
    "print(\"best score:\", round(grid.best_score_, 2), \"\\n\", \"best parameters:\", grid.best_params_, sep = \"\\n\")"
   ]
  },
  {
   "cell_type": "markdown",
   "metadata": {},
   "source": [
    "The mean test score is about 80%. Let's see how it performs on a true holdout set."
   ]
  },
  {
   "cell_type": "code",
   "execution_count": 37,
   "metadata": {},
   "outputs": [],
   "source": [
    "# predicting passenger survival probabilities\n",
    "pred_probs = grid.predict_proba(X_test)"
   ]
  },
  {
   "cell_type": "code",
   "execution_count": 38,
   "metadata": {},
   "outputs": [],
   "source": [
    "# predicting passenger outcome\n",
    "pred_out = grid.predict(X_test)"
   ]
  },
  {
   "cell_type": "code",
   "execution_count": 39,
   "metadata": {},
   "outputs": [
    {
     "data": {
      "text/html": [
       "<div>\n",
       "<style scoped>\n",
       "    .dataframe tbody tr th:only-of-type {\n",
       "        vertical-align: middle;\n",
       "    }\n",
       "\n",
       "    .dataframe tbody tr th {\n",
       "        vertical-align: top;\n",
       "    }\n",
       "\n",
       "    .dataframe thead th {\n",
       "        text-align: right;\n",
       "    }\n",
       "</style>\n",
       "<table border=\"1\" class=\"dataframe\">\n",
       "  <thead>\n",
       "    <tr style=\"text-align: right;\">\n",
       "      <th></th>\n",
       "      <th>survival</th>\n",
       "      <th>not_survived_prob</th>\n",
       "      <th>survived_prob</th>\n",
       "    </tr>\n",
       "  </thead>\n",
       "  <tbody>\n",
       "    <tr>\n",
       "      <th>0</th>\n",
       "      <td>1</td>\n",
       "      <td>0.20</td>\n",
       "      <td>0.80</td>\n",
       "    </tr>\n",
       "    <tr>\n",
       "      <th>1</th>\n",
       "      <td>1</td>\n",
       "      <td>0.08</td>\n",
       "      <td>0.92</td>\n",
       "    </tr>\n",
       "    <tr>\n",
       "      <th>2</th>\n",
       "      <td>0</td>\n",
       "      <td>0.88</td>\n",
       "      <td>0.12</td>\n",
       "    </tr>\n",
       "    <tr>\n",
       "      <th>3</th>\n",
       "      <td>0</td>\n",
       "      <td>0.72</td>\n",
       "      <td>0.28</td>\n",
       "    </tr>\n",
       "    <tr>\n",
       "      <th>4</th>\n",
       "      <td>0</td>\n",
       "      <td>0.92</td>\n",
       "      <td>0.08</td>\n",
       "    </tr>\n",
       "    <tr>\n",
       "      <th>5</th>\n",
       "      <td>0</td>\n",
       "      <td>0.73</td>\n",
       "      <td>0.27</td>\n",
       "    </tr>\n",
       "    <tr>\n",
       "      <th>6</th>\n",
       "      <td>0</td>\n",
       "      <td>0.70</td>\n",
       "      <td>0.30</td>\n",
       "    </tr>\n",
       "    <tr>\n",
       "      <th>7</th>\n",
       "      <td>0</td>\n",
       "      <td>0.83</td>\n",
       "      <td>0.17</td>\n",
       "    </tr>\n",
       "    <tr>\n",
       "      <th>8</th>\n",
       "      <td>0</td>\n",
       "      <td>0.57</td>\n",
       "      <td>0.43</td>\n",
       "    </tr>\n",
       "    <tr>\n",
       "      <th>9</th>\n",
       "      <td>1</td>\n",
       "      <td>0.18</td>\n",
       "      <td>0.82</td>\n",
       "    </tr>\n",
       "  </tbody>\n",
       "</table>\n",
       "</div>"
      ],
      "text/plain": [
       "   survival  not_survived_prob  survived_prob\n",
       "0         1               0.20           0.80\n",
       "1         1               0.08           0.92\n",
       "2         0               0.88           0.12\n",
       "3         0               0.72           0.28\n",
       "4         0               0.92           0.08\n",
       "5         0               0.73           0.27\n",
       "6         0               0.70           0.30\n",
       "7         0               0.83           0.17\n",
       "8         0               0.57           0.43\n",
       "9         1               0.18           0.82"
      ]
     },
     "execution_count": 39,
     "metadata": {},
     "output_type": "execute_result"
    }
   ],
   "source": [
    "# concatenating target values and prediction probabilities\n",
    "pred_results = pd.DataFrame(pred_probs, columns = [\"not_survived_prob\", \"survived_prob\"])\n",
    "pred_results = pred_results.apply(lambda x: round(x, 2))\n",
    "pred_results.insert(0, \"survival\", pred_out, True)\n",
    "pred_results.head(10)"
   ]
  },
  {
   "cell_type": "code",
   "execution_count": 40,
   "metadata": {},
   "outputs": [
    {
     "data": {
      "image/png": "[encoded data removed]",
      "text/plain": [
       "<Figure size 720x360 with 2 Axes>"
      ]
     },
     "metadata": {},
     "output_type": "display_data"
    }
   ],
   "source": [
    "# creating confusion matrix\n",
    "from sklearn.metrics import confusion_matrix\n",
    "cm = confusion_matrix(y_test, pred_out)\n",
    "\n",
    "plt.figure(figsize = (10,5))\n",
    "sns.heatmap(cm, annot = True, fmt = \".2f\", linewidths = .5, square = True,  cmap = \"Greens_r\");\n",
    "plt.ylabel(\"Actual Label\");\n",
    "plt.xlabel(\"Predicted Label\");\n",
    "plt.title(\"Accuracy Score: {:.2f}\".format(round((cm[0, 0] + cm [1, 1]) / (np.sum(cm)),2)));"
   ]
  },
  {
   "cell_type": "markdown",
   "metadata": {},
   "source": [
    "It performs better on a true holdout set which can happen occasionally.\n",
    "Let's try a Gaussian Naive Bayes classifier now.\n",
    "The majority of the steps are similar."
   ]
  },
  {
   "cell_type": "code",
   "execution_count": 41,
   "metadata": {},
   "outputs": [
    {
     "name": "stdout",
     "output_type": "stream",
     "text": [
      "(1309, 7)\n",
      "(1309,)\n"
     ]
    }
   ],
   "source": [
    "# features\n",
    "X = titanic_data[[\"sex\", \"pclass\", \"embarked\", \"age\", \"sibsp\", \"parch\", \"fare\"]]\n",
    "print(X.shape)\n",
    "\n",
    "# target\n",
    "y = titanic_data[\"survived\"]\n",
    "print(y.shape)"
   ]
  },
  {
   "cell_type": "code",
   "execution_count": 42,
   "metadata": {},
   "outputs": [
    {
     "name": "stdout",
     "output_type": "stream",
     "text": [
      "X_train: 1047 X_test: 262 y_train: 1047 y_test: 262\n"
     ]
    }
   ],
   "source": [
    "# splitting the data using K-Folds Cross Validation\n",
    "X_train, X_test, y_train, y_test = train_test_split(X, y, test_size = 0.2, random_state = 1, shuffle = True)\n",
    "print(\"X_train:\", len(X_train), \"X_test:\", len(X_test),\n",
    "      \"y_train:\", len(X_train), \"y_test:\", len(X_test))"
   ]
  },
  {
   "cell_type": "code",
   "execution_count": 43,
   "metadata": {},
   "outputs": [],
   "source": [
    "# creating an instance of Naive Bayessian classifier\n",
    "gaussian_nb = GaussianNB()"
   ]
  },
  {
   "cell_type": "code",
   "execution_count": 44,
   "metadata": {},
   "outputs": [],
   "source": [
    "# creating Simple Imputer, OneHot Encoder, and Standard Scaler objects\n",
    "simple_imp = SimpleImputer(strategy = \"median\")\n",
    "constant_imp = SimpleImputer(strategy = \"most_frequent\")\n",
    "ohe = OneHotEncoder(handle_unknown = \"ignore\", sparse = False)\n",
    "scaler = StandardScaler()"
   ]
  },
  {
   "cell_type": "code",
   "execution_count": 45,
   "metadata": {},
   "outputs": [],
   "source": [
    "# creating pipeline for categorical variable transformations\n",
    "imp_ohe = make_pipeline(constant_imp, ohe)"
   ]
  },
  {
   "cell_type": "code",
   "execution_count": 46,
   "metadata": {},
   "outputs": [],
   "source": [
    "# creating pipeline for numerical variable transformations\n",
    "imp_std = make_pipeline(simple_imp, scaler)"
   ]
  },
  {
   "cell_type": "code",
   "execution_count": 47,
   "metadata": {},
   "outputs": [],
   "source": [
    "# transforming variables using a column transformer\n",
    "ct_imputer = make_column_transformer(\n",
    "    (imp_ohe, [\"sex\", \"pclass\", \"embarked\"]),\n",
    "    (imp_std, [\"age\", \"sibsp\", \"parch\", \"fare\"])\n",
    ")"
   ]
  },
  {
   "cell_type": "code",
   "execution_count": 48,
   "metadata": {},
   "outputs": [
    {
     "data": {
      "text/plain": [
       "Pipeline(steps=[('columntransformer',\n",
       "                 ColumnTransformer(transformers=[('pipeline-1',\n",
       "                                                  Pipeline(steps=[('simpleimputer',\n",
       "                                                                   SimpleImputer(strategy='most_frequent')),\n",
       "                                                                  ('onehotencoder',\n",
       "                                                                   OneHotEncoder(handle_unknown='ignore',\n",
       "                                                                                 sparse=False))]),\n",
       "                                                  ['sex', 'pclass',\n",
       "                                                   'embarked']),\n",
       "                                                 ('pipeline-2',\n",
       "                                                  Pipeline(steps=[('simpleimputer',\n",
       "                                                                   SimpleImputer(strategy='median')),\n",
       "                                                                  ('standardscaler',\n",
       "                                                                   StandardScaler())]),\n",
       "                                                  ['age', 'sibsp', 'parch',\n",
       "                                                   'fare'])])),\n",
       "                ('gaussiannb', GaussianNB())])"
      ]
     },
     "execution_count": 48,
     "metadata": {},
     "output_type": "execute_result"
    }
   ],
   "source": [
    "# creating a pipeline\n",
    "pipe = make_pipeline(ct_imputer, gaussian_nb)\n",
    "pipe.fit(X_train, y_train)"
   ]
  },
  {
   "cell_type": "code",
   "execution_count": 49,
   "metadata": {},
   "outputs": [],
   "source": [
    "# specifying hypertuning parameters to use in a grid search\n",
    "params = {} # none at the moment"
   ]
  },
  {
   "cell_type": "code",
   "execution_count": 50,
   "metadata": {},
   "outputs": [],
   "source": [
    "# creating grid search CV instance\n",
    "from sklearn.model_selection import GridSearchCV\n",
    "grid = GridSearchCV(pipe, params, cv = 5, scoring = \"accuracy\")\n",
    "grid.fit(X_train, y_train);"
   ]
  },
  {
   "cell_type": "code",
   "execution_count": 51,
   "metadata": {},
   "outputs": [
    {
     "data": {
      "text/html": [
       "<div>\n",
       "<style scoped>\n",
       "    .dataframe tbody tr th:only-of-type {\n",
       "        vertical-align: middle;\n",
       "    }\n",
       "\n",
       "    .dataframe tbody tr th {\n",
       "        vertical-align: top;\n",
       "    }\n",
       "\n",
       "    .dataframe thead th {\n",
       "        text-align: right;\n",
       "    }\n",
       "</style>\n",
       "<table border=\"1\" class=\"dataframe\">\n",
       "  <thead>\n",
       "    <tr style=\"text-align: right;\">\n",
       "      <th></th>\n",
       "      <th>mean_fit_time</th>\n",
       "      <th>std_fit_time</th>\n",
       "      <th>mean_score_time</th>\n",
       "      <th>std_score_time</th>\n",
       "      <th>params</th>\n",
       "      <th>split0_test_score</th>\n",
       "      <th>split1_test_score</th>\n",
       "      <th>split2_test_score</th>\n",
       "      <th>split3_test_score</th>\n",
       "      <th>split4_test_score</th>\n",
       "      <th>mean_test_score</th>\n",
       "      <th>std_test_score</th>\n",
       "      <th>rank_test_score</th>\n",
       "    </tr>\n",
       "  </thead>\n",
       "  <tbody>\n",
       "    <tr>\n",
       "      <th>0</th>\n",
       "      <td>0.027879</td>\n",
       "      <td>0.01939</td>\n",
       "      <td>0.011752</td>\n",
       "      <td>0.006888</td>\n",
       "      <td>{}</td>\n",
       "      <td>0.795238</td>\n",
       "      <td>0.809524</td>\n",
       "      <td>0.779904</td>\n",
       "      <td>0.746411</td>\n",
       "      <td>0.779904</td>\n",
       "      <td>0.782196</td>\n",
       "      <td>0.021014</td>\n",
       "      <td>1</td>\n",
       "    </tr>\n",
       "  </tbody>\n",
       "</table>\n",
       "</div>"
      ],
      "text/plain": [
       "   mean_fit_time  std_fit_time  mean_score_time  std_score_time params  \\\n",
       "0       0.027879       0.01939         0.011752        0.006888     {}   \n",
       "\n",
       "   split0_test_score  split1_test_score  split2_test_score  split3_test_score  \\\n",
       "0           0.795238           0.809524           0.779904           0.746411   \n",
       "\n",
       "   split4_test_score  mean_test_score  std_test_score  rank_test_score  \n",
       "0           0.779904         0.782196        0.021014                1  "
      ]
     },
     "execution_count": 51,
     "metadata": {},
     "output_type": "execute_result"
    }
   ],
   "source": [
    "# displaying grid search results\n",
    "results = pd.DataFrame(grid.cv_results_).sort_values(\"rank_test_score\").reset_index(drop = True)[:10]\n",
    "results"
   ]
  },
  {
   "cell_type": "code",
   "execution_count": 52,
   "metadata": {},
   "outputs": [
    {
     "name": "stdout",
     "output_type": "stream",
     "text": [
      "best score:\n",
      "0.78\n",
      "\n",
      "\n",
      "best parameters:\n",
      "{}\n"
     ]
    }
   ],
   "source": [
    "# printing best score and parameters\n",
    "print(\"best score:\", round(grid.best_score_, 2), \"\\n\", \"best parameters:\", grid.best_params_, sep = \"\\n\")"
   ]
  },
  {
   "cell_type": "markdown",
   "metadata": {},
   "source": [
    "The mean test score is about 78%. It's barely lower on average than the logistic regression classifier.\n",
    "Let's try some predictions on the true holdout set."
   ]
  },
  {
   "cell_type": "code",
   "execution_count": 53,
   "metadata": {},
   "outputs": [],
   "source": [
    "# predicting passenger outcome\n",
    "pred_out = grid.predict(X_test)"
   ]
  },
  {
   "cell_type": "code",
   "execution_count": 54,
   "metadata": {},
   "outputs": [
    {
     "data": {
      "image/png": "[encoded data removed]",
      "text/plain": [
       "<Figure size 720x360 with 2 Axes>"
      ]
     },
     "metadata": {},
     "output_type": "display_data"
    }
   ],
   "source": [
    "# creating confusion matrix\n",
    "from sklearn.metrics import confusion_matrix\n",
    "cm = confusion_matrix(y_test, pred_out)\n",
    "\n",
    "plt.figure(figsize = (10,5))\n",
    "sns.heatmap(cm, annot = True, fmt = \".2f\", linewidths = .5, square = True,  cmap = \"Greens_r\");\n",
    "plt.ylabel(\"Actual Label\");\n",
    "plt.xlabel(\"Predicted Label\");\n",
    "plt.title(\"Accuracy Score: {:.2f}\".format(round((cm[0, 0] + cm [1, 1]) / (np.sum(cm)),2)));"
   ]
  },
  {
   "cell_type": "markdown",
   "metadata": {},
   "source": [
    "The accuracy on the true holdout set is about 77% so lower than the average on the cross validation sets of about 78%. It is important to note that I tried using features with insignificant correlation to the target variable. The reason is the violation of conditional independence between variables using the Naive Bayes classifier. In the end, the model performance is adequate considering we did not perform any parameter tuning for it."
   ]
  }
 ],
 "metadata": {
  "kernelspec": {
   "display_name": "Python 3",
   "language": "python",
   "name": "python3"
  },
  "language_info": {
   "codemirror_mode": {
    "name": "ipython",
    "version": 3
   },
   "file_extension": ".py",
   "mimetype": "text/x-python",
   "name": "python",
   "nbconvert_exporter": "python",
   "pygments_lexer": "ipython3",
   "version": "3.6.9"
  }
 },
 "nbformat": 4,
 "nbformat_minor": 4
}
