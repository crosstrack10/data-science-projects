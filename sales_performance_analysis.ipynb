{
 "cells": [
  {
   "cell_type": "markdown",
   "id": "1591b52a-4026-40c3-8d16-2a7b0a7873fb",
   "metadata": {},
   "source": [
    "# Linear Discriminant analysis (LDA) and Linear Regression Analysis\n",
    "\n",
    "**Exercise: Predict sales performance based on sales drivers data.**  \n",
    "Dataset can be downloaded from my GitHub repository: \n",
    "[dataset](https://raw.githubusercontent.com/crosstrack10/data-science-projects/main/datasets/dataset_2_sales_drivers.txt)"
   ]
  },
  {
   "cell_type": "code",
   "execution_count": 1,
   "id": "a80a94bf-b649-4e15-a805-16987986e33f",
   "metadata": {
    "tags": []
   },
   "outputs": [],
   "source": [
    "# importing libraries\n",
    "import pandas as pd\n",
    "import numpy as np\n",
    "import matplotlib.pyplot as plt\n",
    "import seaborn as sns\n",
    "\n",
    "%matplotlib inline\n",
    "%config Completer.use_jedi = False"
   ]
  },
  {
   "cell_type": "code",
   "execution_count": 2,
   "id": "a26a7318-18f1-4132-a49b-c52ce73dff5e",
   "metadata": {
    "tags": []
   },
   "outputs": [],
   "source": [
    "# reading in training dataset from github repository\n",
    "url = \"https://raw.githubusercontent.com/crosstrack10/data-science-projects/main/datasets/dataset_2_sales_drivers.txt\"\n",
    "sales_drivers_data = pd.read_csv(url, sep = \"\\t\")"
   ]
  },
  {
   "cell_type": "code",
   "execution_count": 3,
   "id": "8c51f458-2ade-4894-90e1-e1d2d5094fc9",
   "metadata": {},
   "outputs": [],
   "source": [
    "# shuffling dataset\n",
    "sales_drivers_data = sales_drivers_data.sample(frac = 1).reset_index(drop = True)"
   ]
  },
  {
   "cell_type": "code",
   "execution_count": 4,
   "id": "5d6170bd-cd51-4739-ba86-3924f7e996fc",
   "metadata": {},
   "outputs": [
    {
     "data": {
      "text/html": [
       "<div>\n",
       "<style scoped>\n",
       "    .dataframe tbody tr th:only-of-type {\n",
       "        vertical-align: middle;\n",
       "    }\n",
       "\n",
       "    .dataframe tbody tr th {\n",
       "        vertical-align: top;\n",
       "    }\n",
       "\n",
       "    .dataframe thead th {\n",
       "        text-align: right;\n",
       "    }\n",
       "</style>\n",
       "<table border=\"1\" class=\"dataframe\">\n",
       "  <thead>\n",
       "    <tr style=\"text-align: right;\">\n",
       "      <th></th>\n",
       "      <th>Closed_Flag</th>\n",
       "      <th>Closed_Deal</th>\n",
       "      <th>Lead_Source</th>\n",
       "      <th>Foll_Up_Calls</th>\n",
       "      <th>Criteria_Met</th>\n",
       "      <th>Sales_Office</th>\n",
       "      <th>Numeric_Lead_Source</th>\n",
       "      <th>Numeric_Sales_Office</th>\n",
       "    </tr>\n",
       "  </thead>\n",
       "  <tbody>\n",
       "    <tr>\n",
       "      <th>0</th>\n",
       "      <td>0</td>\n",
       "      <td>No</td>\n",
       "      <td>Trade Show</td>\n",
       "      <td>4</td>\n",
       "      <td>2</td>\n",
       "      <td>South</td>\n",
       "      <td>0</td>\n",
       "      <td>0</td>\n",
       "    </tr>\n",
       "    <tr>\n",
       "      <th>1</th>\n",
       "      <td>0</td>\n",
       "      <td>No</td>\n",
       "      <td>Marketing Campaign</td>\n",
       "      <td>2</td>\n",
       "      <td>4</td>\n",
       "      <td>North</td>\n",
       "      <td>1</td>\n",
       "      <td>1</td>\n",
       "    </tr>\n",
       "    <tr>\n",
       "      <th>2</th>\n",
       "      <td>0</td>\n",
       "      <td>No</td>\n",
       "      <td>Marketing Campaign</td>\n",
       "      <td>5</td>\n",
       "      <td>2</td>\n",
       "      <td>South</td>\n",
       "      <td>1</td>\n",
       "      <td>0</td>\n",
       "    </tr>\n",
       "    <tr>\n",
       "      <th>3</th>\n",
       "      <td>0</td>\n",
       "      <td>No</td>\n",
       "      <td>Marketing Campaign</td>\n",
       "      <td>3</td>\n",
       "      <td>1</td>\n",
       "      <td>South</td>\n",
       "      <td>1</td>\n",
       "      <td>0</td>\n",
       "    </tr>\n",
       "    <tr>\n",
       "      <th>4</th>\n",
       "      <td>0</td>\n",
       "      <td>No</td>\n",
       "      <td>Trade Show</td>\n",
       "      <td>2</td>\n",
       "      <td>2</td>\n",
       "      <td>North</td>\n",
       "      <td>0</td>\n",
       "      <td>1</td>\n",
       "    </tr>\n",
       "  </tbody>\n",
       "</table>\n",
       "</div>"
      ],
      "text/plain": [
       "   Closed_Flag Closed_Deal         Lead_Source  Foll_Up_Calls  Criteria_Met  \\\n",
       "0            0          No          Trade Show              4             2   \n",
       "1            0          No  Marketing Campaign              2             4   \n",
       "2            0          No  Marketing Campaign              5             2   \n",
       "3            0          No  Marketing Campaign              3             1   \n",
       "4            0          No          Trade Show              2             2   \n",
       "\n",
       "  Sales_Office  Numeric_Lead_Source  Numeric_Sales_Office  \n",
       "0        South                    0                     0  \n",
       "1        North                    1                     1  \n",
       "2        South                    1                     0  \n",
       "3        South                    1                     0  \n",
       "4        North                    0                     1  "
      ]
     },
     "execution_count": 4,
     "metadata": {},
     "output_type": "execute_result"
    }
   ],
   "source": [
    "# first five rows\n",
    "sales_drivers_data.head()"
   ]
  },
  {
   "cell_type": "code",
   "execution_count": 5,
   "id": "d651195b-67f5-4ef0-b692-5e208f5d8092",
   "metadata": {},
   "outputs": [
    {
     "name": "stdout",
     "output_type": "stream",
     "text": [
      "<class 'pandas.core.frame.DataFrame'>\n",
      "RangeIndex: 235 entries, 0 to 234\n",
      "Data columns (total 8 columns):\n",
      " #   Column                Non-Null Count  Dtype \n",
      "---  ------                --------------  ----- \n",
      " 0   Closed_Flag           235 non-null    int64 \n",
      " 1   Closed_Deal           235 non-null    object\n",
      " 2   Lead_Source           235 non-null    object\n",
      " 3   Foll_Up_Calls         235 non-null    int64 \n",
      " 4   Criteria_Met          235 non-null    int64 \n",
      " 5   Sales_Office          235 non-null    object\n",
      " 6   Numeric_Lead_Source   235 non-null    int64 \n",
      " 7   Numeric_Sales_Office  235 non-null    int64 \n",
      "dtypes: int64(5), object(3)\n",
      "memory usage: 14.8+ KB\n"
     ]
    }
   ],
   "source": [
    "# general variable info\n",
    "sales_drivers_data.info()"
   ]
  },
  {
   "cell_type": "code",
   "execution_count": 6,
   "id": "ef72646f-5f2b-400a-822c-f86f2bf5bacd",
   "metadata": {},
   "outputs": [
    {
     "data": {
      "text/plain": [
       "Series([], dtype: int64)"
      ]
     },
     "execution_count": 6,
     "metadata": {},
     "output_type": "execute_result"
    }
   ],
   "source": [
    "# counting number of nulls\n",
    "null_count = sales_drivers_data.isna().sum()\n",
    "null_count[null_count > 0].sort_values(ascending = False)"
   ]
  },
  {
   "cell_type": "code",
   "execution_count": 7,
   "id": "da0ee153-d6e6-4b01-a7d2-5f00b1834685",
   "metadata": {},
   "outputs": [
    {
     "name": "stdout",
     "output_type": "stream",
     "text": [
      "Closed_Flag\n",
      "Closed_Deal\n",
      "Lead_Source\n",
      "Foll_Up_Calls\n",
      "Criteria_Met\n",
      "Sales_Office\n",
      "Numeric_Lead_Source\n",
      "Numeric_Sales_Office\n"
     ]
    }
   ],
   "source": [
    "# printing column names\n",
    "for col in sales_drivers_data.columns:\n",
    "        print(col)"
   ]
  },
  {
   "cell_type": "code",
   "execution_count": 8,
   "id": "87edb7f9-171e-45d7-9ff4-f72cffb94865",
   "metadata": {},
   "outputs": [
    {
     "data": {
      "text/html": [
       "<div>\n",
       "<style scoped>\n",
       "    .dataframe tbody tr th:only-of-type {\n",
       "        vertical-align: middle;\n",
       "    }\n",
       "\n",
       "    .dataframe tbody tr th {\n",
       "        vertical-align: top;\n",
       "    }\n",
       "\n",
       "    .dataframe thead th {\n",
       "        text-align: right;\n",
       "    }\n",
       "</style>\n",
       "<table border=\"1\" class=\"dataframe\">\n",
       "  <thead>\n",
       "    <tr style=\"text-align: right;\">\n",
       "      <th></th>\n",
       "      <th>Closed_Flag</th>\n",
       "      <th>Foll_Up_Calls</th>\n",
       "      <th>Criteria_Met</th>\n",
       "      <th>Numeric_Lead_Source</th>\n",
       "      <th>Numeric_Sales_Office</th>\n",
       "    </tr>\n",
       "  </thead>\n",
       "  <tbody>\n",
       "    <tr>\n",
       "      <th>count</th>\n",
       "      <td>235.000000</td>\n",
       "      <td>235.000000</td>\n",
       "      <td>235.000000</td>\n",
       "      <td>235.000000</td>\n",
       "      <td>235.000000</td>\n",
       "    </tr>\n",
       "    <tr>\n",
       "      <th>mean</th>\n",
       "      <td>0.076596</td>\n",
       "      <td>2.965957</td>\n",
       "      <td>2.387234</td>\n",
       "      <td>0.587234</td>\n",
       "      <td>0.480851</td>\n",
       "    </tr>\n",
       "    <tr>\n",
       "      <th>std</th>\n",
       "      <td>0.266517</td>\n",
       "      <td>1.797110</td>\n",
       "      <td>1.867126</td>\n",
       "      <td>0.493382</td>\n",
       "      <td>0.500700</td>\n",
       "    </tr>\n",
       "    <tr>\n",
       "      <th>min</th>\n",
       "      <td>0.000000</td>\n",
       "      <td>0.000000</td>\n",
       "      <td>1.000000</td>\n",
       "      <td>0.000000</td>\n",
       "      <td>0.000000</td>\n",
       "    </tr>\n",
       "    <tr>\n",
       "      <th>25%</th>\n",
       "      <td>0.000000</td>\n",
       "      <td>2.000000</td>\n",
       "      <td>1.000000</td>\n",
       "      <td>0.000000</td>\n",
       "      <td>0.000000</td>\n",
       "    </tr>\n",
       "    <tr>\n",
       "      <th>50%</th>\n",
       "      <td>0.000000</td>\n",
       "      <td>2.000000</td>\n",
       "      <td>2.000000</td>\n",
       "      <td>1.000000</td>\n",
       "      <td>0.000000</td>\n",
       "    </tr>\n",
       "    <tr>\n",
       "      <th>75%</th>\n",
       "      <td>0.000000</td>\n",
       "      <td>4.000000</td>\n",
       "      <td>2.000000</td>\n",
       "      <td>1.000000</td>\n",
       "      <td>1.000000</td>\n",
       "    </tr>\n",
       "    <tr>\n",
       "      <th>max</th>\n",
       "      <td>1.000000</td>\n",
       "      <td>9.000000</td>\n",
       "      <td>10.000000</td>\n",
       "      <td>1.000000</td>\n",
       "      <td>1.000000</td>\n",
       "    </tr>\n",
       "  </tbody>\n",
       "</table>\n",
       "</div>"
      ],
      "text/plain": [
       "       Closed_Flag  Foll_Up_Calls  Criteria_Met  Numeric_Lead_Source  \\\n",
       "count   235.000000     235.000000    235.000000           235.000000   \n",
       "mean      0.076596       2.965957      2.387234             0.587234   \n",
       "std       0.266517       1.797110      1.867126             0.493382   \n",
       "min       0.000000       0.000000      1.000000             0.000000   \n",
       "25%       0.000000       2.000000      1.000000             0.000000   \n",
       "50%       0.000000       2.000000      2.000000             1.000000   \n",
       "75%       0.000000       4.000000      2.000000             1.000000   \n",
       "max       1.000000       9.000000     10.000000             1.000000   \n",
       "\n",
       "       Numeric_Sales_Office  \n",
       "count            235.000000  \n",
       "mean               0.480851  \n",
       "std                0.500700  \n",
       "min                0.000000  \n",
       "25%                0.000000  \n",
       "50%                0.000000  \n",
       "75%                1.000000  \n",
       "max                1.000000  "
      ]
     },
     "execution_count": 8,
     "metadata": {},
     "output_type": "execute_result"
    }
   ],
   "source": [
    "# retrieving general statistics for numerical variables\n",
    "sales_drivers_data.describe()"
   ]
  },
  {
   "cell_type": "code",
   "execution_count": 9,
   "id": "54b92ad1-e381-46f0-981a-6631b87bb475",
   "metadata": {},
   "outputs": [
    {
     "data": {
      "text/plain": [
       "<Figure size 720x360 with 0 Axes>"
      ]
     },
     "metadata": {},
     "output_type": "display_data"
    },
    {
     "data": {
      "image/png": "[encoded data removed]",
      "text/plain": [
       "<Figure size 871.2x792 with 30 Axes>"
      ]
     },
     "metadata": {},
     "output_type": "display_data"
    }
   ],
   "source": [
    "# numerical vairables corrleation and distributions\n",
    "plt.style.use(\"fivethirtyeight\")\n",
    "plt.figure(figsize = (10,5))\n",
    "sns.set_theme(style = \"ticks\")\n",
    "sns.set_palette(sns.color_palette(\"hls\", 8))\n",
    "sns.pairplot(data = sales_drivers_data, diag_kind = \"kde\", height = 2.2, aspect = 1.1)\n",
    "plt.show()"
   ]
  },
  {
   "cell_type": "code",
   "execution_count": 10,
   "id": "78a0c54e-7214-486a-aa94-0111da864fad",
   "metadata": {},
   "outputs": [
    {
     "data": {
      "image/png": "[encoded data removed]",
      "text/plain": [
       "<Figure size 864x432 with 2 Axes>"
      ]
     },
     "metadata": {},
     "output_type": "display_data"
    }
   ],
   "source": [
    "# Creating correlation matrix\n",
    "corr_matrix = sales_drivers_data.corr()\n",
    "\n",
    "# visualizing it\n",
    "plt.figure(figsize = (12,6))\n",
    "mask = np.zeros_like(corr_matrix)\n",
    "mask[np.triu_indices_from(mask)] = True\n",
    "sns.heatmap(corr_matrix, mask = mask, annot = True, vmin = -1, vmax = 1, \n",
    "            cmap = sns.diverging_palette(20, 220, as_cmap=True), fmt = \".2f\")\n",
    "plt.show()"
   ]
  },
  {
   "cell_type": "markdown",
   "id": "0ae70920-ef60-44f3-a738-29874ded5574",
   "metadata": {},
   "source": [
    "## Machine Learning LDA Pipeline"
   ]
  },
  {
   "cell_type": "code",
   "execution_count": 11,
   "id": "3a9d0db0-8e28-4502-99ba-8479cd6abeeb",
   "metadata": {},
   "outputs": [],
   "source": [
    "# importing scikit-learn packages\n",
    "from sklearn.discriminant_analysis import LinearDiscriminantAnalysis\n",
    "from sklearn.linear_model import LinearRegression\n",
    "from sklearn.impute import SimpleImputer\n",
    "from sklearn.compose import make_column_transformer\n",
    "from sklearn.pipeline import make_pipeline\n",
    "from sklearn.model_selection import train_test_split"
   ]
  },
  {
   "cell_type": "code",
   "execution_count": 12,
   "id": "a2f4ad57-72dd-4516-a2b8-4843b2a720d8",
   "metadata": {},
   "outputs": [
    {
     "name": "stdout",
     "output_type": "stream",
     "text": [
      "(235, 4)\n",
      "(235,)\n"
     ]
    }
   ],
   "source": [
    "# features\n",
    "X = sales_drivers_data.iloc[:, [3,4,6,7]]\n",
    "print(X.shape)\n",
    "\n",
    "# label\n",
    "y = sales_drivers_data.Closed_Deal\n",
    "print(y.shape)"
   ]
  },
  {
   "cell_type": "code",
   "execution_count": 13,
   "id": "055486cc-2d2c-4820-a92e-4417f6499d13",
   "metadata": {},
   "outputs": [
    {
     "data": {
      "text/plain": [
       "Foll_Up_Calls           int64\n",
       "Criteria_Met            int64\n",
       "Numeric_Lead_Source     int64\n",
       "Numeric_Sales_Office    int64\n",
       "dtype: object"
      ]
     },
     "execution_count": 13,
     "metadata": {},
     "output_type": "execute_result"
    }
   ],
   "source": [
    "# checking data types\n",
    "X.dtypes"
   ]
  },
  {
   "cell_type": "code",
   "execution_count": 14,
   "id": "b74a0415-6746-4e42-b82d-99e8abfdd1da",
   "metadata": {},
   "outputs": [
    {
     "name": "stdout",
     "output_type": "stream",
     "text": [
      "X_train: 188 X_test: 47 y_train: 188 y_test: 47\n"
     ]
    }
   ],
   "source": [
    "# splitting the data using K-Folds Cross Validation\n",
    "X_train, X_test, y_train, y_test = train_test_split(X, y, test_size=0.2, random_state=1, shuffle=True)\n",
    "print(\"X_train:\", len(X_train), \"X_test:\", len(X_test),\n",
    "      \"y_train:\", len(X_train), \"y_test:\", len(X_test))"
   ]
  },
  {
   "cell_type": "code",
   "execution_count": 15,
   "id": "c2323764-ecc4-48b3-8c88-5748ed3c31f7",
   "metadata": {},
   "outputs": [],
   "source": [
    "# creating simple imputer objects\n",
    "simple_imp = SimpleImputer(strategy = \"median\")"
   ]
  },
  {
   "cell_type": "code",
   "execution_count": 16,
   "id": "45d57744-281e-43e8-8d2b-afa219a8ac5f",
   "metadata": {},
   "outputs": [],
   "source": [
    "# creating pipeline for numerical variable transformations\n",
    "imp_std = make_pipeline(simple_imp)"
   ]
  },
  {
   "cell_type": "code",
   "execution_count": 17,
   "id": "7550524e-159d-41a3-a56c-2a9ef8d19d35",
   "metadata": {},
   "outputs": [],
   "source": [
    "# transforming variables using a column transformer\n",
    "ct_imputer = make_column_transformer(\n",
    "    (imp_std, [\"Foll_Up_Calls\", \"Criteria_Met\", \"Numeric_Lead_Source\", \"Numeric_Sales_Office\"])\n",
    ")"
   ]
  },
  {
   "cell_type": "code",
   "execution_count": 18,
   "id": "098f4ade-8860-422b-95d6-0f5da5d6f6a9",
   "metadata": {},
   "outputs": [],
   "source": [
    "# creating instance of linear discriminant analysis\n",
    "lda = LinearDiscriminantAnalysis()"
   ]
  },
  {
   "cell_type": "code",
   "execution_count": 19,
   "id": "df11033b-143e-4830-adfb-f596d5c2b335",
   "metadata": {},
   "outputs": [
    {
     "data": {
      "text/plain": [
       "Pipeline(steps=[('columntransformer',\n",
       "                 ColumnTransformer(transformers=[('pipeline',\n",
       "                                                  Pipeline(steps=[('simpleimputer',\n",
       "                                                                   SimpleImputer(strategy='median'))]),\n",
       "                                                  ['Foll_Up_Calls',\n",
       "                                                   'Criteria_Met',\n",
       "                                                   'Numeric_Lead_Source',\n",
       "                                                   'Numeric_Sales_Office'])])),\n",
       "                ('lineardiscriminantanalysis', LinearDiscriminantAnalysis())])"
      ]
     },
     "execution_count": 19,
     "metadata": {},
     "output_type": "execute_result"
    }
   ],
   "source": [
    "# creating a pipeline\n",
    "pipe = make_pipeline(ct_imputer, lda)\n",
    "pipe.fit(X_train, y_train)"
   ]
  },
  {
   "cell_type": "code",
   "execution_count": 20,
   "id": "67f7d999-f9e8-4c25-8ebe-8a151a502574",
   "metadata": {},
   "outputs": [
    {
     "data": {
      "text/plain": [
       "0.995"
      ]
     },
     "execution_count": 20,
     "metadata": {},
     "output_type": "execute_result"
    }
   ],
   "source": [
    "# using cross val score function to test model accuracy\n",
    "from sklearn.model_selection import cross_val_score\n",
    "round(cross_val_score(pipe, X_train, y_train, cv = 5, scoring = \"accuracy\").mean(), 3)"
   ]
  },
  {
   "cell_type": "code",
   "execution_count": 21,
   "id": "90a4921a-b1ad-4f67-953a-c6be55f206bb",
   "metadata": {},
   "outputs": [
    {
     "data": {
      "text/plain": [
       "dict_keys(['columntransformer', 'lineardiscriminantanalysis'])"
      ]
     },
     "execution_count": 21,
     "metadata": {},
     "output_type": "execute_result"
    }
   ],
   "source": [
    "# retrieving named steps in the pipeline\n",
    "pipe.named_steps.keys()"
   ]
  },
  {
   "cell_type": "code",
   "execution_count": 22,
   "id": "66e163dc-b84f-4a3a-8c5d-fabded877c5c",
   "metadata": {},
   "outputs": [],
   "source": [
    "# specifying hypertuning parameters to use in a grid search\n",
    "params = {}\n",
    "params[\"lineardiscriminantanalysis__solver\"] = [\"svd\", \"lsqr\", \"eigen\"]"
   ]
  },
  {
   "cell_type": "code",
   "execution_count": 23,
   "id": "bdd889f2-5571-4c54-b30f-f748a53f41d9",
   "metadata": {},
   "outputs": [
    {
     "name": "stdout",
     "output_type": "stream",
     "text": [
      "Training time: 0.46181154251098633s\n"
     ]
    }
   ],
   "source": [
    "# creating grid search CV instance\n",
    "from sklearn.model_selection import GridSearchCV\n",
    "\n",
    "# timing training time\n",
    "import time\n",
    "start = time.time()\n",
    "grid = GridSearchCV(pipe, params, cv = 5, scoring = \"accuracy\")\n",
    "grid.fit(X_train, y_train);\n",
    "stop = time.time()\n",
    "print(f\"Training time: {stop - start}s\")"
   ]
  },
  {
   "cell_type": "code",
   "execution_count": 24,
   "id": "6f7684f7-664b-4d37-8c67-5bfdbfd3bb22",
   "metadata": {},
   "outputs": [
    {
     "data": {
      "text/html": [
       "<div>\n",
       "<style scoped>\n",
       "    .dataframe tbody tr th:only-of-type {\n",
       "        vertical-align: middle;\n",
       "    }\n",
       "\n",
       "    .dataframe tbody tr th {\n",
       "        vertical-align: top;\n",
       "    }\n",
       "\n",
       "    .dataframe thead th {\n",
       "        text-align: right;\n",
       "    }\n",
       "</style>\n",
       "<table border=\"1\" class=\"dataframe\">\n",
       "  <thead>\n",
       "    <tr style=\"text-align: right;\">\n",
       "      <th></th>\n",
       "      <th>mean_fit_time</th>\n",
       "      <th>std_fit_time</th>\n",
       "      <th>mean_score_time</th>\n",
       "      <th>std_score_time</th>\n",
       "      <th>param_lineardiscriminantanalysis__solver</th>\n",
       "      <th>params</th>\n",
       "      <th>split0_test_score</th>\n",
       "      <th>split1_test_score</th>\n",
       "      <th>split2_test_score</th>\n",
       "      <th>split3_test_score</th>\n",
       "      <th>split4_test_score</th>\n",
       "      <th>mean_test_score</th>\n",
       "      <th>std_test_score</th>\n",
       "      <th>rank_test_score</th>\n",
       "    </tr>\n",
       "  </thead>\n",
       "  <tbody>\n",
       "    <tr>\n",
       "      <th>0</th>\n",
       "      <td>0.025629</td>\n",
       "      <td>0.008356</td>\n",
       "      <td>0.009494</td>\n",
       "      <td>0.002340</td>\n",
       "      <td>svd</td>\n",
       "      <td>{'lineardiscriminantanalysis__solver': 'svd'}</td>\n",
       "      <td>1.0</td>\n",
       "      <td>1.0</td>\n",
       "      <td>1.0</td>\n",
       "      <td>1.0</td>\n",
       "      <td>0.972973</td>\n",
       "      <td>0.994595</td>\n",
       "      <td>0.010811</td>\n",
       "      <td>1</td>\n",
       "    </tr>\n",
       "    <tr>\n",
       "      <th>1</th>\n",
       "      <td>0.015525</td>\n",
       "      <td>0.001480</td>\n",
       "      <td>0.007240</td>\n",
       "      <td>0.000754</td>\n",
       "      <td>lsqr</td>\n",
       "      <td>{'lineardiscriminantanalysis__solver': 'lsqr'}</td>\n",
       "      <td>1.0</td>\n",
       "      <td>1.0</td>\n",
       "      <td>1.0</td>\n",
       "      <td>1.0</td>\n",
       "      <td>0.972973</td>\n",
       "      <td>0.994595</td>\n",
       "      <td>0.010811</td>\n",
       "      <td>1</td>\n",
       "    </tr>\n",
       "    <tr>\n",
       "      <th>2</th>\n",
       "      <td>0.015152</td>\n",
       "      <td>0.000971</td>\n",
       "      <td>0.005957</td>\n",
       "      <td>0.000717</td>\n",
       "      <td>eigen</td>\n",
       "      <td>{'lineardiscriminantanalysis__solver': 'eigen'}</td>\n",
       "      <td>1.0</td>\n",
       "      <td>1.0</td>\n",
       "      <td>1.0</td>\n",
       "      <td>1.0</td>\n",
       "      <td>0.972973</td>\n",
       "      <td>0.994595</td>\n",
       "      <td>0.010811</td>\n",
       "      <td>1</td>\n",
       "    </tr>\n",
       "  </tbody>\n",
       "</table>\n",
       "</div>"
      ],
      "text/plain": [
       "   mean_fit_time  std_fit_time  mean_score_time  std_score_time  \\\n",
       "0       0.025629      0.008356         0.009494        0.002340   \n",
       "1       0.015525      0.001480         0.007240        0.000754   \n",
       "2       0.015152      0.000971         0.005957        0.000717   \n",
       "\n",
       "  param_lineardiscriminantanalysis__solver  \\\n",
       "0                                      svd   \n",
       "1                                     lsqr   \n",
       "2                                    eigen   \n",
       "\n",
       "                                            params  split0_test_score  \\\n",
       "0    {'lineardiscriminantanalysis__solver': 'svd'}                1.0   \n",
       "1   {'lineardiscriminantanalysis__solver': 'lsqr'}                1.0   \n",
       "2  {'lineardiscriminantanalysis__solver': 'eigen'}                1.0   \n",
       "\n",
       "   split1_test_score  split2_test_score  split3_test_score  split4_test_score  \\\n",
       "0                1.0                1.0                1.0           0.972973   \n",
       "1                1.0                1.0                1.0           0.972973   \n",
       "2                1.0                1.0                1.0           0.972973   \n",
       "\n",
       "   mean_test_score  std_test_score  rank_test_score  \n",
       "0         0.994595        0.010811                1  \n",
       "1         0.994595        0.010811                1  \n",
       "2         0.994595        0.010811                1  "
      ]
     },
     "execution_count": 24,
     "metadata": {},
     "output_type": "execute_result"
    }
   ],
   "source": [
    "# displaying grid search results\n",
    "results = pd.DataFrame(grid.cv_results_).sort_values(\"rank_test_score\").reset_index(drop = True)[:10]\n",
    "results"
   ]
  },
  {
   "cell_type": "code",
   "execution_count": 25,
   "id": "8cb5158d-8294-4c6d-bb5c-9adc817457b9",
   "metadata": {},
   "outputs": [
    {
     "name": "stdout",
     "output_type": "stream",
     "text": [
      "best score:\n",
      "0.99\n",
      "\n",
      "\n",
      "best parameters:\n",
      "{'lineardiscriminantanalysis__solver': 'svd'}\n"
     ]
    }
   ],
   "source": [
    "# printing best score and parameters\n",
    "print(\"best score:\", round(grid.best_score_, 2), \"\\n\", \"best parameters:\", grid.best_params_, sep = \"\\n\")"
   ]
  },
  {
   "cell_type": "code",
   "execution_count": 26,
   "id": "b6b15082-4343-4671-9ba5-223e82ad0eb0",
   "metadata": {},
   "outputs": [],
   "source": [
    "# predicting passenger survival probabilities\n",
    "pred_probs = grid.predict_proba(X_test)"
   ]
  },
  {
   "cell_type": "code",
   "execution_count": 27,
   "id": "8d4a46f2-b8b1-43a3-9db9-e54c352d0c0d",
   "metadata": {},
   "outputs": [],
   "source": [
    "# predicting passenger outcome\n",
    "pred_out = grid.predict(X_test)"
   ]
  },
  {
   "cell_type": "code",
   "execution_count": 28,
   "id": "55e54e71-b465-499c-8e69-fbec216e4be6",
   "metadata": {},
   "outputs": [
    {
     "data": {
      "text/html": [
       "<div>\n",
       "<style scoped>\n",
       "    .dataframe tbody tr th:only-of-type {\n",
       "        vertical-align: middle;\n",
       "    }\n",
       "\n",
       "    .dataframe tbody tr th {\n",
       "        vertical-align: top;\n",
       "    }\n",
       "\n",
       "    .dataframe thead th {\n",
       "        text-align: right;\n",
       "    }\n",
       "</style>\n",
       "<table border=\"1\" class=\"dataframe\">\n",
       "  <thead>\n",
       "    <tr style=\"text-align: right;\">\n",
       "      <th></th>\n",
       "      <th>closed_deal</th>\n",
       "      <th>no_prob</th>\n",
       "      <th>yes_prob</th>\n",
       "    </tr>\n",
       "  </thead>\n",
       "  <tbody>\n",
       "    <tr>\n",
       "      <th>0</th>\n",
       "      <td>No</td>\n",
       "      <td>1.0</td>\n",
       "      <td>0.0</td>\n",
       "    </tr>\n",
       "    <tr>\n",
       "      <th>1</th>\n",
       "      <td>No</td>\n",
       "      <td>1.0</td>\n",
       "      <td>0.0</td>\n",
       "    </tr>\n",
       "    <tr>\n",
       "      <th>2</th>\n",
       "      <td>No</td>\n",
       "      <td>1.0</td>\n",
       "      <td>0.0</td>\n",
       "    </tr>\n",
       "    <tr>\n",
       "      <th>3</th>\n",
       "      <td>Yes</td>\n",
       "      <td>0.0</td>\n",
       "      <td>1.0</td>\n",
       "    </tr>\n",
       "    <tr>\n",
       "      <th>4</th>\n",
       "      <td>No</td>\n",
       "      <td>1.0</td>\n",
       "      <td>0.0</td>\n",
       "    </tr>\n",
       "    <tr>\n",
       "      <th>5</th>\n",
       "      <td>No</td>\n",
       "      <td>1.0</td>\n",
       "      <td>0.0</td>\n",
       "    </tr>\n",
       "    <tr>\n",
       "      <th>6</th>\n",
       "      <td>No</td>\n",
       "      <td>1.0</td>\n",
       "      <td>0.0</td>\n",
       "    </tr>\n",
       "    <tr>\n",
       "      <th>7</th>\n",
       "      <td>No</td>\n",
       "      <td>1.0</td>\n",
       "      <td>0.0</td>\n",
       "    </tr>\n",
       "    <tr>\n",
       "      <th>8</th>\n",
       "      <td>No</td>\n",
       "      <td>1.0</td>\n",
       "      <td>0.0</td>\n",
       "    </tr>\n",
       "    <tr>\n",
       "      <th>9</th>\n",
       "      <td>No</td>\n",
       "      <td>1.0</td>\n",
       "      <td>0.0</td>\n",
       "    </tr>\n",
       "  </tbody>\n",
       "</table>\n",
       "</div>"
      ],
      "text/plain": [
       "  closed_deal  no_prob  yes_prob\n",
       "0          No      1.0       0.0\n",
       "1          No      1.0       0.0\n",
       "2          No      1.0       0.0\n",
       "3         Yes      0.0       1.0\n",
       "4          No      1.0       0.0\n",
       "5          No      1.0       0.0\n",
       "6          No      1.0       0.0\n",
       "7          No      1.0       0.0\n",
       "8          No      1.0       0.0\n",
       "9          No      1.0       0.0"
      ]
     },
     "execution_count": 28,
     "metadata": {},
     "output_type": "execute_result"
    }
   ],
   "source": [
    "# concatenating target values and prediction probabilities\n",
    "pred_results = pd.DataFrame(pred_probs, columns = [\"no_prob\", \"yes_prob\"])\n",
    "pred_results = pred_results.apply(lambda x: round(x, 2))\n",
    "pred_results.insert(0, \"closed_deal\", pred_out, True)\n",
    "pred_results.head(10)"
   ]
  },
  {
   "cell_type": "code",
   "execution_count": 29,
   "id": "0814c838-4585-4de8-a72c-a5f8cafe260c",
   "metadata": {},
   "outputs": [],
   "source": [
    "# importing scikitplot for machine learning evaluation metrics\n",
    "import scikitplot as skplt"
   ]
  },
  {
   "cell_type": "code",
   "execution_count": 30,
   "id": "3f8f7755-7d1e-4b0e-a767-feed7bb219e0",
   "metadata": {},
   "outputs": [
    {
     "data": {
      "image/png": "[encoded data removed]",
      "text/plain": [
       "<Figure size 720x360 with 1 Axes>"
      ]
     },
     "metadata": {},
     "output_type": "display_data"
    }
   ],
   "source": [
    "# plotting precision and recall curves\n",
    "plt.style.use(\"ggplot\")\n",
    "skplt.metrics.plot_precision_recall(y_test, pred_probs, figsize = (10,5))\n",
    "plt.legend(facecolor = \"white\")\n",
    "plt.show()"
   ]
  },
  {
   "cell_type": "code",
   "execution_count": 31,
   "id": "0af25915-8053-4799-9a4a-d6726c3516c1",
   "metadata": {},
   "outputs": [
    {
     "data": {
      "image/png": "[encoded data removed]",
      "text/plain": [
       "<Figure size 720x360 with 1 Axes>"
      ]
     },
     "metadata": {},
     "output_type": "display_data"
    }
   ],
   "source": [
    "# plotting ROC curves\n",
    "plt.style.use(\"ggplot\")\n",
    "skplt.metrics.plot_roc(y_test, pred_probs, figsize = (10,5))\n",
    "plt.legend(facecolor = \"white\")\n",
    "plt.show()"
   ]
  },
  {
   "cell_type": "code",
   "execution_count": 32,
   "id": "a0de0228-61a5-4e10-9bc7-57190ecd9d72",
   "metadata": {},
   "outputs": [
    {
     "data": {
      "image/png": "[encoded data removed]",
      "text/plain": [
       "<Figure size 720x360 with 2 Axes>"
      ]
     },
     "metadata": {},
     "output_type": "display_data"
    }
   ],
   "source": [
    "# creating confusion matrix\n",
    "from sklearn.metrics import confusion_matrix\n",
    "cm = confusion_matrix(y_test, pred_out)\n",
    "\n",
    "plt.figure(figsize = (10,5))\n",
    "sns.heatmap(cm, annot = True, fmt = \".2f\", linewidths = .5, square = True,  cmap = \"Greens_r\");\n",
    "plt.ylabel(\"Actual Label\");\n",
    "plt.xlabel(\"Predicted Label\");\n",
    "plt.title(\"Accuracy Score: {:.2f}\".format(round((cm[0, 0] + cm [1, 1]) / (np.sum(cm)),2)));"
   ]
  },
  {
   "cell_type": "code",
   "execution_count": 33,
   "id": "6335bba0-d2e9-4d74-80b2-fef6d32e5bdd",
   "metadata": {},
   "outputs": [
    {
     "name": "stdout",
     "output_type": "stream",
     "text": [
      "Precision Score: 1.00\n",
      "Recall Score: 1.00\n"
     ]
    }
   ],
   "source": [
    "# precision\n",
    "print(\"Precision Score: {:.2f}\".format(round((cm[0, 0] / np.sum(cm[0])),2)))\n",
    "\n",
    "# recall\n",
    "print(\"Recall Score: {:.2f}\".format(round((cm[0, 0] / np.sum(cm[:, 0])),2)))"
   ]
  },
  {
   "cell_type": "markdown",
   "id": "e54d4e60-1f3f-4dc9-a1d7-2135b811b51d",
   "metadata": {},
   "source": [
    "## Machine Learning Linear Regression Pipeline"
   ]
  },
  {
   "cell_type": "code",
   "execution_count": 34,
   "id": "d3256a17-e4ee-4416-aa18-04dd65e0a131",
   "metadata": {},
   "outputs": [
    {
     "name": "stdout",
     "output_type": "stream",
     "text": [
      "(235, 4)\n",
      "(235,)\n"
     ]
    }
   ],
   "source": [
    "# features\n",
    "X = sales_drivers_data.iloc[:, [3,4,6,7]]\n",
    "print(X.shape)\n",
    "\n",
    "# label\n",
    "y = sales_drivers_data.Closed_Flag\n",
    "print(y.shape)"
   ]
  },
  {
   "cell_type": "code",
   "execution_count": 35,
   "id": "ea448946-eb7a-4ad7-b203-8ddb978d15e9",
   "metadata": {},
   "outputs": [
    {
     "data": {
      "text/plain": [
       "Foll_Up_Calls           int64\n",
       "Criteria_Met            int64\n",
       "Numeric_Lead_Source     int64\n",
       "Numeric_Sales_Office    int64\n",
       "dtype: object"
      ]
     },
     "execution_count": 35,
     "metadata": {},
     "output_type": "execute_result"
    }
   ],
   "source": [
    "# checking data types\n",
    "X.dtypes"
   ]
  },
  {
   "cell_type": "code",
   "execution_count": 36,
   "id": "7e618dd5-33d8-4ae0-bd56-de7c5464e43b",
   "metadata": {},
   "outputs": [
    {
     "name": "stdout",
     "output_type": "stream",
     "text": [
      "X_train: 188 X_test: 47 y_train: 188 y_test: 47\n"
     ]
    }
   ],
   "source": [
    "# splitting the data using K-Folds Cross Validation\n",
    "X_train, X_test, y_train, y_test = train_test_split(X, y, test_size=0.2, random_state=1, shuffle=True)\n",
    "print(\"X_train:\", len(X_train), \"X_test:\", len(X_test),\n",
    "      \"y_train:\", len(X_train), \"y_test:\", len(X_test))"
   ]
  },
  {
   "cell_type": "code",
   "execution_count": 37,
   "id": "63cebc21-bb68-4e38-b652-f5dee6f99025",
   "metadata": {},
   "outputs": [],
   "source": [
    "# creating instance of linear regression model\n",
    "linreg = LinearRegression()"
   ]
  },
  {
   "cell_type": "code",
   "execution_count": 38,
   "id": "57ec9e88-79d3-4d84-b065-83c7c2bf746c",
   "metadata": {},
   "outputs": [
    {
     "data": {
      "text/plain": [
       "Pipeline(steps=[('columntransformer',\n",
       "                 ColumnTransformer(transformers=[('pipeline',\n",
       "                                                  Pipeline(steps=[('simpleimputer',\n",
       "                                                                   SimpleImputer(strategy='median'))]),\n",
       "                                                  ['Foll_Up_Calls',\n",
       "                                                   'Criteria_Met',\n",
       "                                                   'Numeric_Lead_Source',\n",
       "                                                   'Numeric_Sales_Office'])])),\n",
       "                ('linearregression', LinearRegression())])"
      ]
     },
     "execution_count": 38,
     "metadata": {},
     "output_type": "execute_result"
    }
   ],
   "source": [
    "# creating a pipeline\n",
    "pipe = make_pipeline(ct_imputer, linreg)\n",
    "pipe.fit(X_train, y_train)"
   ]
  },
  {
   "cell_type": "code",
   "execution_count": 39,
   "id": "cd123636-fa4a-44fd-844f-6d1aa0c1acec",
   "metadata": {},
   "outputs": [
    {
     "data": {
      "text/plain": [
       "0.103"
      ]
     },
     "execution_count": 39,
     "metadata": {},
     "output_type": "execute_result"
    }
   ],
   "source": [
    "# using cross val score function to test model accuracy\n",
    "from sklearn.model_selection import cross_val_score\n",
    "round(-1 * cross_val_score(pipe, X_train, y_train, cv = 5, scoring = \"neg_root_mean_squared_error\").mean(), 3)"
   ]
  },
  {
   "cell_type": "code",
   "execution_count": 40,
   "id": "b8112b26-b2a9-418a-9b57-f9e487a5360a",
   "metadata": {},
   "outputs": [
    {
     "data": {
      "text/plain": [
       "dict_keys(['columntransformer', 'linearregression'])"
      ]
     },
     "execution_count": 40,
     "metadata": {},
     "output_type": "execute_result"
    }
   ],
   "source": [
    "# retrieving named steps in the pipeline\n",
    "pipe.named_steps.keys()"
   ]
  },
  {
   "cell_type": "code",
   "execution_count": 41,
   "id": "e3707f3d-100c-4f53-817c-a1df748a4047",
   "metadata": {},
   "outputs": [],
   "source": [
    "# specifying hypertuning parameters to use in a grid search\n",
    "params = {}\n",
    "params[\"linearregression__normalize\"] = [False, True]"
   ]
  },
  {
   "cell_type": "code",
   "execution_count": 42,
   "id": "9074c880-5ffb-4727-8d33-28222c083b00",
   "metadata": {},
   "outputs": [
    {
     "name": "stdout",
     "output_type": "stream",
     "text": [
      "Training time: 0.25617313385009766s\n"
     ]
    }
   ],
   "source": [
    "# creating grid search CV instance\n",
    "from sklearn.model_selection import GridSearchCV\n",
    "\n",
    "# timing training time\n",
    "import time\n",
    "start = time.time()\n",
    "grid = GridSearchCV(pipe, params, cv = 5, scoring = \"neg_root_mean_squared_error\")\n",
    "grid.fit(X_train, y_train);\n",
    "stop = time.time()\n",
    "print(f\"Training time: {stop - start}s\")"
   ]
  },
  {
   "cell_type": "code",
   "execution_count": 43,
   "id": "2f4e8a8f-be98-497f-8a03-424f850d4cce",
   "metadata": {},
   "outputs": [
    {
     "data": {
      "text/html": [
       "<div>\n",
       "<style scoped>\n",
       "    .dataframe tbody tr th:only-of-type {\n",
       "        vertical-align: middle;\n",
       "    }\n",
       "\n",
       "    .dataframe tbody tr th {\n",
       "        vertical-align: top;\n",
       "    }\n",
       "\n",
       "    .dataframe thead th {\n",
       "        text-align: right;\n",
       "    }\n",
       "</style>\n",
       "<table border=\"1\" class=\"dataframe\">\n",
       "  <thead>\n",
       "    <tr style=\"text-align: right;\">\n",
       "      <th></th>\n",
       "      <th>mean_fit_time</th>\n",
       "      <th>std_fit_time</th>\n",
       "      <th>mean_score_time</th>\n",
       "      <th>std_score_time</th>\n",
       "      <th>param_linearregression__normalize</th>\n",
       "      <th>params</th>\n",
       "      <th>split0_test_score</th>\n",
       "      <th>split1_test_score</th>\n",
       "      <th>split2_test_score</th>\n",
       "      <th>split3_test_score</th>\n",
       "      <th>split4_test_score</th>\n",
       "      <th>mean_test_score</th>\n",
       "      <th>std_test_score</th>\n",
       "      <th>rank_test_score</th>\n",
       "    </tr>\n",
       "  </thead>\n",
       "  <tbody>\n",
       "    <tr>\n",
       "      <th>0</th>\n",
       "      <td>0.014924</td>\n",
       "      <td>0.001928</td>\n",
       "      <td>0.006218</td>\n",
       "      <td>0.000997</td>\n",
       "      <td>False</td>\n",
       "      <td>{'linearregression__normalize': False}</td>\n",
       "      <td>-0.069956</td>\n",
       "      <td>-0.108748</td>\n",
       "      <td>-0.074332</td>\n",
       "      <td>-0.075789</td>\n",
       "      <td>-0.187799</td>\n",
       "      <td>-0.103325</td>\n",
       "      <td>0.044447</td>\n",
       "      <td>1</td>\n",
       "    </tr>\n",
       "    <tr>\n",
       "      <th>1</th>\n",
       "      <td>0.014798</td>\n",
       "      <td>0.002200</td>\n",
       "      <td>0.006865</td>\n",
       "      <td>0.000944</td>\n",
       "      <td>True</td>\n",
       "      <td>{'linearregression__normalize': True}</td>\n",
       "      <td>-0.069956</td>\n",
       "      <td>-0.108748</td>\n",
       "      <td>-0.074332</td>\n",
       "      <td>-0.075789</td>\n",
       "      <td>-0.187799</td>\n",
       "      <td>-0.103325</td>\n",
       "      <td>0.044447</td>\n",
       "      <td>2</td>\n",
       "    </tr>\n",
       "  </tbody>\n",
       "</table>\n",
       "</div>"
      ],
      "text/plain": [
       "   mean_fit_time  std_fit_time  mean_score_time  std_score_time  \\\n",
       "0       0.014924      0.001928         0.006218        0.000997   \n",
       "1       0.014798      0.002200         0.006865        0.000944   \n",
       "\n",
       "  param_linearregression__normalize                                  params  \\\n",
       "0                             False  {'linearregression__normalize': False}   \n",
       "1                              True   {'linearregression__normalize': True}   \n",
       "\n",
       "   split0_test_score  split1_test_score  split2_test_score  split3_test_score  \\\n",
       "0          -0.069956          -0.108748          -0.074332          -0.075789   \n",
       "1          -0.069956          -0.108748          -0.074332          -0.075789   \n",
       "\n",
       "   split4_test_score  mean_test_score  std_test_score  rank_test_score  \n",
       "0          -0.187799        -0.103325        0.044447                1  \n",
       "1          -0.187799        -0.103325        0.044447                2  "
      ]
     },
     "execution_count": 43,
     "metadata": {},
     "output_type": "execute_result"
    }
   ],
   "source": [
    "# displaying grid search results\n",
    "results = pd.DataFrame(grid.cv_results_).sort_values(\"rank_test_score\").reset_index(drop = True)[:10]\n",
    "results"
   ]
  },
  {
   "cell_type": "code",
   "execution_count": 44,
   "id": "c3cab6fe-ccaa-4a06-8677-2ba087b78bc0",
   "metadata": {},
   "outputs": [
    {
     "name": "stdout",
     "output_type": "stream",
     "text": [
      "best score:\n",
      "0.1\n",
      "\n",
      "\n",
      "best parameters:\n",
      "{'linearregression__normalize': False}\n"
     ]
    }
   ],
   "source": [
    "# printing best score and parameters\n",
    "print(\"best score:\", round(-1 * grid.best_score_, 2), \"\\n\", \"best parameters:\", grid.best_params_, sep = \"\\n\")"
   ]
  },
  {
   "cell_type": "code",
   "execution_count": 45,
   "id": "2a8ecf8f-de25-4488-ae1f-aeeb6addf460",
   "metadata": {},
   "outputs": [
    {
     "data": {
      "text/plain": [
       "array([ 0.08924385, -0.01689908,  0.07728018,  0.82238071, -0.02886274,\n",
       "        0.06004366,  0.08464198, -0.05487902, -0.0481882 , -0.0481882 ,\n",
       "        0.07267831, -0.0481882 ,  0.07200733, -0.05487902, -0.0481882 ,\n",
       "       -0.05487902,  0.06004366, -0.0481882 , -0.0481882 ,  0.98582904,\n",
       "       -0.05487902, -0.01689908, -0.05487902, -0.03555356,  0.07267831,\n",
       "       -0.02358989, -0.02886274, -0.0481882 ,  0.07728018, -0.05487902,\n",
       "       -0.02358989, -0.01689908, -0.05487902,  0.07267831, -0.0481882 ,\n",
       "       -0.05487902,  0.88428799,  0.08924385, -0.03555356, -0.05487902,\n",
       "        0.07728018,  0.85366984, -0.0481882 , -0.0481882 , -0.05487902,\n",
       "        0.09660564, -0.0481882 ])"
      ]
     },
     "execution_count": 45,
     "metadata": {},
     "output_type": "execute_result"
    }
   ],
   "source": [
    "# predicting passenger outcome\n",
    "pred_out = grid.predict(X_test)\n",
    "pred_out"
   ]
  },
  {
   "cell_type": "code",
   "execution_count": 46,
   "id": "c3a3fcca-f72a-459e-b267-c4e7ca798daf",
   "metadata": {},
   "outputs": [
    {
     "data": {
      "text/html": [
       "<div>\n",
       "<style scoped>\n",
       "    .dataframe tbody tr th:only-of-type {\n",
       "        vertical-align: middle;\n",
       "    }\n",
       "\n",
       "    .dataframe tbody tr th {\n",
       "        vertical-align: top;\n",
       "    }\n",
       "\n",
       "    .dataframe thead th {\n",
       "        text-align: right;\n",
       "    }\n",
       "</style>\n",
       "<table border=\"1\" class=\"dataframe\">\n",
       "  <thead>\n",
       "    <tr style=\"text-align: right;\">\n",
       "      <th></th>\n",
       "      <th>Actual</th>\n",
       "      <th>Predicted</th>\n",
       "    </tr>\n",
       "  </thead>\n",
       "  <tbody>\n",
       "    <tr>\n",
       "      <th>200</th>\n",
       "      <td>0</td>\n",
       "      <td>0.089244</td>\n",
       "    </tr>\n",
       "    <tr>\n",
       "      <th>169</th>\n",
       "      <td>0</td>\n",
       "      <td>-0.016899</td>\n",
       "    </tr>\n",
       "    <tr>\n",
       "      <th>234</th>\n",
       "      <td>0</td>\n",
       "      <td>0.077280</td>\n",
       "    </tr>\n",
       "    <tr>\n",
       "      <th>39</th>\n",
       "      <td>1</td>\n",
       "      <td>0.822381</td>\n",
       "    </tr>\n",
       "    <tr>\n",
       "      <th>78</th>\n",
       "      <td>0</td>\n",
       "      <td>-0.028863</td>\n",
       "    </tr>\n",
       "    <tr>\n",
       "      <th>114</th>\n",
       "      <td>0</td>\n",
       "      <td>0.060044</td>\n",
       "    </tr>\n",
       "    <tr>\n",
       "      <th>106</th>\n",
       "      <td>0</td>\n",
       "      <td>0.084642</td>\n",
       "    </tr>\n",
       "    <tr>\n",
       "      <th>148</th>\n",
       "      <td>0</td>\n",
       "      <td>-0.054879</td>\n",
       "    </tr>\n",
       "    <tr>\n",
       "      <th>122</th>\n",
       "      <td>0</td>\n",
       "      <td>-0.048188</td>\n",
       "    </tr>\n",
       "    <tr>\n",
       "      <th>119</th>\n",
       "      <td>0</td>\n",
       "      <td>-0.048188</td>\n",
       "    </tr>\n",
       "  </tbody>\n",
       "</table>\n",
       "</div>"
      ],
      "text/plain": [
       "     Actual  Predicted\n",
       "200       0   0.089244\n",
       "169       0  -0.016899\n",
       "234       0   0.077280\n",
       "39        1   0.822381\n",
       "78        0  -0.028863\n",
       "114       0   0.060044\n",
       "106       0   0.084642\n",
       "148       0  -0.054879\n",
       "122       0  -0.048188\n",
       "119       0  -0.048188"
      ]
     },
     "execution_count": 46,
     "metadata": {},
     "output_type": "execute_result"
    }
   ],
   "source": [
    "# comparing results\n",
    "df_results_comparison = pd.DataFrame({\"Actual\" : y_test, \"Predicted\" : pred_out})\n",
    "df_results_comparison[:10]"
   ]
  },
  {
   "cell_type": "code",
   "execution_count": 47,
   "id": "d8290405-ccd5-41a1-84af-ca9e5fe3706b",
   "metadata": {},
   "outputs": [
    {
     "name": "stdout",
     "output_type": "stream",
     "text": [
      "MAE:  0.058746976184512315 \n",
      " MSE:  0.004403400245867288 \n",
      " RMSE:  0.24237775513547508 \n",
      "\n"
     ]
    }
   ],
   "source": [
    "# evaluating performance on test\n",
    "from sklearn.metrics import mean_absolute_error, mean_squared_error\n",
    "print(\n",
    "    \"MAE: \", mean_absolute_error(y_test, pred_out), \"\\n\",\n",
    "    \"MSE: \", mean_squared_error(y_test, pred_out), \"\\n\",\n",
    "    \"RMSE: \", np.sqrt(mean_absolute_error(y_test, pred_out)), \"\\n\"\n",
    ")"
   ]
  }
 ],
 "metadata": {
  "kernelspec": {
   "display_name": "Python 3",
   "language": "python",
   "name": "python3"
  },
  "language_info": {
   "codemirror_mode": {
    "name": "ipython",
    "version": 3
   },
   "file_extension": ".py",
   "mimetype": "text/x-python",
   "name": "python",
   "nbconvert_exporter": "python",
   "pygments_lexer": "ipython3",
   "version": "3.8.5"
  }
 },
 "nbformat": 4,
 "nbformat_minor": 5
}
