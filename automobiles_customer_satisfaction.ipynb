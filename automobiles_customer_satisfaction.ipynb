{
 "cells": [
  {
   "cell_type": "markdown",
   "id": "ethical-camcorder",
   "metadata": {},
   "source": [
    "# Automobiles and Customer Satisfaction\n",
    "\n",
    "**Goal: Identify autombile customer satisfaction using association rules, K-Means clustering, and K-Nearest neighbors classification.**  \n",
    "\n",
    "Datasets:  \n",
    "    [car data](https://raw.githubusercontent.com/crosstrack10/data-science-projects/main/datasets/car_evaluation_dataset.csv)  \n",
    "    [binary car data](https://raw.githubusercontent.com/crosstrack10/data-science-projects/main/datasets/car_evaluation_dataset_logical.csv)"
   ]
  },
  {
   "cell_type": "markdown",
   "id": "dietary-assistant",
   "metadata": {},
   "source": [
    "I will begin the data exploration phase by limiting number of threads used and importing essential libraries for exploration."
   ]
  },
  {
   "cell_type": "code",
   "execution_count": 1,
   "id": "worldwide-commission",
   "metadata": {},
   "outputs": [],
   "source": [
    "# setting number of threads to six\n",
    "import os\n",
    "os.environ[\"OMP_NUM_THREADS\"] = \"6\"\n",
    "\n",
    "# importing libraries\n",
    "import pandas as pd\n",
    "import numpy as np\n",
    "import matplotlib.pyplot as plt\n",
    "import seaborn as sns\n",
    "\n",
    "%matplotlib inline\n",
    "%config Completer.use_jedi = False"
   ]
  },
  {
   "cell_type": "code",
   "execution_count": 2,
   "id": "sublime-charger",
   "metadata": {},
   "outputs": [],
   "source": [
    "# reading in car dataset from github repository\n",
    "url = \"https://raw.githubusercontent.com/crosstrack10/data-science-projects/main/datasets/car_evaluation_dataset.csv\"\n",
    "car_data = pd.read_csv(url)"
   ]
  },
  {
   "cell_type": "code",
   "execution_count": 3,
   "id": "beneficial-relations",
   "metadata": {},
   "outputs": [],
   "source": [
    "# shuffling dataset\n",
    "car_data = car_data.iloc[:, 1:].sample(frac=1).reset_index(drop=True)"
   ]
  },
  {
   "cell_type": "code",
   "execution_count": 4,
   "id": "moral-andrews",
   "metadata": {},
   "outputs": [
    {
     "data": {
      "text/html": [
       "<div>\n",
       "<style scoped>\n",
       "    .dataframe tbody tr th:only-of-type {\n",
       "        vertical-align: middle;\n",
       "    }\n",
       "\n",
       "    .dataframe tbody tr th {\n",
       "        vertical-align: top;\n",
       "    }\n",
       "\n",
       "    .dataframe thead th {\n",
       "        text-align: right;\n",
       "    }\n",
       "</style>\n",
       "<table border=\"1\" class=\"dataframe\">\n",
       "  <thead>\n",
       "    <tr style=\"text-align: right;\">\n",
       "      <th></th>\n",
       "      <th>Purchase Price</th>\n",
       "      <th>Maintenance Costs</th>\n",
       "      <th>Doors</th>\n",
       "      <th>Persons</th>\n",
       "      <th>Luggae Boot</th>\n",
       "      <th>Safety</th>\n",
       "      <th>Rating</th>\n",
       "    </tr>\n",
       "  </thead>\n",
       "  <tbody>\n",
       "    <tr>\n",
       "      <th>0</th>\n",
       "      <td>med</td>\n",
       "      <td>med</td>\n",
       "      <td>5more</td>\n",
       "      <td>2</td>\n",
       "      <td>med</td>\n",
       "      <td>med</td>\n",
       "      <td>unacc</td>\n",
       "    </tr>\n",
       "    <tr>\n",
       "      <th>1</th>\n",
       "      <td>vhigh</td>\n",
       "      <td>low</td>\n",
       "      <td>4</td>\n",
       "      <td>2</td>\n",
       "      <td>big</td>\n",
       "      <td>med</td>\n",
       "      <td>unacc</td>\n",
       "    </tr>\n",
       "    <tr>\n",
       "      <th>2</th>\n",
       "      <td>low</td>\n",
       "      <td>med</td>\n",
       "      <td>3</td>\n",
       "      <td>4</td>\n",
       "      <td>small</td>\n",
       "      <td>high</td>\n",
       "      <td>good</td>\n",
       "    </tr>\n",
       "    <tr>\n",
       "      <th>3</th>\n",
       "      <td>high</td>\n",
       "      <td>high</td>\n",
       "      <td>4</td>\n",
       "      <td>4</td>\n",
       "      <td>big</td>\n",
       "      <td>high</td>\n",
       "      <td>acc</td>\n",
       "    </tr>\n",
       "    <tr>\n",
       "      <th>4</th>\n",
       "      <td>high</td>\n",
       "      <td>low</td>\n",
       "      <td>2</td>\n",
       "      <td>2</td>\n",
       "      <td>small</td>\n",
       "      <td>med</td>\n",
       "      <td>unacc</td>\n",
       "    </tr>\n",
       "  </tbody>\n",
       "</table>\n",
       "</div>"
      ],
      "text/plain": [
       "  Purchase Price Maintenance Costs  Doors Persons Luggae Boot Safety Rating\n",
       "0            med               med  5more       2         med    med  unacc\n",
       "1          vhigh               low      4       2         big    med  unacc\n",
       "2            low               med      3       4       small   high   good\n",
       "3           high              high      4       4         big   high    acc\n",
       "4           high               low      2       2       small    med  unacc"
      ]
     },
     "execution_count": 4,
     "metadata": {},
     "output_type": "execute_result"
    }
   ],
   "source": [
    "# first five rows\n",
    "car_data.head()"
   ]
  },
  {
   "cell_type": "code",
   "execution_count": 5,
   "id": "amateur-teach",
   "metadata": {},
   "outputs": [
    {
     "name": "stdout",
     "output_type": "stream",
     "text": [
      "<class 'pandas.core.frame.DataFrame'>\n",
      "RangeIndex: 1728 entries, 0 to 1727\n",
      "Data columns (total 7 columns):\n",
      " #   Column             Non-Null Count  Dtype \n",
      "---  ------             --------------  ----- \n",
      " 0   Purchase Price     1728 non-null   object\n",
      " 1   Maintenance Costs  1728 non-null   object\n",
      " 2   Doors              1728 non-null   object\n",
      " 3   Persons            1728 non-null   object\n",
      " 4   Luggae Boot        1728 non-null   object\n",
      " 5   Safety             1728 non-null   object\n",
      " 6   Rating             1728 non-null   object\n",
      "dtypes: object(7)\n",
      "memory usage: 94.6+ KB\n"
     ]
    }
   ],
   "source": [
    "# general variable info\n",
    "car_data.info()"
   ]
  },
  {
   "cell_type": "markdown",
   "id": "virgin-chile",
   "metadata": {},
   "source": [
    "There are no null values present in the dataset. Also, all of the columns are object types. Let's count the values using barplots to make sure they were imported as the correct data type. It will also give us a chance to look at the distribution among columns."
   ]
  },
  {
   "cell_type": "code",
   "execution_count": 6,
   "id": "creative-exhibition",
   "metadata": {},
   "outputs": [
    {
     "data": {
      "text/html": [
       "<div>\n",
       "<style scoped>\n",
       "    .dataframe tbody tr th:only-of-type {\n",
       "        vertical-align: middle;\n",
       "    }\n",
       "\n",
       "    .dataframe tbody tr th {\n",
       "        vertical-align: top;\n",
       "    }\n",
       "\n",
       "    .dataframe thead th {\n",
       "        text-align: right;\n",
       "    }\n",
       "</style>\n",
       "<table border=\"1\" class=\"dataframe\">\n",
       "  <thead>\n",
       "    <tr style=\"text-align: right;\">\n",
       "      <th></th>\n",
       "      <th>Purchase Price</th>\n",
       "      <th>Maintenance Costs</th>\n",
       "      <th>Doors</th>\n",
       "      <th>Persons</th>\n",
       "      <th>Luggae Boot</th>\n",
       "      <th>Safety</th>\n",
       "      <th>Rating</th>\n",
       "    </tr>\n",
       "  </thead>\n",
       "  <tbody>\n",
       "    <tr>\n",
       "      <th>count</th>\n",
       "      <td>1728</td>\n",
       "      <td>1728</td>\n",
       "      <td>1728</td>\n",
       "      <td>1728</td>\n",
       "      <td>1728</td>\n",
       "      <td>1728</td>\n",
       "      <td>1728</td>\n",
       "    </tr>\n",
       "    <tr>\n",
       "      <th>unique</th>\n",
       "      <td>4</td>\n",
       "      <td>4</td>\n",
       "      <td>4</td>\n",
       "      <td>3</td>\n",
       "      <td>3</td>\n",
       "      <td>3</td>\n",
       "      <td>4</td>\n",
       "    </tr>\n",
       "    <tr>\n",
       "      <th>top</th>\n",
       "      <td>low</td>\n",
       "      <td>low</td>\n",
       "      <td>2</td>\n",
       "      <td>2</td>\n",
       "      <td>big</td>\n",
       "      <td>low</td>\n",
       "      <td>unacc</td>\n",
       "    </tr>\n",
       "    <tr>\n",
       "      <th>freq</th>\n",
       "      <td>432</td>\n",
       "      <td>432</td>\n",
       "      <td>432</td>\n",
       "      <td>576</td>\n",
       "      <td>576</td>\n",
       "      <td>576</td>\n",
       "      <td>1210</td>\n",
       "    </tr>\n",
       "  </tbody>\n",
       "</table>\n",
       "</div>"
      ],
      "text/plain": [
       "       Purchase Price Maintenance Costs Doors Persons Luggae Boot Safety  \\\n",
       "count            1728              1728  1728    1728        1728   1728   \n",
       "unique              4                 4     4       3           3      3   \n",
       "top               low               low     2       2         big    low   \n",
       "freq              432               432   432     576         576    576   \n",
       "\n",
       "       Rating  \n",
       "count    1728  \n",
       "unique      4  \n",
       "top     unacc  \n",
       "freq     1210  "
      ]
     },
     "execution_count": 6,
     "metadata": {},
     "output_type": "execute_result"
    }
   ],
   "source": [
    "# retrieving general statistics for numerical variables\n",
    "car_data.describe()"
   ]
  },
  {
   "cell_type": "markdown",
   "id": "brown-interest",
   "metadata": {},
   "source": [
    "All of the columns have 3-4 unique values. Most of them seem to be ordinal variables. Let's make sure that's the case."
   ]
  },
  {
   "cell_type": "code",
   "execution_count": 7,
   "id": "charged-toolbox",
   "metadata": {},
   "outputs": [],
   "source": [
    "# storing column names\n",
    "col_names = car_data.columns"
   ]
  },
  {
   "cell_type": "code",
   "execution_count": 8,
   "id": "rubber-malaysia",
   "metadata": {},
   "outputs": [
    {
     "data": {
      "image/png": "[encoded data removed]",
      "text/plain": [
       "<Figure size 720x1080 with 8 Axes>"
      ]
     },
     "metadata": {},
     "output_type": "display_data"
    }
   ],
   "source": [
    "# counting variables using barplots\n",
    "plt.style.use(\"fivethirtyeight\")\n",
    "fig, axes = plt.subplots(4, 2, figsize=(10, 15), sharey=True) # creates figure and axes\n",
    "fig.tight_layout() # removes extra whitespaces\n",
    "fig.subplots_adjust(top=0.97)\n",
    "fig.suptitle(\"Category Counts\", fontsize=20); # spacing out title\n",
    "\n",
    "# adding plots to subplots\n",
    "sns.countplot(ax=axes[0, 0], data=car_data, x=col_names[0]);\n",
    "sns.countplot(ax=axes[0, 1], data=car_data, x=col_names[1]);\n",
    "sns.countplot(ax=axes[1, 0], data=car_data, x=col_names[2]);\n",
    "sns.countplot(ax=axes[1, 1], data=car_data, x=col_names[3]);\n",
    "sns.countplot(ax=axes[2, 0], data=car_data, x=col_names[4]);\n",
    "sns.countplot(ax=axes[2, 1], data=car_data, x=col_names[5]);\n",
    "sns.countplot(ax=axes[3, 0], data=car_data, x=col_names[6]);\n",
    "axes[-1, -1].axis(\"off\");"
   ]
  },
  {
   "cell_type": "markdown",
   "id": "reduced-heater",
   "metadata": {},
   "source": [
    "Yes, they all seem to be ordinal variables. I am not sure how this will affect the K-Means and K-Nearest Neighbors classificaiton algorithms. It might be hard to visualize clusters using K-Means. All of the columns have a fixed number of unique values. A K-Nearest Neighbors classifier might overfit the data due to possibly having seen most of the holdout data during training."
   ]
  },
  {
   "cell_type": "markdown",
   "id": "fantastic-light",
   "metadata": {},
   "source": [
    "### Association Rules"
   ]
  },
  {
   "cell_type": "markdown",
   "id": "competitive-region",
   "metadata": {},
   "source": [
    "In this section, I will use association rules on a binary format version of the car dataset. The first goal is to determine three rules with two items with the strongest support. The second goal is similar to the first one, but instead of finding three rules with two items, I will find three rules with three items."
   ]
  },
  {
   "cell_type": "code",
   "execution_count": 9,
   "id": "vertical-breath",
   "metadata": {},
   "outputs": [],
   "source": [
    "# reading in binary car dataset from github repository\n",
    "url = \"https://raw.githubusercontent.com/crosstrack10/data-science-projects/main/datasets/car_evaluation_dataset_logical.csv\"\n",
    "binary_car_data=pd.read_csv(url).sample(frac=1).reset_index(drop=True)"
   ]
  },
  {
   "cell_type": "code",
   "execution_count": 10,
   "id": "available-reservation",
   "metadata": {},
   "outputs": [
    {
     "data": {
      "text/html": [
       "<div>\n",
       "<style scoped>\n",
       "    .dataframe tbody tr th:only-of-type {\n",
       "        vertical-align: middle;\n",
       "    }\n",
       "\n",
       "    .dataframe tbody tr th {\n",
       "        vertical-align: top;\n",
       "    }\n",
       "\n",
       "    .dataframe thead th {\n",
       "        text-align: right;\n",
       "    }\n",
       "</style>\n",
       "<table border=\"1\" class=\"dataframe\">\n",
       "  <thead>\n",
       "    <tr style=\"text-align: right;\">\n",
       "      <th></th>\n",
       "      <th>2door</th>\n",
       "      <th>2person</th>\n",
       "      <th>3door</th>\n",
       "      <th>4door</th>\n",
       "      <th>4person</th>\n",
       "      <th>5moredoor</th>\n",
       "      <th>acc</th>\n",
       "      <th>bigluggage</th>\n",
       "      <th>good</th>\n",
       "      <th>highmaint</th>\n",
       "      <th>...</th>\n",
       "      <th>medluggage</th>\n",
       "      <th>medmaint</th>\n",
       "      <th>medpurchase</th>\n",
       "      <th>medsafety</th>\n",
       "      <th>moreperson</th>\n",
       "      <th>smallluggage</th>\n",
       "      <th>unacc</th>\n",
       "      <th>vgood</th>\n",
       "      <th>vhighmaint</th>\n",
       "      <th>vhighpurchase</th>\n",
       "    </tr>\n",
       "  </thead>\n",
       "  <tbody>\n",
       "    <tr>\n",
       "      <th>count</th>\n",
       "      <td>1728.000000</td>\n",
       "      <td>1728.000000</td>\n",
       "      <td>1728.000000</td>\n",
       "      <td>1728.000000</td>\n",
       "      <td>1728.000000</td>\n",
       "      <td>1728.000000</td>\n",
       "      <td>1728.000000</td>\n",
       "      <td>1728.000000</td>\n",
       "      <td>1728.000000</td>\n",
       "      <td>1728.000000</td>\n",
       "      <td>...</td>\n",
       "      <td>1728.000000</td>\n",
       "      <td>1728.000000</td>\n",
       "      <td>1728.000000</td>\n",
       "      <td>1728.000000</td>\n",
       "      <td>1728.000000</td>\n",
       "      <td>1728.000000</td>\n",
       "      <td>1728.000000</td>\n",
       "      <td>1728.000000</td>\n",
       "      <td>1728.000000</td>\n",
       "      <td>1728.000000</td>\n",
       "    </tr>\n",
       "    <tr>\n",
       "      <th>mean</th>\n",
       "      <td>0.250000</td>\n",
       "      <td>0.333333</td>\n",
       "      <td>0.250000</td>\n",
       "      <td>0.250000</td>\n",
       "      <td>0.333333</td>\n",
       "      <td>0.250000</td>\n",
       "      <td>0.222222</td>\n",
       "      <td>0.333333</td>\n",
       "      <td>0.039931</td>\n",
       "      <td>0.250000</td>\n",
       "      <td>...</td>\n",
       "      <td>0.333333</td>\n",
       "      <td>0.250000</td>\n",
       "      <td>0.250000</td>\n",
       "      <td>0.333333</td>\n",
       "      <td>0.333333</td>\n",
       "      <td>0.333333</td>\n",
       "      <td>0.700231</td>\n",
       "      <td>0.037616</td>\n",
       "      <td>0.250000</td>\n",
       "      <td>0.250000</td>\n",
       "    </tr>\n",
       "    <tr>\n",
       "      <th>std</th>\n",
       "      <td>0.433138</td>\n",
       "      <td>0.471541</td>\n",
       "      <td>0.433138</td>\n",
       "      <td>0.433138</td>\n",
       "      <td>0.471541</td>\n",
       "      <td>0.433138</td>\n",
       "      <td>0.415860</td>\n",
       "      <td>0.471541</td>\n",
       "      <td>0.195853</td>\n",
       "      <td>0.433138</td>\n",
       "      <td>...</td>\n",
       "      <td>0.471541</td>\n",
       "      <td>0.433138</td>\n",
       "      <td>0.433138</td>\n",
       "      <td>0.471541</td>\n",
       "      <td>0.471541</td>\n",
       "      <td>0.471541</td>\n",
       "      <td>0.458289</td>\n",
       "      <td>0.190320</td>\n",
       "      <td>0.433138</td>\n",
       "      <td>0.433138</td>\n",
       "    </tr>\n",
       "    <tr>\n",
       "      <th>min</th>\n",
       "      <td>0.000000</td>\n",
       "      <td>0.000000</td>\n",
       "      <td>0.000000</td>\n",
       "      <td>0.000000</td>\n",
       "      <td>0.000000</td>\n",
       "      <td>0.000000</td>\n",
       "      <td>0.000000</td>\n",
       "      <td>0.000000</td>\n",
       "      <td>0.000000</td>\n",
       "      <td>0.000000</td>\n",
       "      <td>...</td>\n",
       "      <td>0.000000</td>\n",
       "      <td>0.000000</td>\n",
       "      <td>0.000000</td>\n",
       "      <td>0.000000</td>\n",
       "      <td>0.000000</td>\n",
       "      <td>0.000000</td>\n",
       "      <td>0.000000</td>\n",
       "      <td>0.000000</td>\n",
       "      <td>0.000000</td>\n",
       "      <td>0.000000</td>\n",
       "    </tr>\n",
       "    <tr>\n",
       "      <th>25%</th>\n",
       "      <td>0.000000</td>\n",
       "      <td>0.000000</td>\n",
       "      <td>0.000000</td>\n",
       "      <td>0.000000</td>\n",
       "      <td>0.000000</td>\n",
       "      <td>0.000000</td>\n",
       "      <td>0.000000</td>\n",
       "      <td>0.000000</td>\n",
       "      <td>0.000000</td>\n",
       "      <td>0.000000</td>\n",
       "      <td>...</td>\n",
       "      <td>0.000000</td>\n",
       "      <td>0.000000</td>\n",
       "      <td>0.000000</td>\n",
       "      <td>0.000000</td>\n",
       "      <td>0.000000</td>\n",
       "      <td>0.000000</td>\n",
       "      <td>0.000000</td>\n",
       "      <td>0.000000</td>\n",
       "      <td>0.000000</td>\n",
       "      <td>0.000000</td>\n",
       "    </tr>\n",
       "    <tr>\n",
       "      <th>50%</th>\n",
       "      <td>0.000000</td>\n",
       "      <td>0.000000</td>\n",
       "      <td>0.000000</td>\n",
       "      <td>0.000000</td>\n",
       "      <td>0.000000</td>\n",
       "      <td>0.000000</td>\n",
       "      <td>0.000000</td>\n",
       "      <td>0.000000</td>\n",
       "      <td>0.000000</td>\n",
       "      <td>0.000000</td>\n",
       "      <td>...</td>\n",
       "      <td>0.000000</td>\n",
       "      <td>0.000000</td>\n",
       "      <td>0.000000</td>\n",
       "      <td>0.000000</td>\n",
       "      <td>0.000000</td>\n",
       "      <td>0.000000</td>\n",
       "      <td>1.000000</td>\n",
       "      <td>0.000000</td>\n",
       "      <td>0.000000</td>\n",
       "      <td>0.000000</td>\n",
       "    </tr>\n",
       "    <tr>\n",
       "      <th>75%</th>\n",
       "      <td>0.250000</td>\n",
       "      <td>1.000000</td>\n",
       "      <td>0.250000</td>\n",
       "      <td>0.250000</td>\n",
       "      <td>1.000000</td>\n",
       "      <td>0.250000</td>\n",
       "      <td>0.000000</td>\n",
       "      <td>1.000000</td>\n",
       "      <td>0.000000</td>\n",
       "      <td>0.250000</td>\n",
       "      <td>...</td>\n",
       "      <td>1.000000</td>\n",
       "      <td>0.250000</td>\n",
       "      <td>0.250000</td>\n",
       "      <td>1.000000</td>\n",
       "      <td>1.000000</td>\n",
       "      <td>1.000000</td>\n",
       "      <td>1.000000</td>\n",
       "      <td>0.000000</td>\n",
       "      <td>0.250000</td>\n",
       "      <td>0.250000</td>\n",
       "    </tr>\n",
       "    <tr>\n",
       "      <th>max</th>\n",
       "      <td>1.000000</td>\n",
       "      <td>1.000000</td>\n",
       "      <td>1.000000</td>\n",
       "      <td>1.000000</td>\n",
       "      <td>1.000000</td>\n",
       "      <td>1.000000</td>\n",
       "      <td>1.000000</td>\n",
       "      <td>1.000000</td>\n",
       "      <td>1.000000</td>\n",
       "      <td>1.000000</td>\n",
       "      <td>...</td>\n",
       "      <td>1.000000</td>\n",
       "      <td>1.000000</td>\n",
       "      <td>1.000000</td>\n",
       "      <td>1.000000</td>\n",
       "      <td>1.000000</td>\n",
       "      <td>1.000000</td>\n",
       "      <td>1.000000</td>\n",
       "      <td>1.000000</td>\n",
       "      <td>1.000000</td>\n",
       "      <td>1.000000</td>\n",
       "    </tr>\n",
       "  </tbody>\n",
       "</table>\n",
       "<p>8 rows × 25 columns</p>\n",
       "</div>"
      ],
      "text/plain": [
       "             2door      2person        3door        4door      4person  \\\n",
       "count  1728.000000  1728.000000  1728.000000  1728.000000  1728.000000   \n",
       "mean      0.250000     0.333333     0.250000     0.250000     0.333333   \n",
       "std       0.433138     0.471541     0.433138     0.433138     0.471541   \n",
       "min       0.000000     0.000000     0.000000     0.000000     0.000000   \n",
       "25%       0.000000     0.000000     0.000000     0.000000     0.000000   \n",
       "50%       0.000000     0.000000     0.000000     0.000000     0.000000   \n",
       "75%       0.250000     1.000000     0.250000     0.250000     1.000000   \n",
       "max       1.000000     1.000000     1.000000     1.000000     1.000000   \n",
       "\n",
       "         5moredoor          acc   bigluggage         good    highmaint  ...  \\\n",
       "count  1728.000000  1728.000000  1728.000000  1728.000000  1728.000000  ...   \n",
       "mean      0.250000     0.222222     0.333333     0.039931     0.250000  ...   \n",
       "std       0.433138     0.415860     0.471541     0.195853     0.433138  ...   \n",
       "min       0.000000     0.000000     0.000000     0.000000     0.000000  ...   \n",
       "25%       0.000000     0.000000     0.000000     0.000000     0.000000  ...   \n",
       "50%       0.000000     0.000000     0.000000     0.000000     0.000000  ...   \n",
       "75%       0.250000     0.000000     1.000000     0.000000     0.250000  ...   \n",
       "max       1.000000     1.000000     1.000000     1.000000     1.000000  ...   \n",
       "\n",
       "        medluggage     medmaint  medpurchase    medsafety   moreperson  \\\n",
       "count  1728.000000  1728.000000  1728.000000  1728.000000  1728.000000   \n",
       "mean      0.333333     0.250000     0.250000     0.333333     0.333333   \n",
       "std       0.471541     0.433138     0.433138     0.471541     0.471541   \n",
       "min       0.000000     0.000000     0.000000     0.000000     0.000000   \n",
       "25%       0.000000     0.000000     0.000000     0.000000     0.000000   \n",
       "50%       0.000000     0.000000     0.000000     0.000000     0.000000   \n",
       "75%       1.000000     0.250000     0.250000     1.000000     1.000000   \n",
       "max       1.000000     1.000000     1.000000     1.000000     1.000000   \n",
       "\n",
       "       smallluggage        unacc        vgood   vhighmaint  vhighpurchase  \n",
       "count   1728.000000  1728.000000  1728.000000  1728.000000    1728.000000  \n",
       "mean       0.333333     0.700231     0.037616     0.250000       0.250000  \n",
       "std        0.471541     0.458289     0.190320     0.433138       0.433138  \n",
       "min        0.000000     0.000000     0.000000     0.000000       0.000000  \n",
       "25%        0.000000     0.000000     0.000000     0.000000       0.000000  \n",
       "50%        0.000000     1.000000     0.000000     0.000000       0.000000  \n",
       "75%        1.000000     1.000000     0.000000     0.250000       0.250000  \n",
       "max        1.000000     1.000000     1.000000     1.000000       1.000000  \n",
       "\n",
       "[8 rows x 25 columns]"
      ]
     },
     "execution_count": 10,
     "metadata": {},
     "output_type": "execute_result"
    }
   ],
   "source": [
    "# retrieving general statistics for numerical variables\n",
    "binary_car_data.describe()"
   ]
  },
  {
   "cell_type": "code",
   "execution_count": 11,
   "id": "stainless-collar",
   "metadata": {},
   "outputs": [],
   "source": [
    "# importing apriori model and association rules\n",
    "from mlxtend.frequent_patterns import apriori, association_rules\n",
    "\n",
    "# builiding the model\n",
    "freq_items = apriori(binary_car_data, min_support=0.05, use_colnames=True)\n",
    "\n",
    "# collecting rules in a dataframe\n",
    "rules = association_rules(freq_items, metric=\"lift\", min_threshold=0.05)\n",
    "rules = rules.sort_values([\"support\", \"confidence\"], ascending=[False, False])"
   ]
  },
  {
   "cell_type": "code",
   "execution_count": 12,
   "id": "intellectual-richardson",
   "metadata": {},
   "outputs": [
    {
     "data": {
      "text/html": [
       "<div>\n",
       "<style scoped>\n",
       "    .dataframe tbody tr th:only-of-type {\n",
       "        vertical-align: middle;\n",
       "    }\n",
       "\n",
       "    .dataframe tbody tr th {\n",
       "        vertical-align: top;\n",
       "    }\n",
       "\n",
       "    .dataframe thead th {\n",
       "        text-align: right;\n",
       "    }\n",
       "</style>\n",
       "<table border=\"1\" class=\"dataframe\">\n",
       "  <thead>\n",
       "    <tr style=\"text-align: right;\">\n",
       "      <th></th>\n",
       "      <th>antecedents</th>\n",
       "      <th>consequents</th>\n",
       "      <th>antecedent support</th>\n",
       "      <th>consequent support</th>\n",
       "      <th>support</th>\n",
       "      <th>confidence</th>\n",
       "      <th>lift</th>\n",
       "      <th>leverage</th>\n",
       "      <th>conviction</th>\n",
       "    </tr>\n",
       "  </thead>\n",
       "  <tbody>\n",
       "    <tr>\n",
       "      <th>66</th>\n",
       "      <td>(2person)</td>\n",
       "      <td>(unacc)</td>\n",
       "      <td>0.333333</td>\n",
       "      <td>0.700231</td>\n",
       "      <td>0.333333</td>\n",
       "      <td>1.000000</td>\n",
       "      <td>1.428099</td>\n",
       "      <td>0.099923</td>\n",
       "      <td>inf</td>\n",
       "    </tr>\n",
       "    <tr>\n",
       "      <th>368</th>\n",
       "      <td>(lowsafety)</td>\n",
       "      <td>(unacc)</td>\n",
       "      <td>0.333333</td>\n",
       "      <td>0.700231</td>\n",
       "      <td>0.333333</td>\n",
       "      <td>1.000000</td>\n",
       "      <td>1.428099</td>\n",
       "      <td>0.099923</td>\n",
       "      <td>inf</td>\n",
       "    </tr>\n",
       "    <tr>\n",
       "      <th>67</th>\n",
       "      <td>(unacc)</td>\n",
       "      <td>(2person)</td>\n",
       "      <td>0.700231</td>\n",
       "      <td>0.333333</td>\n",
       "      <td>0.333333</td>\n",
       "      <td>0.476033</td>\n",
       "      <td>1.428099</td>\n",
       "      <td>0.099923</td>\n",
       "      <td>1.272345</td>\n",
       "    </tr>\n",
       "  </tbody>\n",
       "</table>\n",
       "</div>"
      ],
      "text/plain": [
       "     antecedents consequents  antecedent support  consequent support  \\\n",
       "66     (2person)     (unacc)            0.333333            0.700231   \n",
       "368  (lowsafety)     (unacc)            0.333333            0.700231   \n",
       "67       (unacc)   (2person)            0.700231            0.333333   \n",
       "\n",
       "      support  confidence      lift  leverage  conviction  \n",
       "66   0.333333    1.000000  1.428099  0.099923         inf  \n",
       "368  0.333333    1.000000  1.428099  0.099923         inf  \n",
       "67   0.333333    0.476033  1.428099  0.099923    1.272345  "
      ]
     },
     "execution_count": 12,
     "metadata": {},
     "output_type": "execute_result"
    }
   ],
   "source": [
    "# top 3 single item frequent item sets\n",
    "rules.head(3)"
   ]
  },
  {
   "cell_type": "markdown",
   "id": "moving-practitioner",
   "metadata": {},
   "source": [
    "The top three rules with the strongest support with two items reveal some interesting findings. All three rules have the support of about 0.33. A two person vehicle antecedent and a consequent unacceptable rating have the confidence of 1.00. The same can be said for a low safety vehicle and a consequent unacceptable rating. An antecedent unacceptable rating and a consequent two person vehicle have the confidence of about 0.48. From a business perspective, these findings may indicate unacceptable car ratings are usually associated with two person and low safety vehicles. These rules might make a business purchase fewer two person and low safety vehicles. "
   ]
  },
  {
   "cell_type": "code",
   "execution_count": 13,
   "id": "competitive-hello",
   "metadata": {},
   "outputs": [
    {
     "data": {
      "text/html": [
       "<div>\n",
       "<style scoped>\n",
       "    .dataframe tbody tr th:only-of-type {\n",
       "        vertical-align: middle;\n",
       "    }\n",
       "\n",
       "    .dataframe tbody tr th {\n",
       "        vertical-align: top;\n",
       "    }\n",
       "\n",
       "    .dataframe thead th {\n",
       "        text-align: right;\n",
       "    }\n",
       "</style>\n",
       "<table border=\"1\" class=\"dataframe\">\n",
       "  <thead>\n",
       "    <tr style=\"text-align: right;\">\n",
       "      <th></th>\n",
       "      <th>antecedents</th>\n",
       "      <th>consequents</th>\n",
       "      <th>antecedent support</th>\n",
       "      <th>consequent support</th>\n",
       "      <th>support</th>\n",
       "      <th>confidence</th>\n",
       "      <th>lift</th>\n",
       "      <th>leverage</th>\n",
       "      <th>conviction</th>\n",
       "    </tr>\n",
       "  </thead>\n",
       "  <tbody>\n",
       "    <tr>\n",
       "      <th>518</th>\n",
       "      <td>(2person, bigluggage)</td>\n",
       "      <td>(unacc)</td>\n",
       "      <td>0.111111</td>\n",
       "      <td>0.700231</td>\n",
       "      <td>0.111111</td>\n",
       "      <td>1.0</td>\n",
       "      <td>1.428099</td>\n",
       "      <td>0.033308</td>\n",
       "      <td>inf</td>\n",
       "    </tr>\n",
       "    <tr>\n",
       "      <th>536</th>\n",
       "      <td>(2person, highsafety)</td>\n",
       "      <td>(unacc)</td>\n",
       "      <td>0.111111</td>\n",
       "      <td>0.700231</td>\n",
       "      <td>0.111111</td>\n",
       "      <td>1.0</td>\n",
       "      <td>1.428099</td>\n",
       "      <td>0.033308</td>\n",
       "      <td>inf</td>\n",
       "    </tr>\n",
       "    <tr>\n",
       "      <th>554</th>\n",
       "      <td>(lowsafety, 2person)</td>\n",
       "      <td>(unacc)</td>\n",
       "      <td>0.111111</td>\n",
       "      <td>0.700231</td>\n",
       "      <td>0.111111</td>\n",
       "      <td>1.0</td>\n",
       "      <td>1.428099</td>\n",
       "      <td>0.033308</td>\n",
       "      <td>inf</td>\n",
       "    </tr>\n",
       "  </tbody>\n",
       "</table>\n",
       "</div>"
      ],
      "text/plain": [
       "               antecedents consequents  antecedent support  \\\n",
       "518  (2person, bigluggage)     (unacc)            0.111111   \n",
       "536  (2person, highsafety)     (unacc)            0.111111   \n",
       "554   (lowsafety, 2person)     (unacc)            0.111111   \n",
       "\n",
       "     consequent support   support  confidence      lift  leverage  conviction  \n",
       "518            0.700231  0.111111         1.0  1.428099  0.033308         inf  \n",
       "536            0.700231  0.111111         1.0  1.428099  0.033308         inf  \n",
       "554            0.700231  0.111111         1.0  1.428099  0.033308         inf  "
      ]
     },
     "execution_count": 13,
     "metadata": {},
     "output_type": "execute_result"
    }
   ],
   "source": [
    "# top 3 double item frequent item sets\n",
    "rules.loc[rules[\"antecedents\"].astype(str).str.count(\",\") == 1].head(3)"
   ]
  },
  {
   "cell_type": "markdown",
   "id": "innocent-feature",
   "metadata": {},
   "source": [
    "These three rules with three items reveal two person vehicles are still associated with unacceptable ratings. The confidence level for each rules is 1.0. The biggest issue with two person vehicles is room capacity and safety to a degree."
   ]
  },
  {
   "cell_type": "markdown",
   "id": "simplified-stereo",
   "metadata": {},
   "source": [
    "### K-Means Clustering"
   ]
  },
  {
   "cell_type": "markdown",
   "id": "centered-western",
   "metadata": {},
   "source": [
    "This section will include a K-Means clustering classification algorithm. The goal is to find patterns around unacceptable ratings and non-unacceptable ratings."
   ]
  },
  {
   "cell_type": "code",
   "execution_count": 14,
   "id": "magnetic-picture",
   "metadata": {},
   "outputs": [],
   "source": [
    "# converting categorical variable to numerical\n",
    "from sklearn import preprocessing\n",
    "\n",
    "label = preprocessing.LabelEncoder()\n",
    "X = pd.DataFrame() \n",
    "\n",
    "for i in car_data.columns :\n",
    "  X[i] = label.fit_transform(car_data[i])\n",
    "\n",
    "y = X.Rating\n",
    "X = X.iloc[:, :-1]"
   ]
  },
  {
   "cell_type": "code",
   "execution_count": 15,
   "id": "typical-geology",
   "metadata": {},
   "outputs": [
    {
     "data": {
      "text/html": [
       "<div>\n",
       "<style scoped>\n",
       "    .dataframe tbody tr th:only-of-type {\n",
       "        vertical-align: middle;\n",
       "    }\n",
       "\n",
       "    .dataframe tbody tr th {\n",
       "        vertical-align: top;\n",
       "    }\n",
       "\n",
       "    .dataframe thead th {\n",
       "        text-align: right;\n",
       "    }\n",
       "</style>\n",
       "<table border=\"1\" class=\"dataframe\">\n",
       "  <thead>\n",
       "    <tr style=\"text-align: right;\">\n",
       "      <th></th>\n",
       "      <th>Purchase Price</th>\n",
       "      <th>Maintenance Costs</th>\n",
       "      <th>Doors</th>\n",
       "      <th>Persons</th>\n",
       "      <th>Luggae Boot</th>\n",
       "      <th>Safety</th>\n",
       "    </tr>\n",
       "  </thead>\n",
       "  <tbody>\n",
       "    <tr>\n",
       "      <th>0</th>\n",
       "      <td>2</td>\n",
       "      <td>2</td>\n",
       "      <td>3</td>\n",
       "      <td>0</td>\n",
       "      <td>1</td>\n",
       "      <td>2</td>\n",
       "    </tr>\n",
       "    <tr>\n",
       "      <th>1</th>\n",
       "      <td>3</td>\n",
       "      <td>1</td>\n",
       "      <td>2</td>\n",
       "      <td>0</td>\n",
       "      <td>0</td>\n",
       "      <td>2</td>\n",
       "    </tr>\n",
       "    <tr>\n",
       "      <th>2</th>\n",
       "      <td>1</td>\n",
       "      <td>2</td>\n",
       "      <td>1</td>\n",
       "      <td>1</td>\n",
       "      <td>2</td>\n",
       "      <td>0</td>\n",
       "    </tr>\n",
       "    <tr>\n",
       "      <th>3</th>\n",
       "      <td>0</td>\n",
       "      <td>0</td>\n",
       "      <td>2</td>\n",
       "      <td>1</td>\n",
       "      <td>0</td>\n",
       "      <td>0</td>\n",
       "    </tr>\n",
       "    <tr>\n",
       "      <th>4</th>\n",
       "      <td>0</td>\n",
       "      <td>1</td>\n",
       "      <td>0</td>\n",
       "      <td>0</td>\n",
       "      <td>2</td>\n",
       "      <td>2</td>\n",
       "    </tr>\n",
       "  </tbody>\n",
       "</table>\n",
       "</div>"
      ],
      "text/plain": [
       "   Purchase Price  Maintenance Costs  Doors  Persons  Luggae Boot  Safety\n",
       "0               2                  2      3        0            1       2\n",
       "1               3                  1      2        0            0       2\n",
       "2               1                  2      1        1            2       0\n",
       "3               0                  0      2        1            0       0\n",
       "4               0                  1      0        0            2       2"
      ]
     },
     "execution_count": 15,
     "metadata": {},
     "output_type": "execute_result"
    }
   ],
   "source": [
    "# first five rows\n",
    "X.head()"
   ]
  },
  {
   "cell_type": "markdown",
   "id": "closing-ownership",
   "metadata": {},
   "source": [
    "I decided to only include a number of clusters range from 1-7 to minimize overfitting the data. It will also help from a computational performance aspect."
   ]
  },
  {
   "cell_type": "code",
   "execution_count": 16,
   "id": "existing-calendar",
   "metadata": {},
   "outputs": [
    {
     "data": {
      "text/plain": [
       "GridSearchCV(cv=5, estimator=KMeans(),\n",
       "             param_grid={'n_clusters': array([1, 2, 3, 4, 5, 6])})"
      ]
     },
     "execution_count": 16,
     "metadata": {},
     "output_type": "execute_result"
    }
   ],
   "source": [
    "# importing GridSearchCv for parameter tuning\n",
    "from sklearn.model_selection import GridSearchCV\n",
    "\n",
    "# instance of knn classifier\n",
    "from sklearn.cluster import KMeans\n",
    "kmeans = KMeans()\n",
    "\n",
    "# grid parameter values\n",
    "params = {\n",
    "    \"n_clusters\": np.arange(1, 7)\n",
    "}\n",
    "\n",
    "# testing all values in the model\n",
    "grid = GridSearchCV(kmeans, params, cv=5)\n",
    "\n",
    "# fitting model to data\n",
    "grid.fit(X)"
   ]
  },
  {
   "cell_type": "code",
   "execution_count": 17,
   "id": "comparable-testament",
   "metadata": {},
   "outputs": [
    {
     "data": {
      "text/html": [
       "<div>\n",
       "<style scoped>\n",
       "    .dataframe tbody tr th:only-of-type {\n",
       "        vertical-align: middle;\n",
       "    }\n",
       "\n",
       "    .dataframe tbody tr th {\n",
       "        vertical-align: top;\n",
       "    }\n",
       "\n",
       "    .dataframe thead th {\n",
       "        text-align: right;\n",
       "    }\n",
       "</style>\n",
       "<table border=\"1\" class=\"dataframe\">\n",
       "  <thead>\n",
       "    <tr style=\"text-align: right;\">\n",
       "      <th></th>\n",
       "      <th>mean_fit_time</th>\n",
       "      <th>std_fit_time</th>\n",
       "      <th>mean_score_time</th>\n",
       "      <th>std_score_time</th>\n",
       "      <th>param_n_clusters</th>\n",
       "      <th>params</th>\n",
       "      <th>split0_test_score</th>\n",
       "      <th>split1_test_score</th>\n",
       "      <th>split2_test_score</th>\n",
       "      <th>split3_test_score</th>\n",
       "      <th>split4_test_score</th>\n",
       "      <th>mean_test_score</th>\n",
       "      <th>std_test_score</th>\n",
       "      <th>rank_test_score</th>\n",
       "    </tr>\n",
       "  </thead>\n",
       "  <tbody>\n",
       "    <tr>\n",
       "      <th>0</th>\n",
       "      <td>0.055674</td>\n",
       "      <td>0.002307</td>\n",
       "      <td>0.001706</td>\n",
       "      <td>0.000469</td>\n",
       "      <td>6</td>\n",
       "      <td>{'n_clusters': 6}</td>\n",
       "      <td>-1122.097332</td>\n",
       "      <td>-1136.284854</td>\n",
       "      <td>-1114.665102</td>\n",
       "      <td>-1099.988617</td>\n",
       "      <td>-1101.791812</td>\n",
       "      <td>-1114.965543</td>\n",
       "      <td>13.441140</td>\n",
       "      <td>1</td>\n",
       "    </tr>\n",
       "    <tr>\n",
       "      <th>1</th>\n",
       "      <td>0.047983</td>\n",
       "      <td>0.002582</td>\n",
       "      <td>0.002027</td>\n",
       "      <td>0.000202</td>\n",
       "      <td>5</td>\n",
       "      <td>{'n_clusters': 5}</td>\n",
       "      <td>-1217.699868</td>\n",
       "      <td>-1226.145908</td>\n",
       "      <td>-1215.918366</td>\n",
       "      <td>-1186.600210</td>\n",
       "      <td>-1202.157749</td>\n",
       "      <td>-1209.704420</td>\n",
       "      <td>13.882504</td>\n",
       "      <td>2</td>\n",
       "    </tr>\n",
       "    <tr>\n",
       "      <th>2</th>\n",
       "      <td>0.040978</td>\n",
       "      <td>0.002351</td>\n",
       "      <td>0.001928</td>\n",
       "      <td>0.000288</td>\n",
       "      <td>4</td>\n",
       "      <td>{'n_clusters': 4}</td>\n",
       "      <td>-1311.301580</td>\n",
       "      <td>-1339.487532</td>\n",
       "      <td>-1298.912529</td>\n",
       "      <td>-1275.053935</td>\n",
       "      <td>-1299.605813</td>\n",
       "      <td>-1304.872278</td>\n",
       "      <td>20.937715</td>\n",
       "      <td>3</td>\n",
       "    </tr>\n",
       "    <tr>\n",
       "      <th>3</th>\n",
       "      <td>0.035499</td>\n",
       "      <td>0.003421</td>\n",
       "      <td>0.001845</td>\n",
       "      <td>0.000234</td>\n",
       "      <td>3</td>\n",
       "      <td>{'n_clusters': 3}</td>\n",
       "      <td>-1473.601998</td>\n",
       "      <td>-1497.618048</td>\n",
       "      <td>-1452.393666</td>\n",
       "      <td>-1429.990831</td>\n",
       "      <td>-1479.854102</td>\n",
       "      <td>-1466.691729</td>\n",
       "      <td>23.361625</td>\n",
       "      <td>4</td>\n",
       "    </tr>\n",
       "    <tr>\n",
       "      <th>4</th>\n",
       "      <td>0.026808</td>\n",
       "      <td>0.000251</td>\n",
       "      <td>0.002013</td>\n",
       "      <td>0.000293</td>\n",
       "      <td>2</td>\n",
       "      <td>{'n_clusters': 2}</td>\n",
       "      <td>-1677.255946</td>\n",
       "      <td>-1693.697673</td>\n",
       "      <td>-1655.086391</td>\n",
       "      <td>-1596.787411</td>\n",
       "      <td>-1678.369930</td>\n",
       "      <td>-1660.239470</td>\n",
       "      <td>34.030702</td>\n",
       "      <td>5</td>\n",
       "    </tr>\n",
       "  </tbody>\n",
       "</table>\n",
       "</div>"
      ],
      "text/plain": [
       "   mean_fit_time  std_fit_time  mean_score_time  std_score_time  \\\n",
       "0       0.055674      0.002307         0.001706        0.000469   \n",
       "1       0.047983      0.002582         0.002027        0.000202   \n",
       "2       0.040978      0.002351         0.001928        0.000288   \n",
       "3       0.035499      0.003421         0.001845        0.000234   \n",
       "4       0.026808      0.000251         0.002013        0.000293   \n",
       "\n",
       "  param_n_clusters             params  split0_test_score  split1_test_score  \\\n",
       "0                6  {'n_clusters': 6}       -1122.097332       -1136.284854   \n",
       "1                5  {'n_clusters': 5}       -1217.699868       -1226.145908   \n",
       "2                4  {'n_clusters': 4}       -1311.301580       -1339.487532   \n",
       "3                3  {'n_clusters': 3}       -1473.601998       -1497.618048   \n",
       "4                2  {'n_clusters': 2}       -1677.255946       -1693.697673   \n",
       "\n",
       "   split2_test_score  split3_test_score  split4_test_score  mean_test_score  \\\n",
       "0       -1114.665102       -1099.988617       -1101.791812     -1114.965543   \n",
       "1       -1215.918366       -1186.600210       -1202.157749     -1209.704420   \n",
       "2       -1298.912529       -1275.053935       -1299.605813     -1304.872278   \n",
       "3       -1452.393666       -1429.990831       -1479.854102     -1466.691729   \n",
       "4       -1655.086391       -1596.787411       -1678.369930     -1660.239470   \n",
       "\n",
       "   std_test_score  rank_test_score  \n",
       "0       13.441140                1  \n",
       "1       13.882504                2  \n",
       "2       20.937715                3  \n",
       "3       23.361625                4  \n",
       "4       34.030702                5  "
      ]
     },
     "execution_count": 17,
     "metadata": {},
     "output_type": "execute_result"
    }
   ],
   "source": [
    "# displaying grid search results\n",
    "results = pd.DataFrame(grid.cv_results_).sort_values(\"rank_test_score\").reset_index(drop=True)\n",
    "results[:5]"
   ]
  },
  {
   "cell_type": "markdown",
   "id": "united-washington",
   "metadata": {},
   "source": [
    "Six clusters returns the highest mean distance test score **(-1117.90)**. I use this model to predict target values."
   ]
  },
  {
   "cell_type": "code",
   "execution_count": 18,
   "id": "statutory-whale",
   "metadata": {},
   "outputs": [
    {
     "data": {
      "text/plain": [
       "0    0.203125\n",
       "1    0.140625\n",
       "2    0.203125\n",
       "3    0.156250\n",
       "4    0.156250\n",
       "5    0.140625\n",
       "dtype: float64"
      ]
     },
     "execution_count": 18,
     "metadata": {},
     "output_type": "execute_result"
    }
   ],
   "source": [
    "# predicting target values\n",
    "pred_target = grid.predict(X)\n",
    "pd.Series(pred_target).value_counts(normalize = True).sort_index()"
   ]
  },
  {
   "cell_type": "markdown",
   "id": "numerical-swedish",
   "metadata": {},
   "source": [
    "The clusters have similar relative frequencies."
   ]
  },
  {
   "cell_type": "markdown",
   "id": "obvious-style",
   "metadata": {},
   "source": [
    "It will be difficult to visualize clusters due to the high number of categorical features. Even using methods like PCA might not be beneficial. A possible solution is to use stripplots with the rating as a hue. Reducing the number of unique values in the rating column to \"unacceptable\" and \"acceptable\" will make it easier to find meaningful insights."
   ]
  },
  {
   "cell_type": "code",
   "execution_count": 19,
   "id": "curious-reducing",
   "metadata": {},
   "outputs": [
    {
     "data": {
      "text/html": [
       "<div>\n",
       "<style scoped>\n",
       "    .dataframe tbody tr th:only-of-type {\n",
       "        vertical-align: middle;\n",
       "    }\n",
       "\n",
       "    .dataframe tbody tr th {\n",
       "        vertical-align: top;\n",
       "    }\n",
       "\n",
       "    .dataframe thead th {\n",
       "        text-align: right;\n",
       "    }\n",
       "</style>\n",
       "<table border=\"1\" class=\"dataframe\">\n",
       "  <thead>\n",
       "    <tr style=\"text-align: right;\">\n",
       "      <th></th>\n",
       "      <th>Purchase Price</th>\n",
       "      <th>Maintenance Costs</th>\n",
       "      <th>Doors</th>\n",
       "      <th>Persons</th>\n",
       "      <th>Luggae Boot</th>\n",
       "      <th>Safety</th>\n",
       "      <th>New Rating</th>\n",
       "      <th>Cluster</th>\n",
       "    </tr>\n",
       "  </thead>\n",
       "  <tbody>\n",
       "    <tr>\n",
       "      <th>0</th>\n",
       "      <td>2</td>\n",
       "      <td>2</td>\n",
       "      <td>3</td>\n",
       "      <td>0</td>\n",
       "      <td>1</td>\n",
       "      <td>2</td>\n",
       "      <td>unacc</td>\n",
       "      <td>0</td>\n",
       "    </tr>\n",
       "    <tr>\n",
       "      <th>1</th>\n",
       "      <td>3</td>\n",
       "      <td>1</td>\n",
       "      <td>2</td>\n",
       "      <td>0</td>\n",
       "      <td>0</td>\n",
       "      <td>2</td>\n",
       "      <td>unacc</td>\n",
       "      <td>0</td>\n",
       "    </tr>\n",
       "    <tr>\n",
       "      <th>2</th>\n",
       "      <td>1</td>\n",
       "      <td>2</td>\n",
       "      <td>1</td>\n",
       "      <td>1</td>\n",
       "      <td>2</td>\n",
       "      <td>0</td>\n",
       "      <td>acc</td>\n",
       "      <td>1</td>\n",
       "    </tr>\n",
       "    <tr>\n",
       "      <th>3</th>\n",
       "      <td>0</td>\n",
       "      <td>0</td>\n",
       "      <td>2</td>\n",
       "      <td>1</td>\n",
       "      <td>0</td>\n",
       "      <td>0</td>\n",
       "      <td>acc</td>\n",
       "      <td>3</td>\n",
       "    </tr>\n",
       "    <tr>\n",
       "      <th>4</th>\n",
       "      <td>0</td>\n",
       "      <td>1</td>\n",
       "      <td>0</td>\n",
       "      <td>0</td>\n",
       "      <td>2</td>\n",
       "      <td>2</td>\n",
       "      <td>unacc</td>\n",
       "      <td>1</td>\n",
       "    </tr>\n",
       "    <tr>\n",
       "      <th>5</th>\n",
       "      <td>2</td>\n",
       "      <td>3</td>\n",
       "      <td>3</td>\n",
       "      <td>0</td>\n",
       "      <td>0</td>\n",
       "      <td>1</td>\n",
       "      <td>unacc</td>\n",
       "      <td>4</td>\n",
       "    </tr>\n",
       "    <tr>\n",
       "      <th>6</th>\n",
       "      <td>2</td>\n",
       "      <td>2</td>\n",
       "      <td>2</td>\n",
       "      <td>2</td>\n",
       "      <td>0</td>\n",
       "      <td>0</td>\n",
       "      <td>acc</td>\n",
       "      <td>0</td>\n",
       "    </tr>\n",
       "    <tr>\n",
       "      <th>7</th>\n",
       "      <td>3</td>\n",
       "      <td>0</td>\n",
       "      <td>1</td>\n",
       "      <td>1</td>\n",
       "      <td>2</td>\n",
       "      <td>0</td>\n",
       "      <td>unacc</td>\n",
       "      <td>2</td>\n",
       "    </tr>\n",
       "    <tr>\n",
       "      <th>8</th>\n",
       "      <td>2</td>\n",
       "      <td>1</td>\n",
       "      <td>0</td>\n",
       "      <td>0</td>\n",
       "      <td>1</td>\n",
       "      <td>2</td>\n",
       "      <td>unacc</td>\n",
       "      <td>2</td>\n",
       "    </tr>\n",
       "    <tr>\n",
       "      <th>9</th>\n",
       "      <td>3</td>\n",
       "      <td>1</td>\n",
       "      <td>3</td>\n",
       "      <td>1</td>\n",
       "      <td>2</td>\n",
       "      <td>0</td>\n",
       "      <td>acc</td>\n",
       "      <td>0</td>\n",
       "    </tr>\n",
       "  </tbody>\n",
       "</table>\n",
       "</div>"
      ],
      "text/plain": [
       "   Purchase Price  Maintenance Costs  Doors  Persons  Luggae Boot  Safety  \\\n",
       "0               2                  2      3        0            1       2   \n",
       "1               3                  1      2        0            0       2   \n",
       "2               1                  2      1        1            2       0   \n",
       "3               0                  0      2        1            0       0   \n",
       "4               0                  1      0        0            2       2   \n",
       "5               2                  3      3        0            0       1   \n",
       "6               2                  2      2        2            0       0   \n",
       "7               3                  0      1        1            2       0   \n",
       "8               2                  1      0        0            1       2   \n",
       "9               3                  1      3        1            2       0   \n",
       "\n",
       "  New Rating  Cluster  \n",
       "0      unacc        0  \n",
       "1      unacc        0  \n",
       "2        acc        1  \n",
       "3        acc        3  \n",
       "4      unacc        1  \n",
       "5      unacc        4  \n",
       "6        acc        0  \n",
       "7      unacc        2  \n",
       "8      unacc        2  \n",
       "9        acc        0  "
      ]
     },
     "execution_count": 19,
     "metadata": {},
     "output_type": "execute_result"
    }
   ],
   "source": [
    "# creating new dataframe with features and predicted targets\n",
    "df_results = X.copy()\n",
    "df_results['New Rating'] = car_data['Rating'].apply(lambda x: \"unacc\" if x == \"unacc\" else 'acc')\n",
    "df_results[\"Cluster\"] = pred_target\n",
    "df_results[:10]"
   ]
  },
  {
   "cell_type": "code",
   "execution_count": 20,
   "id": "wrapped-topic",
   "metadata": {},
   "outputs": [
    {
     "data": {
      "image/png": "[encoded data removed]",
      "text/plain": [
       "<Figure size 576x288 with 1 Axes>"
      ]
     },
     "metadata": {},
     "output_type": "display_data"
    }
   ],
   "source": [
    "# using swarm plots to visualize clusters\n",
    "plt.figure(figsize=(8,4))\n",
    "sns.stripplot(x=\"Cluster\", y=\"Purchase Price\", hue=\"New Rating\", palette=\"hls\", jitter=True, data=df_results);\n",
    "plt.legend(facecolor=\"white\", bbox_to_anchor=(1.2, 1))\n",
    "plt.show()"
   ]
  },
  {
   "cell_type": "markdown",
   "id": "satisfactory-livestock",
   "metadata": {},
   "source": [
    "Clusters 1-3 have more acceptable car ratings in low-medium price range. Clusters 0 and 4-5 have more acceptable car ratings in the medium-high range."
   ]
  },
  {
   "cell_type": "code",
   "execution_count": 21,
   "id": "lesser-corps",
   "metadata": {},
   "outputs": [
    {
     "data": {
      "image/png": "[encoded data removed]",
      "text/plain": [
       "<Figure size 576x288 with 1 Axes>"
      ]
     },
     "metadata": {},
     "output_type": "display_data"
    }
   ],
   "source": [
    "# using swarm plots to visualize clusters\n",
    "plt.figure(figsize=(8,4))\n",
    "sns.stripplot(x=\"Cluster\", y=\"Maintenance Costs\", hue=\"New Rating\", palette=\"hls\", jitter=True, data=df_results);\n",
    "plt.legend(facecolor=\"white\", bbox_to_anchor=(1.2, 1))\n",
    "plt.show()"
   ]
  },
  {
   "cell_type": "markdown",
   "id": "unexpected-minnesota",
   "metadata": {},
   "source": [
    "Clusters 0 and 3 have more acceptable car ratings due to low-high maintenance costs. Clusters 1 and 4 have fewer acceptable car ratings because most vehicles have high-very high maintenance costs. "
   ]
  },
  {
   "cell_type": "code",
   "execution_count": 22,
   "id": "disciplinary-gateway",
   "metadata": {},
   "outputs": [
    {
     "data": {
      "image/png": "[encoded data removed]",
      "text/plain": [
       "<Figure size 576x288 with 1 Axes>"
      ]
     },
     "metadata": {},
     "output_type": "display_data"
    }
   ],
   "source": [
    "# using swarm plots to visualize clusters\n",
    "plt.figure(figsize=(8,4))\n",
    "sns.stripplot(x=\"Cluster\", y=\"Doors\", hue=\"New Rating\", palette=\"hls\", jitter=True, data=df_results);\n",
    "plt.legend(facecolor=\"white\", bbox_to_anchor=(1.2, 1))\n",
    "plt.show()"
   ]
  },
  {
   "cell_type": "markdown",
   "id": "shaped-lexington",
   "metadata": {},
   "source": [
    "The doors clusters do not indicate any useful insights. The acceptable ratings are all over the place."
   ]
  },
  {
   "cell_type": "code",
   "execution_count": 23,
   "id": "bottom-florence",
   "metadata": {},
   "outputs": [
    {
     "data": {
      "image/png": "[encoded data removed]",
      "text/plain": [
       "<Figure size 576x288 with 1 Axes>"
      ]
     },
     "metadata": {},
     "output_type": "display_data"
    }
   ],
   "source": [
    "# using swarm plots to visualize clusters\n",
    "plt.figure(figsize=(8,4))\n",
    "sns.stripplot(x=\"Cluster\", y=\"Persons\", hue=\"New Rating\", palette=\"hls\", jitter=True, data=df_results);\n",
    "plt.legend(facecolor=\"white\", bbox_to_anchor=(1.2, 1))\n",
    "plt.show()"
   ]
  },
  {
   "cell_type": "markdown",
   "id": "vanilla-crash",
   "metadata": {},
   "source": [
    "All clusters have a high number of unacceptable car ratings for two person vehicles. On the contrast, all of them have a good amount of vehicles with acceptable car ratings for four person or more than four person vehicles."
   ]
  },
  {
   "cell_type": "code",
   "execution_count": 24,
   "id": "transsexual-burner",
   "metadata": {},
   "outputs": [
    {
     "data": {
      "image/png": "[encoded data removed]",
      "text/plain": [
       "<Figure size 576x288 with 1 Axes>"
      ]
     },
     "metadata": {},
     "output_type": "display_data"
    }
   ],
   "source": [
    "# using swarm plots to visualize clusters\n",
    "plt.figure(figsize=(8,4))\n",
    "sns.stripplot(x=\"Cluster\", y=\"Luggae Boot\", hue=\"New Rating\", palette=\"hls\", jitter=True, data=df_results);\n",
    "plt.legend(facecolor=\"white\", bbox_to_anchor=(1.2, 1))\n",
    "plt.show()"
   ]
  },
  {
   "cell_type": "markdown",
   "id": "numerous-apparel",
   "metadata": {},
   "source": [
    "The first two cluster have more acceptable car ratings for low-medium luggage vehicles."
   ]
  },
  {
   "cell_type": "code",
   "execution_count": 25,
   "id": "affiliated-printing",
   "metadata": {},
   "outputs": [
    {
     "data": {
      "image/png": "[encoded data removed]",
      "text/plain": [
       "<Figure size 576x288 with 1 Axes>"
      ]
     },
     "metadata": {},
     "output_type": "display_data"
    }
   ],
   "source": [
    "# using swarm plots to visualize clusters\n",
    "plt.figure(figsize=(8,4))\n",
    "sns.stripplot(x=\"Cluster\", y=\"Safety\", hue=\"New Rating\", palette=\"hls\", jitter=True, data=df_results);\n",
    "plt.legend(facecolor=\"white\", bbox_to_anchor=(1.2, 1))\n",
    "plt.show()"
   ]
  },
  {
   "cell_type": "markdown",
   "id": "reported-commissioner",
   "metadata": {},
   "source": [
    "Cluster 1, 3, and 5 have a lot of acceptable car ratings for high safety vehicles. However, there are many acceptable car ratings for low safe vehicles across all cluster. I wonder if their associated with another feature we have seen?"
   ]
  },
  {
   "cell_type": "markdown",
   "id": "invalid-certification",
   "metadata": {},
   "source": [
    "Two features that might be interesting from a business perspective are purchase price and maintenance costs. The purchase price variable has an even number of clusters with a high amount of acceptable car ratings in different price ranges. Clusters 1-3 have many acceptable car ratings from low-mid purchase prices, while clusters 0, 4, and 5 have many from high-very high purchase prices. For maintenance costs, clusters with low-medium costs have more acceptable car ratings. These feature patterns are easy to identify separately using stripplots."
   ]
  },
  {
   "cell_type": "markdown",
   "id": "brief-think",
   "metadata": {},
   "source": [
    "### K-Nearest Neighbors Classification"
   ]
  },
  {
   "cell_type": "markdown",
   "id": "interim-shadow",
   "metadata": {},
   "source": [
    "The objective with a K-Nearest Neighbor classifier is to determine accuracy, precision, recall, and f1 scores for the target **\"ratings\"**."
   ]
  },
  {
   "cell_type": "code",
   "execution_count": 26,
   "id": "integrated-future",
   "metadata": {},
   "outputs": [],
   "source": [
    "# importing scikit-learn packages for KNeighbors classifier model\n",
    "from sklearn.neighbors import KNeighborsClassifier\n",
    "from sklearn.model_selection import train_test_split\n",
    "from sklearn.impute import SimpleImputer\n",
    "from sklearn.preprocessing import OneHotEncoder\n",
    "from sklearn.compose import make_column_transformer\n",
    "from sklearn.pipeline import make_pipeline"
   ]
  },
  {
   "cell_type": "code",
   "execution_count": 27,
   "id": "tracked-taiwan",
   "metadata": {},
   "outputs": [
    {
     "name": "stdout",
     "output_type": "stream",
     "text": [
      "(1728, 6)\n",
      "(1728,)\n"
     ]
    }
   ],
   "source": [
    "# features\n",
    "X = car_data.iloc[:, :-1]\n",
    "print(X.shape)\n",
    "\n",
    "# target\n",
    "y = car_data.Rating\n",
    "print(y.shape)"
   ]
  },
  {
   "cell_type": "markdown",
   "id": "written-patrol",
   "metadata": {},
   "source": [
    "Splitting the data into traning and testing for a final holdout validation set.\n",
    "20% will be used for the testing set."
   ]
  },
  {
   "cell_type": "code",
   "execution_count": 28,
   "id": "ambient-portuguese",
   "metadata": {},
   "outputs": [
    {
     "name": "stdout",
     "output_type": "stream",
     "text": [
      "X_train: 1382 X_test: 346 y_train: 1382 y_test: 346\n"
     ]
    }
   ],
   "source": [
    "# splitting the data using K-Folds Cross Validation\n",
    "X_train, X_test, y_train, y_test=train_test_split(X, y, test_size=0.2, random_state=1, shuffle=True)\n",
    "print(\"X_train:\", len(X_train), \"X_test:\", len(X_test),\n",
    "      \"y_train:\", len(X_train), \"y_test:\", len(X_test))"
   ]
  },
  {
   "cell_type": "code",
   "execution_count": 29,
   "id": "drawn-bikini",
   "metadata": {},
   "outputs": [],
   "source": [
    "# creating Simple Imputer, OneHot Encoder, and Standard Scaler objects\n",
    "constant_imp = SimpleImputer(strategy=\"most_frequent\")\n",
    "ohe = OneHotEncoder(handle_unknown=\"ignore\")"
   ]
  },
  {
   "cell_type": "code",
   "execution_count": 30,
   "id": "transsexual-conclusion",
   "metadata": {},
   "outputs": [],
   "source": [
    "# creating pipeline for categorical variable transformations\n",
    "imp_ohe = make_pipeline(constant_imp, ohe)"
   ]
  },
  {
   "cell_type": "code",
   "execution_count": 31,
   "id": "defined-peoples",
   "metadata": {},
   "outputs": [],
   "source": [
    "# transforming variables using a column transformer\n",
    "ct_imputer = make_column_transformer(\n",
    "    (imp_ohe, X.columns)\n",
    ")"
   ]
  },
  {
   "cell_type": "code",
   "execution_count": 32,
   "id": "massive-shower",
   "metadata": {},
   "outputs": [],
   "source": [
    "# creating an instance of knn classifier\n",
    "knn = KNeighborsClassifier(n_neighbors=3)"
   ]
  },
  {
   "cell_type": "code",
   "execution_count": 33,
   "id": "dangerous-airport",
   "metadata": {},
   "outputs": [
    {
     "data": {
      "text/plain": [
       "Pipeline(steps=[('columntransformer',\n",
       "                 ColumnTransformer(transformers=[('pipeline',\n",
       "                                                  Pipeline(steps=[('simpleimputer',\n",
       "                                                                   SimpleImputer(strategy='most_frequent')),\n",
       "                                                                  ('onehotencoder',\n",
       "                                                                   OneHotEncoder(handle_unknown='ignore'))]),\n",
       "                                                  Index(['Purchase Price', 'Maintenance Costs', 'Doors', 'Persons',\n",
       "       'Luggae Boot', 'Safety'],\n",
       "      dtype='object'))])),\n",
       "                ('kneighborsclassifier', KNeighborsClassifier(n_neighbors=3))])"
      ]
     },
     "execution_count": 33,
     "metadata": {},
     "output_type": "execute_result"
    }
   ],
   "source": [
    "# creating a pipeline\n",
    "pipe = make_pipeline(ct_imputer, knn)\n",
    "pipe.fit(X_train, y_train)"
   ]
  },
  {
   "cell_type": "code",
   "execution_count": 34,
   "id": "subtle-williams",
   "metadata": {},
   "outputs": [
    {
     "data": {
      "text/plain": [
       "0.609"
      ]
     },
     "execution_count": 34,
     "metadata": {},
     "output_type": "execute_result"
    }
   ],
   "source": [
    "# using cross val score function to test model accuracy\n",
    "from sklearn.model_selection import cross_val_score\n",
    "round(cross_val_score(pipe, X, y, cv=5, scoring=\"f1_macro\").mean(), 3)"
   ]
  },
  {
   "cell_type": "code",
   "execution_count": 35,
   "id": "biblical-diana",
   "metadata": {},
   "outputs": [
    {
     "data": {
      "text/plain": [
       "dict_keys(['columntransformer', 'kneighborsclassifier'])"
      ]
     },
     "execution_count": 35,
     "metadata": {},
     "output_type": "execute_result"
    }
   ],
   "source": [
    "# retrieving named steps in the pipeline\n",
    "pipe.named_steps.keys()"
   ]
  },
  {
   "cell_type": "markdown",
   "id": "covered-villa",
   "metadata": {},
   "source": [
    "Two important parameters than can use tuning are:\n",
    "- number of neighbors\n",
    "- weights  \n",
    "\n",
    "The max number of neighbors will be 25. Weights can only uniform or distance measurements."
   ]
  },
  {
   "cell_type": "code",
   "execution_count": 36,
   "id": "respective-student",
   "metadata": {},
   "outputs": [],
   "source": [
    "# grid parameter values\n",
    "params = {\n",
    "    \"kneighborsclassifier__n_neighbors\": np.arange(1, 25),\n",
    "    \"kneighborsclassifier__weights\": [\"uniform\", \"distance\"]\n",
    "}"
   ]
  },
  {
   "cell_type": "code",
   "execution_count": 37,
   "id": "conventional-updating",
   "metadata": {},
   "outputs": [],
   "source": [
    "# creating grid search CV instance\n",
    "from sklearn.model_selection import GridSearchCV\n",
    "grid = GridSearchCV(pipe, params, cv=5, scoring=\"f1_macro\")\n",
    "grid.fit(X, y);"
   ]
  },
  {
   "cell_type": "code",
   "execution_count": 38,
   "id": "touched-return",
   "metadata": {},
   "outputs": [
    {
     "data": {
      "text/html": [
       "<div>\n",
       "<style scoped>\n",
       "    .dataframe tbody tr th:only-of-type {\n",
       "        vertical-align: middle;\n",
       "    }\n",
       "\n",
       "    .dataframe tbody tr th {\n",
       "        vertical-align: top;\n",
       "    }\n",
       "\n",
       "    .dataframe thead th {\n",
       "        text-align: right;\n",
       "    }\n",
       "</style>\n",
       "<table border=\"1\" class=\"dataframe\">\n",
       "  <thead>\n",
       "    <tr style=\"text-align: right;\">\n",
       "      <th></th>\n",
       "      <th>mean_fit_time</th>\n",
       "      <th>std_fit_time</th>\n",
       "      <th>mean_score_time</th>\n",
       "      <th>std_score_time</th>\n",
       "      <th>param_kneighborsclassifier__n_neighbors</th>\n",
       "      <th>param_kneighborsclassifier__weights</th>\n",
       "      <th>params</th>\n",
       "      <th>split0_test_score</th>\n",
       "      <th>split1_test_score</th>\n",
       "      <th>split2_test_score</th>\n",
       "      <th>split3_test_score</th>\n",
       "      <th>split4_test_score</th>\n",
       "      <th>mean_test_score</th>\n",
       "      <th>std_test_score</th>\n",
       "      <th>rank_test_score</th>\n",
       "    </tr>\n",
       "  </thead>\n",
       "  <tbody>\n",
       "    <tr>\n",
       "      <th>0</th>\n",
       "      <td>0.022055</td>\n",
       "      <td>0.011896</td>\n",
       "      <td>0.037149</td>\n",
       "      <td>0.014201</td>\n",
       "      <td>11</td>\n",
       "      <td>distance</td>\n",
       "      <td>{'kneighborsclassifier__n_neighbors': 11, 'kne...</td>\n",
       "      <td>0.719055</td>\n",
       "      <td>0.822225</td>\n",
       "      <td>0.779434</td>\n",
       "      <td>0.838576</td>\n",
       "      <td>0.719297</td>\n",
       "      <td>0.775718</td>\n",
       "      <td>0.050044</td>\n",
       "      <td>1</td>\n",
       "    </tr>\n",
       "    <tr>\n",
       "      <th>1</th>\n",
       "      <td>0.010879</td>\n",
       "      <td>0.000660</td>\n",
       "      <td>0.020863</td>\n",
       "      <td>0.000807</td>\n",
       "      <td>9</td>\n",
       "      <td>distance</td>\n",
       "      <td>{'kneighborsclassifier__n_neighbors': 9, 'knei...</td>\n",
       "      <td>0.710017</td>\n",
       "      <td>0.818615</td>\n",
       "      <td>0.739502</td>\n",
       "      <td>0.819285</td>\n",
       "      <td>0.742144</td>\n",
       "      <td>0.765913</td>\n",
       "      <td>0.044750</td>\n",
       "      <td>2</td>\n",
       "    </tr>\n",
       "    <tr>\n",
       "      <th>2</th>\n",
       "      <td>0.010714</td>\n",
       "      <td>0.000665</td>\n",
       "      <td>0.028080</td>\n",
       "      <td>0.003077</td>\n",
       "      <td>9</td>\n",
       "      <td>uniform</td>\n",
       "      <td>{'kneighborsclassifier__n_neighbors': 9, 'knei...</td>\n",
       "      <td>0.710017</td>\n",
       "      <td>0.818615</td>\n",
       "      <td>0.739502</td>\n",
       "      <td>0.819285</td>\n",
       "      <td>0.742144</td>\n",
       "      <td>0.765913</td>\n",
       "      <td>0.044750</td>\n",
       "      <td>2</td>\n",
       "    </tr>\n",
       "    <tr>\n",
       "      <th>3</th>\n",
       "      <td>0.011429</td>\n",
       "      <td>0.000597</td>\n",
       "      <td>0.028469</td>\n",
       "      <td>0.001667</td>\n",
       "      <td>11</td>\n",
       "      <td>uniform</td>\n",
       "      <td>{'kneighborsclassifier__n_neighbors': 11, 'kne...</td>\n",
       "      <td>0.719055</td>\n",
       "      <td>0.809079</td>\n",
       "      <td>0.779434</td>\n",
       "      <td>0.819311</td>\n",
       "      <td>0.693526</td>\n",
       "      <td>0.764081</td>\n",
       "      <td>0.049631</td>\n",
       "      <td>4</td>\n",
       "    </tr>\n",
       "    <tr>\n",
       "      <th>4</th>\n",
       "      <td>0.010429</td>\n",
       "      <td>0.001195</td>\n",
       "      <td>0.020428</td>\n",
       "      <td>0.002376</td>\n",
       "      <td>12</td>\n",
       "      <td>distance</td>\n",
       "      <td>{'kneighborsclassifier__n_neighbors': 12, 'kne...</td>\n",
       "      <td>0.707205</td>\n",
       "      <td>0.834049</td>\n",
       "      <td>0.784011</td>\n",
       "      <td>0.742362</td>\n",
       "      <td>0.718969</td>\n",
       "      <td>0.757319</td>\n",
       "      <td>0.046488</td>\n",
       "      <td>5</td>\n",
       "    </tr>\n",
       "    <tr>\n",
       "      <th>5</th>\n",
       "      <td>0.016091</td>\n",
       "      <td>0.002098</td>\n",
       "      <td>0.031180</td>\n",
       "      <td>0.005553</td>\n",
       "      <td>10</td>\n",
       "      <td>distance</td>\n",
       "      <td>{'kneighborsclassifier__n_neighbors': 10, 'kne...</td>\n",
       "      <td>0.689499</td>\n",
       "      <td>0.819699</td>\n",
       "      <td>0.764017</td>\n",
       "      <td>0.800045</td>\n",
       "      <td>0.709179</td>\n",
       "      <td>0.756488</td>\n",
       "      <td>0.050349</td>\n",
       "      <td>6</td>\n",
       "    </tr>\n",
       "    <tr>\n",
       "      <th>6</th>\n",
       "      <td>0.011199</td>\n",
       "      <td>0.000563</td>\n",
       "      <td>0.028504</td>\n",
       "      <td>0.017575</td>\n",
       "      <td>13</td>\n",
       "      <td>distance</td>\n",
       "      <td>{'kneighborsclassifier__n_neighbors': 13, 'kne...</td>\n",
       "      <td>0.708510</td>\n",
       "      <td>0.848175</td>\n",
       "      <td>0.787258</td>\n",
       "      <td>0.767578</td>\n",
       "      <td>0.669058</td>\n",
       "      <td>0.756116</td>\n",
       "      <td>0.062324</td>\n",
       "      <td>7</td>\n",
       "    </tr>\n",
       "    <tr>\n",
       "      <th>7</th>\n",
       "      <td>0.010843</td>\n",
       "      <td>0.000739</td>\n",
       "      <td>0.029120</td>\n",
       "      <td>0.002320</td>\n",
       "      <td>10</td>\n",
       "      <td>uniform</td>\n",
       "      <td>{'kneighborsclassifier__n_neighbors': 10, 'kne...</td>\n",
       "      <td>0.689499</td>\n",
       "      <td>0.819699</td>\n",
       "      <td>0.764017</td>\n",
       "      <td>0.800045</td>\n",
       "      <td>0.683462</td>\n",
       "      <td>0.751344</td>\n",
       "      <td>0.055924</td>\n",
       "      <td>8</td>\n",
       "    </tr>\n",
       "    <tr>\n",
       "      <th>8</th>\n",
       "      <td>0.011221</td>\n",
       "      <td>0.001570</td>\n",
       "      <td>0.026763</td>\n",
       "      <td>0.001578</td>\n",
       "      <td>12</td>\n",
       "      <td>uniform</td>\n",
       "      <td>{'kneighborsclassifier__n_neighbors': 12, 'kne...</td>\n",
       "      <td>0.688812</td>\n",
       "      <td>0.811787</td>\n",
       "      <td>0.759845</td>\n",
       "      <td>0.740517</td>\n",
       "      <td>0.721349</td>\n",
       "      <td>0.744462</td>\n",
       "      <td>0.041027</td>\n",
       "      <td>9</td>\n",
       "    </tr>\n",
       "    <tr>\n",
       "      <th>9</th>\n",
       "      <td>0.029410</td>\n",
       "      <td>0.008800</td>\n",
       "      <td>0.045139</td>\n",
       "      <td>0.013232</td>\n",
       "      <td>14</td>\n",
       "      <td>distance</td>\n",
       "      <td>{'kneighborsclassifier__n_neighbors': 14, 'kne...</td>\n",
       "      <td>0.720014</td>\n",
       "      <td>0.839483</td>\n",
       "      <td>0.743243</td>\n",
       "      <td>0.709606</td>\n",
       "      <td>0.685193</td>\n",
       "      <td>0.739508</td>\n",
       "      <td>0.053354</td>\n",
       "      <td>10</td>\n",
       "    </tr>\n",
       "  </tbody>\n",
       "</table>\n",
       "</div>"
      ],
      "text/plain": [
       "   mean_fit_time  std_fit_time  mean_score_time  std_score_time  \\\n",
       "0       0.022055      0.011896         0.037149        0.014201   \n",
       "1       0.010879      0.000660         0.020863        0.000807   \n",
       "2       0.010714      0.000665         0.028080        0.003077   \n",
       "3       0.011429      0.000597         0.028469        0.001667   \n",
       "4       0.010429      0.001195         0.020428        0.002376   \n",
       "5       0.016091      0.002098         0.031180        0.005553   \n",
       "6       0.011199      0.000563         0.028504        0.017575   \n",
       "7       0.010843      0.000739         0.029120        0.002320   \n",
       "8       0.011221      0.001570         0.026763        0.001578   \n",
       "9       0.029410      0.008800         0.045139        0.013232   \n",
       "\n",
       "  param_kneighborsclassifier__n_neighbors param_kneighborsclassifier__weights  \\\n",
       "0                                      11                            distance   \n",
       "1                                       9                            distance   \n",
       "2                                       9                             uniform   \n",
       "3                                      11                             uniform   \n",
       "4                                      12                            distance   \n",
       "5                                      10                            distance   \n",
       "6                                      13                            distance   \n",
       "7                                      10                             uniform   \n",
       "8                                      12                             uniform   \n",
       "9                                      14                            distance   \n",
       "\n",
       "                                              params  split0_test_score  \\\n",
       "0  {'kneighborsclassifier__n_neighbors': 11, 'kne...           0.719055   \n",
       "1  {'kneighborsclassifier__n_neighbors': 9, 'knei...           0.710017   \n",
       "2  {'kneighborsclassifier__n_neighbors': 9, 'knei...           0.710017   \n",
       "3  {'kneighborsclassifier__n_neighbors': 11, 'kne...           0.719055   \n",
       "4  {'kneighborsclassifier__n_neighbors': 12, 'kne...           0.707205   \n",
       "5  {'kneighborsclassifier__n_neighbors': 10, 'kne...           0.689499   \n",
       "6  {'kneighborsclassifier__n_neighbors': 13, 'kne...           0.708510   \n",
       "7  {'kneighborsclassifier__n_neighbors': 10, 'kne...           0.689499   \n",
       "8  {'kneighborsclassifier__n_neighbors': 12, 'kne...           0.688812   \n",
       "9  {'kneighborsclassifier__n_neighbors': 14, 'kne...           0.720014   \n",
       "\n",
       "   split1_test_score  split2_test_score  split3_test_score  split4_test_score  \\\n",
       "0           0.822225           0.779434           0.838576           0.719297   \n",
       "1           0.818615           0.739502           0.819285           0.742144   \n",
       "2           0.818615           0.739502           0.819285           0.742144   \n",
       "3           0.809079           0.779434           0.819311           0.693526   \n",
       "4           0.834049           0.784011           0.742362           0.718969   \n",
       "5           0.819699           0.764017           0.800045           0.709179   \n",
       "6           0.848175           0.787258           0.767578           0.669058   \n",
       "7           0.819699           0.764017           0.800045           0.683462   \n",
       "8           0.811787           0.759845           0.740517           0.721349   \n",
       "9           0.839483           0.743243           0.709606           0.685193   \n",
       "\n",
       "   mean_test_score  std_test_score  rank_test_score  \n",
       "0         0.775718        0.050044                1  \n",
       "1         0.765913        0.044750                2  \n",
       "2         0.765913        0.044750                2  \n",
       "3         0.764081        0.049631                4  \n",
       "4         0.757319        0.046488                5  \n",
       "5         0.756488        0.050349                6  \n",
       "6         0.756116        0.062324                7  \n",
       "7         0.751344        0.055924                8  \n",
       "8         0.744462        0.041027                9  \n",
       "9         0.739508        0.053354               10  "
      ]
     },
     "execution_count": 38,
     "metadata": {},
     "output_type": "execute_result"
    }
   ],
   "source": [
    "# displaying grid search results\n",
    "results = pd.DataFrame(grid.cv_results_).sort_values(\"rank_test_score\").reset_index(drop=True)[:10]\n",
    "results"
   ]
  },
  {
   "cell_type": "markdown",
   "id": "refined-trailer",
   "metadata": {},
   "source": [
    "Twelve neighbors produces the highest mean f1 score (0.77) using distance as the weight."
   ]
  },
  {
   "cell_type": "code",
   "execution_count": 39,
   "id": "stupid-joyce",
   "metadata": {},
   "outputs": [],
   "source": [
    "# predicting target probabilities\n",
    "pred_probs = grid.predict_proba(X_test)"
   ]
  },
  {
   "cell_type": "code",
   "execution_count": 40,
   "id": "collect-comedy",
   "metadata": {},
   "outputs": [],
   "source": [
    "# predicting target\n",
    "pred_out = grid.predict(X_test)"
   ]
  },
  {
   "cell_type": "code",
   "execution_count": 41,
   "id": "digital-cyprus",
   "metadata": {},
   "outputs": [],
   "source": [
    "# importing scikitplot for machine learning evaluation metrics\n",
    "import scikitplot as skplt"
   ]
  },
  {
   "cell_type": "code",
   "execution_count": 42,
   "id": "structural-retrieval",
   "metadata": {},
   "outputs": [
    {
     "data": {
      "image/png": "[encoded data removed]",
      "text/plain": [
       "<Figure size 720x360 with 1 Axes>"
      ]
     },
     "metadata": {},
     "output_type": "display_data"
    }
   ],
   "source": [
    "# plotting precision and recall curves\n",
    "plt.style.use(\"ggplot\")\n",
    "skplt.metrics.plot_precision_recall(y_test, pred_probs, figsize=(10,5))\n",
    "plt.legend(facecolor=\"white\")\n",
    "plt.show()"
   ]
  },
  {
   "cell_type": "markdown",
   "id": "dimensional-process",
   "metadata": {},
   "source": [
    "The model seems to overfit the data. This is probably from due to only training the model using ordinal features. Let's look at an ROC curve and confusion matrix to confirm these results."
   ]
  },
  {
   "cell_type": "code",
   "execution_count": 43,
   "id": "alpha-imagination",
   "metadata": {},
   "outputs": [
    {
     "data": {
      "image/png": "[encoded data removed]",
      "text/plain": [
       "<Figure size 720x360 with 1 Axes>"
      ]
     },
     "metadata": {},
     "output_type": "display_data"
    }
   ],
   "source": [
    "# plotting ROC curves\n",
    "plt.style.use(\"ggplot\")\n",
    "skplt.metrics.plot_roc(y_test, pred_probs, figsize=(10,5))\n",
    "plt.legend(facecolor=\"white\")\n",
    "plt.show()"
   ]
  },
  {
   "cell_type": "markdown",
   "id": "amber-garbage",
   "metadata": {},
   "source": [
    "As expected, the roc curves indicated the model is overfitting the data."
   ]
  },
  {
   "cell_type": "code",
   "execution_count": 44,
   "id": "ready-monroe",
   "metadata": {},
   "outputs": [
    {
     "data": {
      "image/png": "[encoded data removed]",
      "text/plain": [
       "<Figure size 720x360 with 2 Axes>"
      ]
     },
     "metadata": {},
     "output_type": "display_data"
    }
   ],
   "source": [
    "# creating confusion matrix\n",
    "from sklearn.metrics import confusion_matrix\n",
    "cm = confusion_matrix(y_test, pred_out)\n",
    "\n",
    "# creating figure and plotting heatmap\n",
    "plt.figure(figsize=(10,5))\n",
    "sns.heatmap(cm, annot=True, fmt=\".2f\", linewidths=.5, square=True,  cmap=\"Blues_r\");\n",
    "plt.ylabel(\"Actual Label\");\n",
    "plt.xlabel(\"Predicted Label\");\n",
    "plt.title(\"Accuracy Score: {:.2f}\".format(round((np.trace(cm)) / (np.sum(cm)),2)));"
   ]
  },
  {
   "cell_type": "code",
   "execution_count": 45,
   "id": "damaged-customer",
   "metadata": {},
   "outputs": [
    {
     "name": "stdout",
     "output_type": "stream",
     "text": [
      "precision :  1.0\n",
      "recall :  1.0\n",
      "fscore :  1.0\n",
      "support :  None\n"
     ]
    }
   ],
   "source": [
    "# importing evaluation metrics and itertool\n",
    "from sklearn.metrics import precision_recall_fscore_support\n",
    "import itertools\n",
    "\n",
    "# creating lists containing scores and names\n",
    "score_results = list(precision_recall_fscore_support(y_test, pred_out, average=\"macro\"))\n",
    "score_names = [\"precision\", \"recall\", \"fscore\", \"support\"]\n",
    "\n",
    "# looping through both lists and printing elements\n",
    "for (score, name) in zip(score_results, score_names):\n",
    "    if score != None:\n",
    "        print(name, \": \", round(score, 2))\n",
    "    else:\n",
    "        print(name, \": \", score)"
   ]
  },
  {
   "cell_type": "markdown",
   "id": "stable-rochester",
   "metadata": {},
   "source": [
    "All scores are perfect signalling a high chance of overfitting."
   ]
  },
  {
   "cell_type": "markdown",
   "id": "mineral-passenger",
   "metadata": {},
   "source": [
    "The model is probably overfitting the data. My guess is the fixed amount of values in the ordinal variables make it easy for the model to memorize all future outcomes. An ideal solution might be to convert some of the ordinal variables to quantitative to reduce the chance of memorization."
   ]
  },
  {
   "cell_type": "markdown",
   "id": "elect-disclosure",
   "metadata": {},
   "source": [
    "## Analysis Extended"
   ]
  },
  {
   "cell_type": "markdown",
   "id": "certified-bhutan",
   "metadata": {},
   "source": [
    "In this part, I will determine if an automobile with the below characteristics will have a 75% or better chance a potential customer will rate it at an acceptable level or above.  \n",
    "\n",
    "- 4 doors\n",
    "- Medium sized luggage boot (trunk)\n",
    "- Very high maintenance costs\n",
    "- 4 person passenger capacity\n",
    "- Medium purchase price\n",
    "- Medium safety record.  \n",
    "\n",
    "My recommendation will be based on the first and last part of my analysis."
   ]
  },
  {
   "cell_type": "code",
   "execution_count": 46,
   "id": "duplicate-manual",
   "metadata": {},
   "outputs": [
    {
     "data": {
      "text/html": [
       "<div>\n",
       "<style scoped>\n",
       "    .dataframe tbody tr th:only-of-type {\n",
       "        vertical-align: middle;\n",
       "    }\n",
       "\n",
       "    .dataframe tbody tr th {\n",
       "        vertical-align: top;\n",
       "    }\n",
       "\n",
       "    .dataframe thead th {\n",
       "        text-align: right;\n",
       "    }\n",
       "</style>\n",
       "<table border=\"1\" class=\"dataframe\">\n",
       "  <thead>\n",
       "    <tr style=\"text-align: right;\">\n",
       "      <th></th>\n",
       "      <th>Purchase Price</th>\n",
       "      <th>Maintenance Costs</th>\n",
       "      <th>Doors</th>\n",
       "      <th>Persons</th>\n",
       "      <th>Luggae Boot</th>\n",
       "      <th>Safety</th>\n",
       "    </tr>\n",
       "  </thead>\n",
       "  <tbody>\n",
       "    <tr>\n",
       "      <th>0</th>\n",
       "      <td>med</td>\n",
       "      <td>vhigh</td>\n",
       "      <td>4</td>\n",
       "      <td>4</td>\n",
       "      <td>med</td>\n",
       "      <td>med</td>\n",
       "    </tr>\n",
       "  </tbody>\n",
       "</table>\n",
       "</div>"
      ],
      "text/plain": [
       "  Purchase Price Maintenance Costs Doors Persons Luggae Boot Safety\n",
       "0            med             vhigh     4       4         med    med"
      ]
     },
     "execution_count": 46,
     "metadata": {},
     "output_type": "execute_result"
    }
   ],
   "source": [
    "# creating dataframe with car sale opportunity\n",
    "d = {\"Purchase Price\": [\"med\"], \"Maintenance Costs\": [\"vhigh\"], \"Doors\": [\"4\"],\n",
    "    \"Persons\": [\"4\"], \"Luggae Boot\": [\"med\"], \"Safety\": [\"med\"]}\n",
    "\n",
    "car_scenario = pd.DataFrame(data=d)\n",
    "car_scenario"
   ]
  },
  {
   "cell_type": "code",
   "execution_count": 47,
   "id": "anonymous-romantic",
   "metadata": {},
   "outputs": [
    {
     "data": {
      "text/plain": [
       "array(['acc'], dtype=object)"
      ]
     },
     "execution_count": 47,
     "metadata": {},
     "output_type": "execute_result"
    }
   ],
   "source": [
    "# predicting scenario classification based on KNN classifier\n",
    "knn_car_scenario = grid.predict(car_scenario)\n",
    "knn_car_scenario"
   ]
  },
  {
   "cell_type": "code",
   "execution_count": 48,
   "id": "grave-ground",
   "metadata": {},
   "outputs": [
    {
     "data": {
      "text/plain": [
       "array([[1., 0., 0., 0.]])"
      ]
     },
     "execution_count": 48,
     "metadata": {},
     "output_type": "execute_result"
    }
   ],
   "source": [
    "# predicting scenario probability based on KNN classifier\n",
    "knn_car_scenario_prob = grid.predict_proba(car_scenario)\n",
    "knn_car_scenario_prob"
   ]
  },
  {
   "cell_type": "markdown",
   "id": "stylish-dakota",
   "metadata": {},
   "source": [
    "PyCaret is an open-source, low-code machine learning library in Python aimed to facilitate comparing and evaluating various algorithms with a few lines of code. I will use PyCaret to find a classification model with the highest F1 score for the car evaluation dataset."
   ]
  },
  {
   "cell_type": "code",
   "execution_count": 49,
   "id": "cardiovascular-provincial",
   "metadata": {},
   "outputs": [
    {
     "name": "stdout",
     "output_type": "stream",
     "text": [
      "PyCaret Version: 2.3.0\n"
     ]
    }
   ],
   "source": [
    "# importing pycaret and checking library version\n",
    "import pycaret\n",
    "print(\"PyCaret Version: %s\" % pycaret.__version__)"
   ]
  },
  {
   "cell_type": "code",
   "execution_count": 50,
   "id": "indoor-force",
   "metadata": {},
   "outputs": [],
   "source": [
    "#import classification module \n",
    "from pycaret.classification import * "
   ]
  },
  {
   "cell_type": "code",
   "execution_count": 51,
   "id": "packed-window",
   "metadata": {},
   "outputs": [
    {
     "data": {
      "text/html": [
       "<style  type=\"text/css\" >\n",
       "</style><table id=\"T_2b991_\" ><thead>    <tr>        <th class=\"blank level0\" ></th>        <th class=\"col_heading level0 col0\" >Description</th>        <th class=\"col_heading level0 col1\" >Value</th>    </tr></thead><tbody>\n",
       "                <tr>\n",
       "                        <th id=\"T_2b991_level0_row0\" class=\"row_heading level0 row0\" >0</th>\n",
       "                        <td id=\"T_2b991_row0_col0\" class=\"data row0 col0\" >session_id</td>\n",
       "                        <td id=\"T_2b991_row0_col1\" class=\"data row0 col1\" >997</td>\n",
       "            </tr>\n",
       "            <tr>\n",
       "                        <th id=\"T_2b991_level0_row1\" class=\"row_heading level0 row1\" >1</th>\n",
       "                        <td id=\"T_2b991_row1_col0\" class=\"data row1 col0\" >Target</td>\n",
       "                        <td id=\"T_2b991_row1_col1\" class=\"data row1 col1\" >Rating</td>\n",
       "            </tr>\n",
       "            <tr>\n",
       "                        <th id=\"T_2b991_level0_row2\" class=\"row_heading level0 row2\" >2</th>\n",
       "                        <td id=\"T_2b991_row2_col0\" class=\"data row2 col0\" >Target Type</td>\n",
       "                        <td id=\"T_2b991_row2_col1\" class=\"data row2 col1\" >Multiclass</td>\n",
       "            </tr>\n",
       "            <tr>\n",
       "                        <th id=\"T_2b991_level0_row3\" class=\"row_heading level0 row3\" >3</th>\n",
       "                        <td id=\"T_2b991_row3_col0\" class=\"data row3 col0\" >Label Encoded</td>\n",
       "                        <td id=\"T_2b991_row3_col1\" class=\"data row3 col1\" >acc: 0, good: 1, unacc: 2, vgood: 3</td>\n",
       "            </tr>\n",
       "            <tr>\n",
       "                        <th id=\"T_2b991_level0_row4\" class=\"row_heading level0 row4\" >4</th>\n",
       "                        <td id=\"T_2b991_row4_col0\" class=\"data row4 col0\" >Original Data</td>\n",
       "                        <td id=\"T_2b991_row4_col1\" class=\"data row4 col1\" >(1728, 7)</td>\n",
       "            </tr>\n",
       "            <tr>\n",
       "                        <th id=\"T_2b991_level0_row5\" class=\"row_heading level0 row5\" >5</th>\n",
       "                        <td id=\"T_2b991_row5_col0\" class=\"data row5 col0\" >Missing Values</td>\n",
       "                        <td id=\"T_2b991_row5_col1\" class=\"data row5 col1\" >False</td>\n",
       "            </tr>\n",
       "            <tr>\n",
       "                        <th id=\"T_2b991_level0_row6\" class=\"row_heading level0 row6\" >6</th>\n",
       "                        <td id=\"T_2b991_row6_col0\" class=\"data row6 col0\" >Numeric Features</td>\n",
       "                        <td id=\"T_2b991_row6_col1\" class=\"data row6 col1\" >0</td>\n",
       "            </tr>\n",
       "            <tr>\n",
       "                        <th id=\"T_2b991_level0_row7\" class=\"row_heading level0 row7\" >7</th>\n",
       "                        <td id=\"T_2b991_row7_col0\" class=\"data row7 col0\" >Categorical Features</td>\n",
       "                        <td id=\"T_2b991_row7_col1\" class=\"data row7 col1\" >6</td>\n",
       "            </tr>\n",
       "            <tr>\n",
       "                        <th id=\"T_2b991_level0_row8\" class=\"row_heading level0 row8\" >8</th>\n",
       "                        <td id=\"T_2b991_row8_col0\" class=\"data row8 col0\" >Ordinal Features</td>\n",
       "                        <td id=\"T_2b991_row8_col1\" class=\"data row8 col1\" >False</td>\n",
       "            </tr>\n",
       "            <tr>\n",
       "                        <th id=\"T_2b991_level0_row9\" class=\"row_heading level0 row9\" >9</th>\n",
       "                        <td id=\"T_2b991_row9_col0\" class=\"data row9 col0\" >High Cardinality Features</td>\n",
       "                        <td id=\"T_2b991_row9_col1\" class=\"data row9 col1\" >False</td>\n",
       "            </tr>\n",
       "            <tr>\n",
       "                        <th id=\"T_2b991_level0_row10\" class=\"row_heading level0 row10\" >10</th>\n",
       "                        <td id=\"T_2b991_row10_col0\" class=\"data row10 col0\" >High Cardinality Method</td>\n",
       "                        <td id=\"T_2b991_row10_col1\" class=\"data row10 col1\" >None</td>\n",
       "            </tr>\n",
       "            <tr>\n",
       "                        <th id=\"T_2b991_level0_row11\" class=\"row_heading level0 row11\" >11</th>\n",
       "                        <td id=\"T_2b991_row11_col0\" class=\"data row11 col0\" >Transformed Train Set</td>\n",
       "                        <td id=\"T_2b991_row11_col1\" class=\"data row11 col1\" >(1209, 21)</td>\n",
       "            </tr>\n",
       "            <tr>\n",
       "                        <th id=\"T_2b991_level0_row12\" class=\"row_heading level0 row12\" >12</th>\n",
       "                        <td id=\"T_2b991_row12_col0\" class=\"data row12 col0\" >Transformed Test Set</td>\n",
       "                        <td id=\"T_2b991_row12_col1\" class=\"data row12 col1\" >(519, 21)</td>\n",
       "            </tr>\n",
       "            <tr>\n",
       "                        <th id=\"T_2b991_level0_row13\" class=\"row_heading level0 row13\" >13</th>\n",
       "                        <td id=\"T_2b991_row13_col0\" class=\"data row13 col0\" >Shuffle Train-Test</td>\n",
       "                        <td id=\"T_2b991_row13_col1\" class=\"data row13 col1\" >True</td>\n",
       "            </tr>\n",
       "            <tr>\n",
       "                        <th id=\"T_2b991_level0_row14\" class=\"row_heading level0 row14\" >14</th>\n",
       "                        <td id=\"T_2b991_row14_col0\" class=\"data row14 col0\" >Stratify Train-Test</td>\n",
       "                        <td id=\"T_2b991_row14_col1\" class=\"data row14 col1\" >False</td>\n",
       "            </tr>\n",
       "            <tr>\n",
       "                        <th id=\"T_2b991_level0_row15\" class=\"row_heading level0 row15\" >15</th>\n",
       "                        <td id=\"T_2b991_row15_col0\" class=\"data row15 col0\" >Fold Generator</td>\n",
       "                        <td id=\"T_2b991_row15_col1\" class=\"data row15 col1\" >StratifiedKFold</td>\n",
       "            </tr>\n",
       "            <tr>\n",
       "                        <th id=\"T_2b991_level0_row16\" class=\"row_heading level0 row16\" >16</th>\n",
       "                        <td id=\"T_2b991_row16_col0\" class=\"data row16 col0\" >Fold Number</td>\n",
       "                        <td id=\"T_2b991_row16_col1\" class=\"data row16 col1\" >10</td>\n",
       "            </tr>\n",
       "            <tr>\n",
       "                        <th id=\"T_2b991_level0_row17\" class=\"row_heading level0 row17\" >17</th>\n",
       "                        <td id=\"T_2b991_row17_col0\" class=\"data row17 col0\" >CPU Jobs</td>\n",
       "                        <td id=\"T_2b991_row17_col1\" class=\"data row17 col1\" >-1</td>\n",
       "            </tr>\n",
       "            <tr>\n",
       "                        <th id=\"T_2b991_level0_row18\" class=\"row_heading level0 row18\" >18</th>\n",
       "                        <td id=\"T_2b991_row18_col0\" class=\"data row18 col0\" >Use GPU</td>\n",
       "                        <td id=\"T_2b991_row18_col1\" class=\"data row18 col1\" >False</td>\n",
       "            </tr>\n",
       "            <tr>\n",
       "                        <th id=\"T_2b991_level0_row19\" class=\"row_heading level0 row19\" >19</th>\n",
       "                        <td id=\"T_2b991_row19_col0\" class=\"data row19 col0\" >Log Experiment</td>\n",
       "                        <td id=\"T_2b991_row19_col1\" class=\"data row19 col1\" >False</td>\n",
       "            </tr>\n",
       "            <tr>\n",
       "                        <th id=\"T_2b991_level0_row20\" class=\"row_heading level0 row20\" >20</th>\n",
       "                        <td id=\"T_2b991_row20_col0\" class=\"data row20 col0\" >Experiment Name</td>\n",
       "                        <td id=\"T_2b991_row20_col1\" class=\"data row20 col1\" >clf-default-name</td>\n",
       "            </tr>\n",
       "            <tr>\n",
       "                        <th id=\"T_2b991_level0_row21\" class=\"row_heading level0 row21\" >21</th>\n",
       "                        <td id=\"T_2b991_row21_col0\" class=\"data row21 col0\" >USI</td>\n",
       "                        <td id=\"T_2b991_row21_col1\" class=\"data row21 col1\" >75b1</td>\n",
       "            </tr>\n",
       "            <tr>\n",
       "                        <th id=\"T_2b991_level0_row22\" class=\"row_heading level0 row22\" >22</th>\n",
       "                        <td id=\"T_2b991_row22_col0\" class=\"data row22 col0\" >Imputation Type</td>\n",
       "                        <td id=\"T_2b991_row22_col1\" class=\"data row22 col1\" >simple</td>\n",
       "            </tr>\n",
       "            <tr>\n",
       "                        <th id=\"T_2b991_level0_row23\" class=\"row_heading level0 row23\" >23</th>\n",
       "                        <td id=\"T_2b991_row23_col0\" class=\"data row23 col0\" >Iterative Imputation Iteration</td>\n",
       "                        <td id=\"T_2b991_row23_col1\" class=\"data row23 col1\" >None</td>\n",
       "            </tr>\n",
       "            <tr>\n",
       "                        <th id=\"T_2b991_level0_row24\" class=\"row_heading level0 row24\" >24</th>\n",
       "                        <td id=\"T_2b991_row24_col0\" class=\"data row24 col0\" >Numeric Imputer</td>\n",
       "                        <td id=\"T_2b991_row24_col1\" class=\"data row24 col1\" >mean</td>\n",
       "            </tr>\n",
       "            <tr>\n",
       "                        <th id=\"T_2b991_level0_row25\" class=\"row_heading level0 row25\" >25</th>\n",
       "                        <td id=\"T_2b991_row25_col0\" class=\"data row25 col0\" >Iterative Imputation Numeric Model</td>\n",
       "                        <td id=\"T_2b991_row25_col1\" class=\"data row25 col1\" >None</td>\n",
       "            </tr>\n",
       "            <tr>\n",
       "                        <th id=\"T_2b991_level0_row26\" class=\"row_heading level0 row26\" >26</th>\n",
       "                        <td id=\"T_2b991_row26_col0\" class=\"data row26 col0\" >Categorical Imputer</td>\n",
       "                        <td id=\"T_2b991_row26_col1\" class=\"data row26 col1\" >constant</td>\n",
       "            </tr>\n",
       "            <tr>\n",
       "                        <th id=\"T_2b991_level0_row27\" class=\"row_heading level0 row27\" >27</th>\n",
       "                        <td id=\"T_2b991_row27_col0\" class=\"data row27 col0\" >Iterative Imputation Categorical Model</td>\n",
       "                        <td id=\"T_2b991_row27_col1\" class=\"data row27 col1\" >None</td>\n",
       "            </tr>\n",
       "            <tr>\n",
       "                        <th id=\"T_2b991_level0_row28\" class=\"row_heading level0 row28\" >28</th>\n",
       "                        <td id=\"T_2b991_row28_col0\" class=\"data row28 col0\" >Unknown Categoricals Handling</td>\n",
       "                        <td id=\"T_2b991_row28_col1\" class=\"data row28 col1\" >least_frequent</td>\n",
       "            </tr>\n",
       "            <tr>\n",
       "                        <th id=\"T_2b991_level0_row29\" class=\"row_heading level0 row29\" >29</th>\n",
       "                        <td id=\"T_2b991_row29_col0\" class=\"data row29 col0\" >Normalize</td>\n",
       "                        <td id=\"T_2b991_row29_col1\" class=\"data row29 col1\" >False</td>\n",
       "            </tr>\n",
       "            <tr>\n",
       "                        <th id=\"T_2b991_level0_row30\" class=\"row_heading level0 row30\" >30</th>\n",
       "                        <td id=\"T_2b991_row30_col0\" class=\"data row30 col0\" >Normalize Method</td>\n",
       "                        <td id=\"T_2b991_row30_col1\" class=\"data row30 col1\" >None</td>\n",
       "            </tr>\n",
       "            <tr>\n",
       "                        <th id=\"T_2b991_level0_row31\" class=\"row_heading level0 row31\" >31</th>\n",
       "                        <td id=\"T_2b991_row31_col0\" class=\"data row31 col0\" >Transformation</td>\n",
       "                        <td id=\"T_2b991_row31_col1\" class=\"data row31 col1\" >False</td>\n",
       "            </tr>\n",
       "            <tr>\n",
       "                        <th id=\"T_2b991_level0_row32\" class=\"row_heading level0 row32\" >32</th>\n",
       "                        <td id=\"T_2b991_row32_col0\" class=\"data row32 col0\" >Transformation Method</td>\n",
       "                        <td id=\"T_2b991_row32_col1\" class=\"data row32 col1\" >None</td>\n",
       "            </tr>\n",
       "            <tr>\n",
       "                        <th id=\"T_2b991_level0_row33\" class=\"row_heading level0 row33\" >33</th>\n",
       "                        <td id=\"T_2b991_row33_col0\" class=\"data row33 col0\" >PCA</td>\n",
       "                        <td id=\"T_2b991_row33_col1\" class=\"data row33 col1\" >False</td>\n",
       "            </tr>\n",
       "            <tr>\n",
       "                        <th id=\"T_2b991_level0_row34\" class=\"row_heading level0 row34\" >34</th>\n",
       "                        <td id=\"T_2b991_row34_col0\" class=\"data row34 col0\" >PCA Method</td>\n",
       "                        <td id=\"T_2b991_row34_col1\" class=\"data row34 col1\" >None</td>\n",
       "            </tr>\n",
       "            <tr>\n",
       "                        <th id=\"T_2b991_level0_row35\" class=\"row_heading level0 row35\" >35</th>\n",
       "                        <td id=\"T_2b991_row35_col0\" class=\"data row35 col0\" >PCA Components</td>\n",
       "                        <td id=\"T_2b991_row35_col1\" class=\"data row35 col1\" >None</td>\n",
       "            </tr>\n",
       "            <tr>\n",
       "                        <th id=\"T_2b991_level0_row36\" class=\"row_heading level0 row36\" >36</th>\n",
       "                        <td id=\"T_2b991_row36_col0\" class=\"data row36 col0\" >Ignore Low Variance</td>\n",
       "                        <td id=\"T_2b991_row36_col1\" class=\"data row36 col1\" >False</td>\n",
       "            </tr>\n",
       "            <tr>\n",
       "                        <th id=\"T_2b991_level0_row37\" class=\"row_heading level0 row37\" >37</th>\n",
       "                        <td id=\"T_2b991_row37_col0\" class=\"data row37 col0\" >Combine Rare Levels</td>\n",
       "                        <td id=\"T_2b991_row37_col1\" class=\"data row37 col1\" >False</td>\n",
       "            </tr>\n",
       "            <tr>\n",
       "                        <th id=\"T_2b991_level0_row38\" class=\"row_heading level0 row38\" >38</th>\n",
       "                        <td id=\"T_2b991_row38_col0\" class=\"data row38 col0\" >Rare Level Threshold</td>\n",
       "                        <td id=\"T_2b991_row38_col1\" class=\"data row38 col1\" >None</td>\n",
       "            </tr>\n",
       "            <tr>\n",
       "                        <th id=\"T_2b991_level0_row39\" class=\"row_heading level0 row39\" >39</th>\n",
       "                        <td id=\"T_2b991_row39_col0\" class=\"data row39 col0\" >Numeric Binning</td>\n",
       "                        <td id=\"T_2b991_row39_col1\" class=\"data row39 col1\" >False</td>\n",
       "            </tr>\n",
       "            <tr>\n",
       "                        <th id=\"T_2b991_level0_row40\" class=\"row_heading level0 row40\" >40</th>\n",
       "                        <td id=\"T_2b991_row40_col0\" class=\"data row40 col0\" >Remove Outliers</td>\n",
       "                        <td id=\"T_2b991_row40_col1\" class=\"data row40 col1\" >False</td>\n",
       "            </tr>\n",
       "            <tr>\n",
       "                        <th id=\"T_2b991_level0_row41\" class=\"row_heading level0 row41\" >41</th>\n",
       "                        <td id=\"T_2b991_row41_col0\" class=\"data row41 col0\" >Outliers Threshold</td>\n",
       "                        <td id=\"T_2b991_row41_col1\" class=\"data row41 col1\" >None</td>\n",
       "            </tr>\n",
       "            <tr>\n",
       "                        <th id=\"T_2b991_level0_row42\" class=\"row_heading level0 row42\" >42</th>\n",
       "                        <td id=\"T_2b991_row42_col0\" class=\"data row42 col0\" >Remove Multicollinearity</td>\n",
       "                        <td id=\"T_2b991_row42_col1\" class=\"data row42 col1\" >False</td>\n",
       "            </tr>\n",
       "            <tr>\n",
       "                        <th id=\"T_2b991_level0_row43\" class=\"row_heading level0 row43\" >43</th>\n",
       "                        <td id=\"T_2b991_row43_col0\" class=\"data row43 col0\" >Multicollinearity Threshold</td>\n",
       "                        <td id=\"T_2b991_row43_col1\" class=\"data row43 col1\" >None</td>\n",
       "            </tr>\n",
       "            <tr>\n",
       "                        <th id=\"T_2b991_level0_row44\" class=\"row_heading level0 row44\" >44</th>\n",
       "                        <td id=\"T_2b991_row44_col0\" class=\"data row44 col0\" >Clustering</td>\n",
       "                        <td id=\"T_2b991_row44_col1\" class=\"data row44 col1\" >False</td>\n",
       "            </tr>\n",
       "            <tr>\n",
       "                        <th id=\"T_2b991_level0_row45\" class=\"row_heading level0 row45\" >45</th>\n",
       "                        <td id=\"T_2b991_row45_col0\" class=\"data row45 col0\" >Clustering Iteration</td>\n",
       "                        <td id=\"T_2b991_row45_col1\" class=\"data row45 col1\" >None</td>\n",
       "            </tr>\n",
       "            <tr>\n",
       "                        <th id=\"T_2b991_level0_row46\" class=\"row_heading level0 row46\" >46</th>\n",
       "                        <td id=\"T_2b991_row46_col0\" class=\"data row46 col0\" >Polynomial Features</td>\n",
       "                        <td id=\"T_2b991_row46_col1\" class=\"data row46 col1\" >False</td>\n",
       "            </tr>\n",
       "            <tr>\n",
       "                        <th id=\"T_2b991_level0_row47\" class=\"row_heading level0 row47\" >47</th>\n",
       "                        <td id=\"T_2b991_row47_col0\" class=\"data row47 col0\" >Polynomial Degree</td>\n",
       "                        <td id=\"T_2b991_row47_col1\" class=\"data row47 col1\" >None</td>\n",
       "            </tr>\n",
       "            <tr>\n",
       "                        <th id=\"T_2b991_level0_row48\" class=\"row_heading level0 row48\" >48</th>\n",
       "                        <td id=\"T_2b991_row48_col0\" class=\"data row48 col0\" >Trignometry Features</td>\n",
       "                        <td id=\"T_2b991_row48_col1\" class=\"data row48 col1\" >False</td>\n",
       "            </tr>\n",
       "            <tr>\n",
       "                        <th id=\"T_2b991_level0_row49\" class=\"row_heading level0 row49\" >49</th>\n",
       "                        <td id=\"T_2b991_row49_col0\" class=\"data row49 col0\" >Polynomial Threshold</td>\n",
       "                        <td id=\"T_2b991_row49_col1\" class=\"data row49 col1\" >None</td>\n",
       "            </tr>\n",
       "            <tr>\n",
       "                        <th id=\"T_2b991_level0_row50\" class=\"row_heading level0 row50\" >50</th>\n",
       "                        <td id=\"T_2b991_row50_col0\" class=\"data row50 col0\" >Group Features</td>\n",
       "                        <td id=\"T_2b991_row50_col1\" class=\"data row50 col1\" >False</td>\n",
       "            </tr>\n",
       "            <tr>\n",
       "                        <th id=\"T_2b991_level0_row51\" class=\"row_heading level0 row51\" >51</th>\n",
       "                        <td id=\"T_2b991_row51_col0\" class=\"data row51 col0\" >Feature Selection</td>\n",
       "                        <td id=\"T_2b991_row51_col1\" class=\"data row51 col1\" >False</td>\n",
       "            </tr>\n",
       "            <tr>\n",
       "                        <th id=\"T_2b991_level0_row52\" class=\"row_heading level0 row52\" >52</th>\n",
       "                        <td id=\"T_2b991_row52_col0\" class=\"data row52 col0\" >Feature Selection Method</td>\n",
       "                        <td id=\"T_2b991_row52_col1\" class=\"data row52 col1\" >classic</td>\n",
       "            </tr>\n",
       "            <tr>\n",
       "                        <th id=\"T_2b991_level0_row53\" class=\"row_heading level0 row53\" >53</th>\n",
       "                        <td id=\"T_2b991_row53_col0\" class=\"data row53 col0\" >Features Selection Threshold</td>\n",
       "                        <td id=\"T_2b991_row53_col1\" class=\"data row53 col1\" >None</td>\n",
       "            </tr>\n",
       "            <tr>\n",
       "                        <th id=\"T_2b991_level0_row54\" class=\"row_heading level0 row54\" >54</th>\n",
       "                        <td id=\"T_2b991_row54_col0\" class=\"data row54 col0\" >Feature Interaction</td>\n",
       "                        <td id=\"T_2b991_row54_col1\" class=\"data row54 col1\" >False</td>\n",
       "            </tr>\n",
       "            <tr>\n",
       "                        <th id=\"T_2b991_level0_row55\" class=\"row_heading level0 row55\" >55</th>\n",
       "                        <td id=\"T_2b991_row55_col0\" class=\"data row55 col0\" >Feature Ratio</td>\n",
       "                        <td id=\"T_2b991_row55_col1\" class=\"data row55 col1\" >False</td>\n",
       "            </tr>\n",
       "            <tr>\n",
       "                        <th id=\"T_2b991_level0_row56\" class=\"row_heading level0 row56\" >56</th>\n",
       "                        <td id=\"T_2b991_row56_col0\" class=\"data row56 col0\" >Interaction Threshold</td>\n",
       "                        <td id=\"T_2b991_row56_col1\" class=\"data row56 col1\" >None</td>\n",
       "            </tr>\n",
       "            <tr>\n",
       "                        <th id=\"T_2b991_level0_row57\" class=\"row_heading level0 row57\" >57</th>\n",
       "                        <td id=\"T_2b991_row57_col0\" class=\"data row57 col0\" >Fix Imbalance</td>\n",
       "                        <td id=\"T_2b991_row57_col1\" class=\"data row57 col1\" >False</td>\n",
       "            </tr>\n",
       "            <tr>\n",
       "                        <th id=\"T_2b991_level0_row58\" class=\"row_heading level0 row58\" >58</th>\n",
       "                        <td id=\"T_2b991_row58_col0\" class=\"data row58 col0\" >Fix Imbalance Method</td>\n",
       "                        <td id=\"T_2b991_row58_col1\" class=\"data row58 col1\" >SMOTE</td>\n",
       "            </tr>\n",
       "    </tbody></table>"
      ],
      "text/plain": [
       "<pandas.io.formats.style.Styler at 0x21e13494e50>"
      ]
     },
     "metadata": {},
     "output_type": "display_data"
    }
   ],
   "source": [
    "# setting up the data\n",
    "grid = setup(data=car_data, target=car_data.columns[-1], silent = True)"
   ]
  },
  {
   "cell_type": "code",
   "execution_count": 52,
   "id": "recent-elevation",
   "metadata": {},
   "outputs": [
    {
     "data": {
      "text/html": [
       "<style  type=\"text/css\" >\n",
       "    #T_4ef01_ th {\n",
       "          text-align: left;\n",
       "    }#T_4ef01_row0_col0,#T_4ef01_row1_col0,#T_4ef01_row1_col1,#T_4ef01_row1_col2,#T_4ef01_row1_col3,#T_4ef01_row1_col4,#T_4ef01_row1_col5,#T_4ef01_row1_col6,#T_4ef01_row1_col7,#T_4ef01_row2_col0,#T_4ef01_row2_col1,#T_4ef01_row2_col2,#T_4ef01_row2_col3,#T_4ef01_row2_col4,#T_4ef01_row2_col5,#T_4ef01_row2_col6,#T_4ef01_row2_col7,#T_4ef01_row3_col0,#T_4ef01_row3_col1,#T_4ef01_row3_col2,#T_4ef01_row3_col3,#T_4ef01_row3_col4,#T_4ef01_row3_col5,#T_4ef01_row3_col6,#T_4ef01_row3_col7,#T_4ef01_row4_col0,#T_4ef01_row4_col1,#T_4ef01_row4_col2,#T_4ef01_row4_col3,#T_4ef01_row4_col4,#T_4ef01_row4_col5,#T_4ef01_row4_col6,#T_4ef01_row4_col7,#T_4ef01_row5_col0,#T_4ef01_row5_col1,#T_4ef01_row5_col2,#T_4ef01_row5_col3,#T_4ef01_row5_col4,#T_4ef01_row5_col5,#T_4ef01_row5_col6,#T_4ef01_row5_col7,#T_4ef01_row6_col0,#T_4ef01_row6_col1,#T_4ef01_row6_col2,#T_4ef01_row6_col3,#T_4ef01_row6_col4,#T_4ef01_row6_col5,#T_4ef01_row6_col6,#T_4ef01_row6_col7,#T_4ef01_row7_col0,#T_4ef01_row7_col1,#T_4ef01_row7_col2,#T_4ef01_row7_col3,#T_4ef01_row7_col4,#T_4ef01_row7_col5,#T_4ef01_row7_col6,#T_4ef01_row7_col7,#T_4ef01_row8_col0,#T_4ef01_row8_col1,#T_4ef01_row8_col2,#T_4ef01_row8_col3,#T_4ef01_row8_col4,#T_4ef01_row8_col5,#T_4ef01_row8_col6,#T_4ef01_row8_col7,#T_4ef01_row9_col0,#T_4ef01_row9_col1,#T_4ef01_row9_col2,#T_4ef01_row9_col3,#T_4ef01_row9_col4,#T_4ef01_row9_col5,#T_4ef01_row9_col6,#T_4ef01_row9_col7,#T_4ef01_row10_col0,#T_4ef01_row10_col1,#T_4ef01_row10_col2,#T_4ef01_row10_col3,#T_4ef01_row10_col4,#T_4ef01_row10_col5,#T_4ef01_row10_col6,#T_4ef01_row10_col7,#T_4ef01_row11_col0,#T_4ef01_row11_col1,#T_4ef01_row11_col2,#T_4ef01_row11_col3,#T_4ef01_row11_col4,#T_4ef01_row11_col5,#T_4ef01_row11_col6,#T_4ef01_row11_col7,#T_4ef01_row12_col0,#T_4ef01_row12_col1,#T_4ef01_row12_col2,#T_4ef01_row12_col3,#T_4ef01_row12_col4,#T_4ef01_row12_col5,#T_4ef01_row12_col6,#T_4ef01_row12_col7{\n",
       "            text-align:  left;\n",
       "            text-align:  left;\n",
       "        }#T_4ef01_row0_col1,#T_4ef01_row0_col2,#T_4ef01_row0_col3,#T_4ef01_row0_col4,#T_4ef01_row0_col5,#T_4ef01_row0_col6,#T_4ef01_row0_col7{\n",
       "            text-align:  left;\n",
       "            text-align:  left;\n",
       "            background-color:  yellow;\n",
       "        }#T_4ef01_row0_col8,#T_4ef01_row1_col8,#T_4ef01_row2_col8,#T_4ef01_row3_col8,#T_4ef01_row4_col8,#T_4ef01_row5_col8,#T_4ef01_row6_col8,#T_4ef01_row7_col8,#T_4ef01_row8_col8,#T_4ef01_row10_col8,#T_4ef01_row11_col8,#T_4ef01_row12_col8{\n",
       "            text-align:  left;\n",
       "            text-align:  left;\n",
       "            background-color:  lightgrey;\n",
       "        }#T_4ef01_row9_col8{\n",
       "            text-align:  left;\n",
       "            text-align:  left;\n",
       "            background-color:  yellow;\n",
       "            background-color:  lightgrey;\n",
       "        }</style><table id=\"T_4ef01_\" ><thead>    <tr>        <th class=\"blank level0\" ></th>        <th class=\"col_heading level0 col0\" >Model</th>        <th class=\"col_heading level0 col1\" >Accuracy</th>        <th class=\"col_heading level0 col2\" >AUC</th>        <th class=\"col_heading level0 col3\" >Recall</th>        <th class=\"col_heading level0 col4\" >Prec.</th>        <th class=\"col_heading level0 col5\" >F1</th>        <th class=\"col_heading level0 col6\" >Kappa</th>        <th class=\"col_heading level0 col7\" >MCC</th>        <th class=\"col_heading level0 col8\" >TT (Sec)</th>    </tr></thead><tbody>\n",
       "                <tr>\n",
       "                        <th id=\"T_4ef01_level0_row0\" class=\"row_heading level0 row0\" >lightgbm</th>\n",
       "                        <td id=\"T_4ef01_row0_col0\" class=\"data row0 col0\" >Light Gradient Boosting Machine</td>\n",
       "                        <td id=\"T_4ef01_row0_col1\" class=\"data row0 col1\" >0.9926</td>\n",
       "                        <td id=\"T_4ef01_row0_col2\" class=\"data row0 col2\" >0.9999</td>\n",
       "                        <td id=\"T_4ef01_row0_col3\" class=\"data row0 col3\" >0.9749</td>\n",
       "                        <td id=\"T_4ef01_row0_col4\" class=\"data row0 col4\" >0.9933</td>\n",
       "                        <td id=\"T_4ef01_row0_col5\" class=\"data row0 col5\" >0.9925</td>\n",
       "                        <td id=\"T_4ef01_row0_col6\" class=\"data row0 col6\" >0.9843</td>\n",
       "                        <td id=\"T_4ef01_row0_col7\" class=\"data row0 col7\" >0.9844</td>\n",
       "                        <td id=\"T_4ef01_row0_col8\" class=\"data row0 col8\" >0.1550</td>\n",
       "            </tr>\n",
       "            <tr>\n",
       "                        <th id=\"T_4ef01_level0_row1\" class=\"row_heading level0 row1\" >gbc</th>\n",
       "                        <td id=\"T_4ef01_row1_col0\" class=\"data row1 col0\" >Gradient Boosting Classifier</td>\n",
       "                        <td id=\"T_4ef01_row1_col1\" class=\"data row1 col1\" >0.9711</td>\n",
       "                        <td id=\"T_4ef01_row1_col2\" class=\"data row1 col2\" >0.9986</td>\n",
       "                        <td id=\"T_4ef01_row1_col3\" class=\"data row1 col3\" >0.9229</td>\n",
       "                        <td id=\"T_4ef01_row1_col4\" class=\"data row1 col4\" >0.9729</td>\n",
       "                        <td id=\"T_4ef01_row1_col5\" class=\"data row1 col5\" >0.9705</td>\n",
       "                        <td id=\"T_4ef01_row1_col6\" class=\"data row1 col6\" >0.9393</td>\n",
       "                        <td id=\"T_4ef01_row1_col7\" class=\"data row1 col7\" >0.9402</td>\n",
       "                        <td id=\"T_4ef01_row1_col8\" class=\"data row1 col8\" >0.1550</td>\n",
       "            </tr>\n",
       "            <tr>\n",
       "                        <th id=\"T_4ef01_level0_row2\" class=\"row_heading level0 row2\" >et</th>\n",
       "                        <td id=\"T_4ef01_row2_col0\" class=\"data row2 col0\" >Extra Trees Classifier</td>\n",
       "                        <td id=\"T_4ef01_row2_col1\" class=\"data row2 col1\" >0.9653</td>\n",
       "                        <td id=\"T_4ef01_row2_col2\" class=\"data row2 col2\" >0.9978</td>\n",
       "                        <td id=\"T_4ef01_row2_col3\" class=\"data row2 col3\" >0.9113</td>\n",
       "                        <td id=\"T_4ef01_row2_col4\" class=\"data row2 col4\" >0.9682</td>\n",
       "                        <td id=\"T_4ef01_row2_col5\" class=\"data row2 col5\" >0.9653</td>\n",
       "                        <td id=\"T_4ef01_row2_col6\" class=\"data row2 col6\" >0.9269</td>\n",
       "                        <td id=\"T_4ef01_row2_col7\" class=\"data row2 col7\" >0.9277</td>\n",
       "                        <td id=\"T_4ef01_row2_col8\" class=\"data row2 col8\" >0.0690</td>\n",
       "            </tr>\n",
       "            <tr>\n",
       "                        <th id=\"T_4ef01_level0_row3\" class=\"row_heading level0 row3\" >dt</th>\n",
       "                        <td id=\"T_4ef01_row3_col0\" class=\"data row3 col0\" >Decision Tree Classifier</td>\n",
       "                        <td id=\"T_4ef01_row3_col1\" class=\"data row3 col1\" >0.9603</td>\n",
       "                        <td id=\"T_4ef01_row3_col2\" class=\"data row3 col2\" >0.9623</td>\n",
       "                        <td id=\"T_4ef01_row3_col3\" class=\"data row3 col3\" >0.9028</td>\n",
       "                        <td id=\"T_4ef01_row3_col4\" class=\"data row3 col4\" >0.9620</td>\n",
       "                        <td id=\"T_4ef01_row3_col5\" class=\"data row3 col5\" >0.9601</td>\n",
       "                        <td id=\"T_4ef01_row3_col6\" class=\"data row3 col6\" >0.9151</td>\n",
       "                        <td id=\"T_4ef01_row3_col7\" class=\"data row3 col7\" >0.9157</td>\n",
       "                        <td id=\"T_4ef01_row3_col8\" class=\"data row3 col8\" >0.0100</td>\n",
       "            </tr>\n",
       "            <tr>\n",
       "                        <th id=\"T_4ef01_level0_row4\" class=\"row_heading level0 row4\" >rf</th>\n",
       "                        <td id=\"T_4ef01_row4_col0\" class=\"data row4 col0\" >Random Forest Classifier</td>\n",
       "                        <td id=\"T_4ef01_row4_col1\" class=\"data row4 col1\" >0.9578</td>\n",
       "                        <td id=\"T_4ef01_row4_col2\" class=\"data row4 col2\" >0.9971</td>\n",
       "                        <td id=\"T_4ef01_row4_col3\" class=\"data row4 col3\" >0.8642</td>\n",
       "                        <td id=\"T_4ef01_row4_col4\" class=\"data row4 col4\" >0.9572</td>\n",
       "                        <td id=\"T_4ef01_row4_col5\" class=\"data row4 col5\" >0.9560</td>\n",
       "                        <td id=\"T_4ef01_row4_col6\" class=\"data row4 col6\" >0.9109</td>\n",
       "                        <td id=\"T_4ef01_row4_col7\" class=\"data row4 col7\" >0.9122</td>\n",
       "                        <td id=\"T_4ef01_row4_col8\" class=\"data row4 col8\" >0.0630</td>\n",
       "            </tr>\n",
       "            <tr>\n",
       "                        <th id=\"T_4ef01_level0_row5\" class=\"row_heading level0 row5\" >lr</th>\n",
       "                        <td id=\"T_4ef01_row5_col0\" class=\"data row5 col0\" >Logistic Regression</td>\n",
       "                        <td id=\"T_4ef01_row5_col1\" class=\"data row5 col1\" >0.9040</td>\n",
       "                        <td id=\"T_4ef01_row5_col2\" class=\"data row5 col2\" >0.9879</td>\n",
       "                        <td id=\"T_4ef01_row5_col3\" class=\"data row5 col3\" >0.7115</td>\n",
       "                        <td id=\"T_4ef01_row5_col4\" class=\"data row5 col4\" >0.9017</td>\n",
       "                        <td id=\"T_4ef01_row5_col5\" class=\"data row5 col5\" >0.8982</td>\n",
       "                        <td id=\"T_4ef01_row5_col6\" class=\"data row5 col6\" >0.7966</td>\n",
       "                        <td id=\"T_4ef01_row5_col7\" class=\"data row5 col7\" >0.8001</td>\n",
       "                        <td id=\"T_4ef01_row5_col8\" class=\"data row5 col8\" >0.6030</td>\n",
       "            </tr>\n",
       "            <tr>\n",
       "                        <th id=\"T_4ef01_level0_row6\" class=\"row_heading level0 row6\" >lda</th>\n",
       "                        <td id=\"T_4ef01_row6_col0\" class=\"data row6 col0\" >Linear Discriminant Analysis</td>\n",
       "                        <td id=\"T_4ef01_row6_col1\" class=\"data row6 col1\" >0.8867</td>\n",
       "                        <td id=\"T_4ef01_row6_col2\" class=\"data row6 col2\" >0.9818</td>\n",
       "                        <td id=\"T_4ef01_row6_col3\" class=\"data row6 col3\" >0.6261</td>\n",
       "                        <td id=\"T_4ef01_row6_col4\" class=\"data row6 col4\" >0.8925</td>\n",
       "                        <td id=\"T_4ef01_row6_col5\" class=\"data row6 col5\" >0.8813</td>\n",
       "                        <td id=\"T_4ef01_row6_col6\" class=\"data row6 col6\" >0.7636</td>\n",
       "                        <td id=\"T_4ef01_row6_col7\" class=\"data row6 col7\" >0.7695</td>\n",
       "                        <td id=\"T_4ef01_row6_col8\" class=\"data row6 col8\" >0.0100</td>\n",
       "            </tr>\n",
       "            <tr>\n",
       "                        <th id=\"T_4ef01_level0_row7\" class=\"row_heading level0 row7\" >knn</th>\n",
       "                        <td id=\"T_4ef01_row7_col0\" class=\"data row7 col0\" >K Neighbors Classifier</td>\n",
       "                        <td id=\"T_4ef01_row7_col1\" class=\"data row7 col1\" >0.8892</td>\n",
       "                        <td id=\"T_4ef01_row7_col2\" class=\"data row7 col2\" >0.9698</td>\n",
       "                        <td id=\"T_4ef01_row7_col3\" class=\"data row7 col3\" >0.6259</td>\n",
       "                        <td id=\"T_4ef01_row7_col4\" class=\"data row7 col4\" >0.8844</td>\n",
       "                        <td id=\"T_4ef01_row7_col5\" class=\"data row7 col5\" >0.8785</td>\n",
       "                        <td id=\"T_4ef01_row7_col6\" class=\"data row7 col6\" >0.7525</td>\n",
       "                        <td id=\"T_4ef01_row7_col7\" class=\"data row7 col7\" >0.7561</td>\n",
       "                        <td id=\"T_4ef01_row7_col8\" class=\"data row7 col8\" >0.0150</td>\n",
       "            </tr>\n",
       "            <tr>\n",
       "                        <th id=\"T_4ef01_level0_row8\" class=\"row_heading level0 row8\" >svm</th>\n",
       "                        <td id=\"T_4ef01_row8_col0\" class=\"data row8 col0\" >SVM - Linear Kernel</td>\n",
       "                        <td id=\"T_4ef01_row8_col1\" class=\"data row8 col1\" >0.8710</td>\n",
       "                        <td id=\"T_4ef01_row8_col2\" class=\"data row8 col2\" >0.0000</td>\n",
       "                        <td id=\"T_4ef01_row8_col3\" class=\"data row8 col3\" >0.6133</td>\n",
       "                        <td id=\"T_4ef01_row8_col4\" class=\"data row8 col4\" >0.8592</td>\n",
       "                        <td id=\"T_4ef01_row8_col5\" class=\"data row8 col5\" >0.8574</td>\n",
       "                        <td id=\"T_4ef01_row8_col6\" class=\"data row8 col6\" >0.7162</td>\n",
       "                        <td id=\"T_4ef01_row8_col7\" class=\"data row8 col7\" >0.7227</td>\n",
       "                        <td id=\"T_4ef01_row8_col8\" class=\"data row8 col8\" >0.0240</td>\n",
       "            </tr>\n",
       "            <tr>\n",
       "                        <th id=\"T_4ef01_level0_row9\" class=\"row_heading level0 row9\" >ridge</th>\n",
       "                        <td id=\"T_4ef01_row9_col0\" class=\"data row9 col0\" >Ridge Classifier</td>\n",
       "                        <td id=\"T_4ef01_row9_col1\" class=\"data row9 col1\" >0.8536</td>\n",
       "                        <td id=\"T_4ef01_row9_col2\" class=\"data row9 col2\" >0.0000</td>\n",
       "                        <td id=\"T_4ef01_row9_col3\" class=\"data row9 col3\" >0.4413</td>\n",
       "                        <td id=\"T_4ef01_row9_col4\" class=\"data row9 col4\" >0.7962</td>\n",
       "                        <td id=\"T_4ef01_row9_col5\" class=\"data row9 col5\" >0.8229</td>\n",
       "                        <td id=\"T_4ef01_row9_col6\" class=\"data row9 col6\" >0.6701</td>\n",
       "                        <td id=\"T_4ef01_row9_col7\" class=\"data row9 col7\" >0.6771</td>\n",
       "                        <td id=\"T_4ef01_row9_col8\" class=\"data row9 col8\" >0.0080</td>\n",
       "            </tr>\n",
       "            <tr>\n",
       "                        <th id=\"T_4ef01_level0_row10\" class=\"row_heading level0 row10\" >ada</th>\n",
       "                        <td id=\"T_4ef01_row10_col0\" class=\"data row10 col0\" >Ada Boost Classifier</td>\n",
       "                        <td id=\"T_4ef01_row10_col1\" class=\"data row10 col1\" >0.8305</td>\n",
       "                        <td id=\"T_4ef01_row10_col2\" class=\"data row10 col2\" >0.9218</td>\n",
       "                        <td id=\"T_4ef01_row10_col3\" class=\"data row10 col3\" >0.7031</td>\n",
       "                        <td id=\"T_4ef01_row10_col4\" class=\"data row10 col4\" >0.8195</td>\n",
       "                        <td id=\"T_4ef01_row10_col5\" class=\"data row10 col5\" >0.8182</td>\n",
       "                        <td id=\"T_4ef01_row10_col6\" class=\"data row10 col6\" >0.6253</td>\n",
       "                        <td id=\"T_4ef01_row10_col7\" class=\"data row10 col7\" >0.6326</td>\n",
       "                        <td id=\"T_4ef01_row10_col8\" class=\"data row10 col8\" >0.0370</td>\n",
       "            </tr>\n",
       "            <tr>\n",
       "                        <th id=\"T_4ef01_level0_row11\" class=\"row_heading level0 row11\" >nb</th>\n",
       "                        <td id=\"T_4ef01_row11_col0\" class=\"data row11 col0\" >Naive Bayes</td>\n",
       "                        <td id=\"T_4ef01_row11_col1\" class=\"data row11 col1\" >0.7949</td>\n",
       "                        <td id=\"T_4ef01_row11_col2\" class=\"data row11 col2\" >0.9685</td>\n",
       "                        <td id=\"T_4ef01_row11_col3\" class=\"data row11 col3\" >0.8516</td>\n",
       "                        <td id=\"T_4ef01_row11_col4\" class=\"data row11 col4\" >0.8658</td>\n",
       "                        <td id=\"T_4ef01_row11_col5\" class=\"data row11 col5\" >0.8116</td>\n",
       "                        <td id=\"T_4ef01_row11_col6\" class=\"data row11 col6\" >0.6268</td>\n",
       "                        <td id=\"T_4ef01_row11_col7\" class=\"data row11 col7\" >0.6522</td>\n",
       "                        <td id=\"T_4ef01_row11_col8\" class=\"data row11 col8\" >0.0090</td>\n",
       "            </tr>\n",
       "            <tr>\n",
       "                        <th id=\"T_4ef01_level0_row12\" class=\"row_heading level0 row12\" >qda</th>\n",
       "                        <td id=\"T_4ef01_row12_col0\" class=\"data row12 col0\" >Quadratic Discriminant Analysis</td>\n",
       "                        <td id=\"T_4ef01_row12_col1\" class=\"data row12 col1\" >0.2399</td>\n",
       "                        <td id=\"T_4ef01_row12_col2\" class=\"data row12 col2\" >0.0000</td>\n",
       "                        <td id=\"T_4ef01_row12_col3\" class=\"data row12 col3\" >0.2500</td>\n",
       "                        <td id=\"T_4ef01_row12_col4\" class=\"data row12 col4\" >0.0575</td>\n",
       "                        <td id=\"T_4ef01_row12_col5\" class=\"data row12 col5\" >0.0928</td>\n",
       "                        <td id=\"T_4ef01_row12_col6\" class=\"data row12 col6\" >0.0000</td>\n",
       "                        <td id=\"T_4ef01_row12_col7\" class=\"data row12 col7\" >0.0000</td>\n",
       "                        <td id=\"T_4ef01_row12_col8\" class=\"data row12 col8\" >0.0160</td>\n",
       "            </tr>\n",
       "    </tbody></table>"
      ],
      "text/plain": [
       "<pandas.io.formats.style.Styler at 0x21e1349a1c0>"
      ]
     },
     "metadata": {},
     "output_type": "display_data"
    }
   ],
   "source": [
    "# returning top 3 models based on F1 Score\n",
    "best_models = compare_models(sort=\"F1\")"
   ]
  },
  {
   "cell_type": "code",
   "execution_count": 53,
   "id": "graduate-indonesian",
   "metadata": {},
   "outputs": [
    {
     "data": {
      "image/png": "[encoded data removed]",
      "text/plain": [
       "<Figure size 576x396 with 1 Axes>"
      ]
     },
     "metadata": {},
     "output_type": "display_data"
    }
   ],
   "source": [
    "# AUC Plot for best model\n",
    "plot_model(best_models, plot=\"auc\")"
   ]
  },
  {
   "cell_type": "code",
   "execution_count": 54,
   "id": "prescribed-spelling",
   "metadata": {},
   "outputs": [
    {
     "data": {
      "image/png": "[encoded data removed]",
      "text/plain": [
       "<Figure size 576x396 with 1 Axes>"
      ]
     },
     "metadata": {},
     "output_type": "display_data"
    }
   ],
   "source": [
    "# precision-recall curve for best model\n",
    "plot_model(best_models, plot=\"pr\")"
   ]
  },
  {
   "cell_type": "code",
   "execution_count": 55,
   "id": "structured-retirement",
   "metadata": {},
   "outputs": [
    {
     "data": {
      "image/png": "[encoded data removed]",
      "text/plain": [
       "<Figure size 800x500 with 1 Axes>"
      ]
     },
     "metadata": {},
     "output_type": "display_data"
    }
   ],
   "source": [
    "# feature importance for best model\n",
    "plot_model(best_models, plot=\"feature\")"
   ]
  },
  {
   "cell_type": "code",
   "execution_count": 56,
   "id": "human-drink",
   "metadata": {},
   "outputs": [
    {
     "data": {
      "image/png": "[encoded data removed]",
      "text/plain": [
       "<Figure size 576x396 with 1 Axes>"
      ]
     },
     "metadata": {},
     "output_type": "display_data"
    }
   ],
   "source": [
    "# confusion matrix for best model\n",
    "plot_model(best_models, plot=\"confusion_matrix\")"
   ]
  },
  {
   "cell_type": "code",
   "execution_count": 57,
   "id": "enhanced-conjunction",
   "metadata": {},
   "outputs": [
    {
     "data": {
      "text/html": [
       "<div>\n",
       "<style scoped>\n",
       "    .dataframe tbody tr th:only-of-type {\n",
       "        vertical-align: middle;\n",
       "    }\n",
       "\n",
       "    .dataframe tbody tr th {\n",
       "        vertical-align: top;\n",
       "    }\n",
       "\n",
       "    .dataframe thead th {\n",
       "        text-align: right;\n",
       "    }\n",
       "</style>\n",
       "<table border=\"1\" class=\"dataframe\">\n",
       "  <thead>\n",
       "    <tr style=\"text-align: right;\">\n",
       "      <th></th>\n",
       "      <th>Parameters</th>\n",
       "    </tr>\n",
       "  </thead>\n",
       "  <tbody>\n",
       "    <tr>\n",
       "      <th>boosting_type</th>\n",
       "      <td>gbdt</td>\n",
       "    </tr>\n",
       "    <tr>\n",
       "      <th>class_weight</th>\n",
       "      <td>None</td>\n",
       "    </tr>\n",
       "    <tr>\n",
       "      <th>colsample_bytree</th>\n",
       "      <td>1.0</td>\n",
       "    </tr>\n",
       "    <tr>\n",
       "      <th>importance_type</th>\n",
       "      <td>split</td>\n",
       "    </tr>\n",
       "    <tr>\n",
       "      <th>learning_rate</th>\n",
       "      <td>0.1</td>\n",
       "    </tr>\n",
       "    <tr>\n",
       "      <th>max_depth</th>\n",
       "      <td>-1</td>\n",
       "    </tr>\n",
       "    <tr>\n",
       "      <th>min_child_samples</th>\n",
       "      <td>20</td>\n",
       "    </tr>\n",
       "    <tr>\n",
       "      <th>min_child_weight</th>\n",
       "      <td>0.001</td>\n",
       "    </tr>\n",
       "    <tr>\n",
       "      <th>min_split_gain</th>\n",
       "      <td>0.0</td>\n",
       "    </tr>\n",
       "    <tr>\n",
       "      <th>n_estimators</th>\n",
       "      <td>100</td>\n",
       "    </tr>\n",
       "    <tr>\n",
       "      <th>n_jobs</th>\n",
       "      <td>-1</td>\n",
       "    </tr>\n",
       "    <tr>\n",
       "      <th>num_leaves</th>\n",
       "      <td>31</td>\n",
       "    </tr>\n",
       "    <tr>\n",
       "      <th>objective</th>\n",
       "      <td>None</td>\n",
       "    </tr>\n",
       "    <tr>\n",
       "      <th>random_state</th>\n",
       "      <td>997</td>\n",
       "    </tr>\n",
       "    <tr>\n",
       "      <th>reg_alpha</th>\n",
       "      <td>0.0</td>\n",
       "    </tr>\n",
       "    <tr>\n",
       "      <th>reg_lambda</th>\n",
       "      <td>0.0</td>\n",
       "    </tr>\n",
       "    <tr>\n",
       "      <th>silent</th>\n",
       "      <td>True</td>\n",
       "    </tr>\n",
       "    <tr>\n",
       "      <th>subsample</th>\n",
       "      <td>1.0</td>\n",
       "    </tr>\n",
       "    <tr>\n",
       "      <th>subsample_for_bin</th>\n",
       "      <td>200000</td>\n",
       "    </tr>\n",
       "    <tr>\n",
       "      <th>subsample_freq</th>\n",
       "      <td>0</td>\n",
       "    </tr>\n",
       "  </tbody>\n",
       "</table>\n",
       "</div>"
      ],
      "text/plain": [
       "                  Parameters\n",
       "boosting_type           gbdt\n",
       "class_weight            None\n",
       "colsample_bytree         1.0\n",
       "importance_type        split\n",
       "learning_rate            0.1\n",
       "max_depth                 -1\n",
       "min_child_samples         20\n",
       "min_child_weight       0.001\n",
       "min_split_gain           0.0\n",
       "n_estimators             100\n",
       "n_jobs                    -1\n",
       "num_leaves                31\n",
       "objective               None\n",
       "random_state             997\n",
       "reg_alpha                0.0\n",
       "reg_lambda               0.0\n",
       "silent                  True\n",
       "subsample                1.0\n",
       "subsample_for_bin     200000\n",
       "subsample_freq             0"
      ]
     },
     "metadata": {},
     "output_type": "display_data"
    }
   ],
   "source": [
    "# evaluating model\n",
    "evaluate_model(best_models)"
   ]
  },
  {
   "cell_type": "code",
   "execution_count": 58,
   "id": "violent-consultation",
   "metadata": {},
   "outputs": [],
   "source": [
    "# finalizing model light gradient boost model to use in prediction\n",
    "final_lgbm = finalize_model(best_models)"
   ]
  },
  {
   "cell_type": "code",
   "execution_count": 59,
   "id": "explicit-hospital",
   "metadata": {},
   "outputs": [
    {
     "data": {
      "text/html": [
       "<div>\n",
       "<style scoped>\n",
       "    .dataframe tbody tr th:only-of-type {\n",
       "        vertical-align: middle;\n",
       "    }\n",
       "\n",
       "    .dataframe tbody tr th {\n",
       "        vertical-align: top;\n",
       "    }\n",
       "\n",
       "    .dataframe thead th {\n",
       "        text-align: right;\n",
       "    }\n",
       "</style>\n",
       "<table border=\"1\" class=\"dataframe\">\n",
       "  <thead>\n",
       "    <tr style=\"text-align: right;\">\n",
       "      <th></th>\n",
       "      <th>Purchase Price</th>\n",
       "      <th>Maintenance Costs</th>\n",
       "      <th>Doors</th>\n",
       "      <th>Persons</th>\n",
       "      <th>Luggae Boot</th>\n",
       "      <th>Safety</th>\n",
       "      <th>Label</th>\n",
       "      <th>Score</th>\n",
       "    </tr>\n",
       "  </thead>\n",
       "  <tbody>\n",
       "    <tr>\n",
       "      <th>0</th>\n",
       "      <td>med</td>\n",
       "      <td>vhigh</td>\n",
       "      <td>4</td>\n",
       "      <td>4</td>\n",
       "      <td>med</td>\n",
       "      <td>med</td>\n",
       "      <td>acc</td>\n",
       "      <td>0.9966</td>\n",
       "    </tr>\n",
       "  </tbody>\n",
       "</table>\n",
       "</div>"
      ],
      "text/plain": [
       "  Purchase Price Maintenance Costs Doors Persons Luggae Boot Safety Label  \\\n",
       "0            med             vhigh     4       4         med    med   acc   \n",
       "\n",
       "    Score  \n",
       "0  0.9966  "
      ]
     },
     "execution_count": 59,
     "metadata": {},
     "output_type": "execute_result"
    }
   ],
   "source": [
    "# prediction based on best PyCaret model (light gradient boost model)\n",
    "car_prediction = predict_model(final_lgbm, data=car_scenario)\n",
    "car_prediction"
   ]
  },
  {
   "cell_type": "markdown",
   "id": "studied-houston",
   "metadata": {},
   "source": [
    "## Recommendation to Client\n",
    "\n",
    "I would not recommend the automobile listed in the scenario for a few reasons. First, the evaluation scores are deceptive. Precision, recall, f1 scores, and accuracy have scored at or near 100% for the cross-validation sets and the out-of-sample test set. I am confident this is due to not including any quantitative features in the training data. Also, most categorical features are ordinal with  3-4 categories per feature. A low number of feature categories makes it easy for most algorithms to memorize the data instead of generalizing it to a population.\n",
    "\n",
    "Accuracy varies significantly between different classification models. Gradient boosting and tree models such as Light Gradient Boosting Machine, Gradient Boosting Classifier, Extra Trees Classifier, Decision Tree Classifier, and Random Forest Classifier have cross-validation accuracy scores above 95%. These models are usually the top choices for classification problems, but they come with a performance cost. The Naive Bayes and Quadratic Discriminant Analysis classifiers have accuracy scores below 80%. The latter is not an ideal choice for this task since it has a mean accuracy score of 24%. Although Naive Bayes has a mean accuracy score below 80%, it makes up for it with the second-lowest training time, 0.0080 seconds, and recall and precision scores above 85%. The gradient boosting and tree models mentioned earlier have AUC percentages above 96% (most near 100%). The Naive Bayes classifier model is on par at 0.97%. \n",
    "\n",
    "Precision scores are higher than recall scores across all models. The top five accuracy score models have precision and recall scores above 90\n",
    "%. Interestingly enough, the light gradient boosting machine and Naive Bayes classifier models have a difference between precision and recall below 1.5 seconds. The performance from the Naive Bayes model shows how the effectiveness of a high-performance probability model. The AOC does not change significantly between the highest performing models. The most important feature attributes are two-door vehicles, low purchase price, high safety rating, four-person vehicles, and medium purchase price in that order. These attributes make sense as people want high safety vehicles at a low purchase price.\n",
    "\n",
    "The tuned K-Nearest Neighbor classification model and the Light Gradient Boosting Machine model predict a rounded 100% acceptable car rating for the automobile offer. I would not recommend the automobile to the potential client even after comparing different models for a few reasons. First, the scores are probably not indicative of the general population. All of the feature attributes are categorical with a low amount of categories. Most models will have a hard time generalizing well to a population. Some of the category values are subjective and can have different ranges within them. Secondly, the sample size is relatively small. There are only 1,728 instances of automobiles. Also, there is a limited number of features. A limited number of features might not represent a larger proportion of the automobile population well. There are a few things I would change to get a positive recommendation. For starters, having more feature attributes would help some of the algorithms group cars more effectively. Next, having more numerical features might decrease the chance of a model overfitting the data. Another factor is to include more observations in the training data."
   ]
  }
 ],
 "metadata": {
  "kernelspec": {
   "display_name": "Python 3",
   "language": "python",
   "name": "python3"
  },
  "language_info": {
   "codemirror_mode": {
    "name": "ipython",
    "version": 3
   },
   "file_extension": ".py",
   "mimetype": "text/x-python",
   "name": "python",
   "nbconvert_exporter": "python",
   "pygments_lexer": "ipython3",
   "version": "3.8.8"
  }
 },
 "nbformat": 4,
 "nbformat_minor": 5
}
