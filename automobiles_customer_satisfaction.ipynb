{
 "cells": [
  {
   "cell_type": "markdown",
   "id": "scientific-preservation",
   "metadata": {},
   "source": [
    "# Automobiles and Customer Satisfaction\n",
    "\n",
    "**Goal: Identify autombile customer satisfaction using association rules, K-Means clustering, and K-Nearest neighbors classification.**  \n",
    "\n",
    "Datasets:  \n",
    "    [car data](https://raw.githubusercontent.com/crosstrack10/data-science-projects/main/datasets/car_evaluation_dataset.csv)  \n",
    "    [binary car data](https://raw.githubusercontent.com/crosstrack10/data-science-projects/main/datasets/car_evaluation_dataset_logical.csv)"
   ]
  },
  {
   "cell_type": "markdown",
   "id": "casual-alpha",
   "metadata": {},
   "source": [
    "I will begin the data exploration phase by limiting number of threads used and importing essential libraries for exploration."
   ]
  },
  {
   "cell_type": "code",
   "execution_count": 1,
   "id": "julian-thinking",
   "metadata": {},
   "outputs": [],
   "source": [
    "# setting number of threads to six\n",
    "import os\n",
    "os.environ[\"OMP_NUM_THREADS\"] = \"6\"\n",
    "\n",
    "# importing libraries\n",
    "import pandas as pd\n",
    "import numpy as np\n",
    "import matplotlib.pyplot as plt\n",
    "import seaborn as sns\n",
    "\n",
    "%matplotlib inline\n",
    "%config Completer.use_jedi = False"
   ]
  },
  {
   "cell_type": "code",
   "execution_count": 2,
   "id": "invalid-southwest",
   "metadata": {},
   "outputs": [],
   "source": [
    "# reading in car dataset from github repository\n",
    "url = \"https://raw.githubusercontent.com/crosstrack10/data-science-projects/main/datasets/car_evaluation_dataset.csv\"\n",
    "car_data = pd.read_csv(url)"
   ]
  },
  {
   "cell_type": "code",
   "execution_count": 3,
   "id": "recreational-shelf",
   "metadata": {},
   "outputs": [],
   "source": [
    "# shuffling dataset\n",
    "car_data = car_data.iloc[:, 1:].sample(frac=1).reset_index(drop=True)"
   ]
  },
  {
   "cell_type": "code",
   "execution_count": 4,
   "id": "primary-gibraltar",
   "metadata": {},
   "outputs": [
    {
     "data": {
      "text/html": [
       "<div>\n",
       "<style scoped>\n",
       "    .dataframe tbody tr th:only-of-type {\n",
       "        vertical-align: middle;\n",
       "    }\n",
       "\n",
       "    .dataframe tbody tr th {\n",
       "        vertical-align: top;\n",
       "    }\n",
       "\n",
       "    .dataframe thead th {\n",
       "        text-align: right;\n",
       "    }\n",
       "</style>\n",
       "<table border=\"1\" class=\"dataframe\">\n",
       "  <thead>\n",
       "    <tr style=\"text-align: right;\">\n",
       "      <th></th>\n",
       "      <th>Purchase Price</th>\n",
       "      <th>Maintenance Costs</th>\n",
       "      <th>Doors</th>\n",
       "      <th>Persons</th>\n",
       "      <th>Luggae Boot</th>\n",
       "      <th>Safety</th>\n",
       "      <th>Rating</th>\n",
       "    </tr>\n",
       "  </thead>\n",
       "  <tbody>\n",
       "    <tr>\n",
       "      <th>0</th>\n",
       "      <td>vhigh</td>\n",
       "      <td>vhigh</td>\n",
       "      <td>3</td>\n",
       "      <td>2</td>\n",
       "      <td>big</td>\n",
       "      <td>med</td>\n",
       "      <td>unacc</td>\n",
       "    </tr>\n",
       "    <tr>\n",
       "      <th>1</th>\n",
       "      <td>med</td>\n",
       "      <td>med</td>\n",
       "      <td>4</td>\n",
       "      <td>more</td>\n",
       "      <td>med</td>\n",
       "      <td>med</td>\n",
       "      <td>acc</td>\n",
       "    </tr>\n",
       "    <tr>\n",
       "      <th>2</th>\n",
       "      <td>low</td>\n",
       "      <td>high</td>\n",
       "      <td>2</td>\n",
       "      <td>4</td>\n",
       "      <td>big</td>\n",
       "      <td>low</td>\n",
       "      <td>unacc</td>\n",
       "    </tr>\n",
       "    <tr>\n",
       "      <th>3</th>\n",
       "      <td>high</td>\n",
       "      <td>high</td>\n",
       "      <td>3</td>\n",
       "      <td>2</td>\n",
       "      <td>big</td>\n",
       "      <td>med</td>\n",
       "      <td>unacc</td>\n",
       "    </tr>\n",
       "    <tr>\n",
       "      <th>4</th>\n",
       "      <td>low</td>\n",
       "      <td>high</td>\n",
       "      <td>2</td>\n",
       "      <td>more</td>\n",
       "      <td>med</td>\n",
       "      <td>med</td>\n",
       "      <td>acc</td>\n",
       "    </tr>\n",
       "  </tbody>\n",
       "</table>\n",
       "</div>"
      ],
      "text/plain": [
       "  Purchase Price Maintenance Costs Doors Persons Luggae Boot Safety Rating\n",
       "0          vhigh             vhigh     3       2         big    med  unacc\n",
       "1            med               med     4    more         med    med    acc\n",
       "2            low              high     2       4         big    low  unacc\n",
       "3           high              high     3       2         big    med  unacc\n",
       "4            low              high     2    more         med    med    acc"
      ]
     },
     "execution_count": 4,
     "metadata": {},
     "output_type": "execute_result"
    }
   ],
   "source": [
    "# first five rows\n",
    "car_data.head()"
   ]
  },
  {
   "cell_type": "code",
   "execution_count": 5,
   "id": "communist-grace",
   "metadata": {},
   "outputs": [
    {
     "name": "stdout",
     "output_type": "stream",
     "text": [
      "<class 'pandas.core.frame.DataFrame'>\n",
      "RangeIndex: 1728 entries, 0 to 1727\n",
      "Data columns (total 7 columns):\n",
      " #   Column             Non-Null Count  Dtype \n",
      "---  ------             --------------  ----- \n",
      " 0   Purchase Price     1728 non-null   object\n",
      " 1   Maintenance Costs  1728 non-null   object\n",
      " 2   Doors              1728 non-null   object\n",
      " 3   Persons            1728 non-null   object\n",
      " 4   Luggae Boot        1728 non-null   object\n",
      " 5   Safety             1728 non-null   object\n",
      " 6   Rating             1728 non-null   object\n",
      "dtypes: object(7)\n",
      "memory usage: 94.6+ KB\n"
     ]
    }
   ],
   "source": [
    "# general variable info\n",
    "car_data.info()"
   ]
  },
  {
   "cell_type": "markdown",
   "id": "coupled-metro",
   "metadata": {},
   "source": [
    "There are no null values present in the dataset. Also, all of the columns are object types. Let's count the values using barplots to make sure they were imported as the correct data type. It will also give us a chance to look at the distribution among columns."
   ]
  },
  {
   "cell_type": "code",
   "execution_count": 6,
   "id": "great-contractor",
   "metadata": {},
   "outputs": [
    {
     "data": {
      "text/html": [
       "<div>\n",
       "<style scoped>\n",
       "    .dataframe tbody tr th:only-of-type {\n",
       "        vertical-align: middle;\n",
       "    }\n",
       "\n",
       "    .dataframe tbody tr th {\n",
       "        vertical-align: top;\n",
       "    }\n",
       "\n",
       "    .dataframe thead th {\n",
       "        text-align: right;\n",
       "    }\n",
       "</style>\n",
       "<table border=\"1\" class=\"dataframe\">\n",
       "  <thead>\n",
       "    <tr style=\"text-align: right;\">\n",
       "      <th></th>\n",
       "      <th>Purchase Price</th>\n",
       "      <th>Maintenance Costs</th>\n",
       "      <th>Doors</th>\n",
       "      <th>Persons</th>\n",
       "      <th>Luggae Boot</th>\n",
       "      <th>Safety</th>\n",
       "      <th>Rating</th>\n",
       "    </tr>\n",
       "  </thead>\n",
       "  <tbody>\n",
       "    <tr>\n",
       "      <th>count</th>\n",
       "      <td>1728</td>\n",
       "      <td>1728</td>\n",
       "      <td>1728</td>\n",
       "      <td>1728</td>\n",
       "      <td>1728</td>\n",
       "      <td>1728</td>\n",
       "      <td>1728</td>\n",
       "    </tr>\n",
       "    <tr>\n",
       "      <th>unique</th>\n",
       "      <td>4</td>\n",
       "      <td>4</td>\n",
       "      <td>4</td>\n",
       "      <td>3</td>\n",
       "      <td>3</td>\n",
       "      <td>3</td>\n",
       "      <td>4</td>\n",
       "    </tr>\n",
       "    <tr>\n",
       "      <th>top</th>\n",
       "      <td>vhigh</td>\n",
       "      <td>vhigh</td>\n",
       "      <td>5more</td>\n",
       "      <td>more</td>\n",
       "      <td>big</td>\n",
       "      <td>high</td>\n",
       "      <td>unacc</td>\n",
       "    </tr>\n",
       "    <tr>\n",
       "      <th>freq</th>\n",
       "      <td>432</td>\n",
       "      <td>432</td>\n",
       "      <td>432</td>\n",
       "      <td>576</td>\n",
       "      <td>576</td>\n",
       "      <td>576</td>\n",
       "      <td>1210</td>\n",
       "    </tr>\n",
       "  </tbody>\n",
       "</table>\n",
       "</div>"
      ],
      "text/plain": [
       "       Purchase Price Maintenance Costs  Doors Persons Luggae Boot Safety  \\\n",
       "count            1728              1728   1728    1728        1728   1728   \n",
       "unique              4                 4      4       3           3      3   \n",
       "top             vhigh             vhigh  5more    more         big   high   \n",
       "freq              432               432    432     576         576    576   \n",
       "\n",
       "       Rating  \n",
       "count    1728  \n",
       "unique      4  \n",
       "top     unacc  \n",
       "freq     1210  "
      ]
     },
     "execution_count": 6,
     "metadata": {},
     "output_type": "execute_result"
    }
   ],
   "source": [
    "# retrieving general statistics for numerical variables\n",
    "car_data.describe()"
   ]
  },
  {
   "cell_type": "markdown",
   "id": "adolescent-debut",
   "metadata": {},
   "source": [
    "All of the columns have 3-4 unique values. Most of them seem to be ordinal variables. Let's make sure that's the case."
   ]
  },
  {
   "cell_type": "code",
   "execution_count": 7,
   "id": "sudden-great",
   "metadata": {},
   "outputs": [],
   "source": [
    "# storing column names\n",
    "col_names = car_data.columns"
   ]
  },
  {
   "cell_type": "code",
   "execution_count": 8,
   "id": "medical-reservoir",
   "metadata": {},
   "outputs": [
    {
     "data": {
      "image/png": "[encoded data removed]",
      "text/plain": [
       "<Figure size 720x1080 with 8 Axes>"
      ]
     },
     "metadata": {},
     "output_type": "display_data"
    }
   ],
   "source": [
    "# counting variables using barplots\n",
    "plt.style.use(\"fivethirtyeight\")\n",
    "fig, axes = plt.subplots(4, 2, figsize=(10, 15), sharey=True) # creates figure and axes\n",
    "fig.tight_layout() # removes extra whitespaces\n",
    "fig.subplots_adjust(top=0.97)\n",
    "fig.suptitle(\"Category Counts\", fontsize=20); # spacing out title\n",
    "\n",
    "# adding plots to subplots\n",
    "sns.countplot(ax=axes[0, 0], data=car_data, x=col_names[0]);\n",
    "sns.countplot(ax=axes[0, 1], data=car_data, x=col_names[1]);\n",
    "sns.countplot(ax=axes[1, 0], data=car_data, x=col_names[2]);\n",
    "sns.countplot(ax=axes[1, 1], data=car_data, x=col_names[3]);\n",
    "sns.countplot(ax=axes[2, 0], data=car_data, x=col_names[4]);\n",
    "sns.countplot(ax=axes[2, 1], data=car_data, x=col_names[5]);\n",
    "sns.countplot(ax=axes[3, 0], data=car_data, x=col_names[6]);\n",
    "axes[-1, -1].axis(\"off\");"
   ]
  },
  {
   "cell_type": "markdown",
   "id": "prepared-respect",
   "metadata": {},
   "source": [
    "Yes, they all seem to be ordinal variables. I am not sure how this will affect the K-Means and K-Nearest Neighbors classificaiton algorithms. It might be hard to visualize clusters using K-Means. All of the columns have a fixed number of unique values. A K-Nearest Neighbors classifier might overfit the data due to possibly having seen most of the holdout data during training."
   ]
  },
  {
   "cell_type": "markdown",
   "id": "continuous-independence",
   "metadata": {},
   "source": [
    "### Association Rules"
   ]
  },
  {
   "cell_type": "markdown",
   "id": "alive-final",
   "metadata": {},
   "source": [
    "In this section, I will use association rules on a binary format version of the car dataset. The first goal is to determine three rules with two items with the strongest support. The second goal is similar to the first one, but instead of finding three rules with two items, I will find three rules with three items."
   ]
  },
  {
   "cell_type": "code",
   "execution_count": 9,
   "id": "obvious-brother",
   "metadata": {},
   "outputs": [],
   "source": [
    "# reading in binary car dataset from github repository\n",
    "url = \"https://raw.githubusercontent.com/crosstrack10/data-science-projects/main/datasets/car_evaluation_dataset_logical.csv\"\n",
    "binary_car_data=pd.read_csv(url).sample(frac=1).reset_index(drop=True)"
   ]
  },
  {
   "cell_type": "code",
   "execution_count": 10,
   "id": "later-level",
   "metadata": {},
   "outputs": [
    {
     "data": {
      "text/html": [
       "<div>\n",
       "<style scoped>\n",
       "    .dataframe tbody tr th:only-of-type {\n",
       "        vertical-align: middle;\n",
       "    }\n",
       "\n",
       "    .dataframe tbody tr th {\n",
       "        vertical-align: top;\n",
       "    }\n",
       "\n",
       "    .dataframe thead th {\n",
       "        text-align: right;\n",
       "    }\n",
       "</style>\n",
       "<table border=\"1\" class=\"dataframe\">\n",
       "  <thead>\n",
       "    <tr style=\"text-align: right;\">\n",
       "      <th></th>\n",
       "      <th>2door</th>\n",
       "      <th>2person</th>\n",
       "      <th>3door</th>\n",
       "      <th>4door</th>\n",
       "      <th>4person</th>\n",
       "      <th>5moredoor</th>\n",
       "      <th>acc</th>\n",
       "      <th>bigluggage</th>\n",
       "      <th>good</th>\n",
       "      <th>highmaint</th>\n",
       "      <th>...</th>\n",
       "      <th>medluggage</th>\n",
       "      <th>medmaint</th>\n",
       "      <th>medpurchase</th>\n",
       "      <th>medsafety</th>\n",
       "      <th>moreperson</th>\n",
       "      <th>smallluggage</th>\n",
       "      <th>unacc</th>\n",
       "      <th>vgood</th>\n",
       "      <th>vhighmaint</th>\n",
       "      <th>vhighpurchase</th>\n",
       "    </tr>\n",
       "  </thead>\n",
       "  <tbody>\n",
       "    <tr>\n",
       "      <th>count</th>\n",
       "      <td>1728.000000</td>\n",
       "      <td>1728.000000</td>\n",
       "      <td>1728.000000</td>\n",
       "      <td>1728.000000</td>\n",
       "      <td>1728.000000</td>\n",
       "      <td>1728.000000</td>\n",
       "      <td>1728.000000</td>\n",
       "      <td>1728.000000</td>\n",
       "      <td>1728.000000</td>\n",
       "      <td>1728.000000</td>\n",
       "      <td>...</td>\n",
       "      <td>1728.000000</td>\n",
       "      <td>1728.000000</td>\n",
       "      <td>1728.000000</td>\n",
       "      <td>1728.000000</td>\n",
       "      <td>1728.000000</td>\n",
       "      <td>1728.000000</td>\n",
       "      <td>1728.000000</td>\n",
       "      <td>1728.000000</td>\n",
       "      <td>1728.000000</td>\n",
       "      <td>1728.000000</td>\n",
       "    </tr>\n",
       "    <tr>\n",
       "      <th>mean</th>\n",
       "      <td>0.250000</td>\n",
       "      <td>0.333333</td>\n",
       "      <td>0.250000</td>\n",
       "      <td>0.250000</td>\n",
       "      <td>0.333333</td>\n",
       "      <td>0.250000</td>\n",
       "      <td>0.222222</td>\n",
       "      <td>0.333333</td>\n",
       "      <td>0.039931</td>\n",
       "      <td>0.250000</td>\n",
       "      <td>...</td>\n",
       "      <td>0.333333</td>\n",
       "      <td>0.250000</td>\n",
       "      <td>0.250000</td>\n",
       "      <td>0.333333</td>\n",
       "      <td>0.333333</td>\n",
       "      <td>0.333333</td>\n",
       "      <td>0.700231</td>\n",
       "      <td>0.037616</td>\n",
       "      <td>0.250000</td>\n",
       "      <td>0.250000</td>\n",
       "    </tr>\n",
       "    <tr>\n",
       "      <th>std</th>\n",
       "      <td>0.433138</td>\n",
       "      <td>0.471541</td>\n",
       "      <td>0.433138</td>\n",
       "      <td>0.433138</td>\n",
       "      <td>0.471541</td>\n",
       "      <td>0.433138</td>\n",
       "      <td>0.415860</td>\n",
       "      <td>0.471541</td>\n",
       "      <td>0.195853</td>\n",
       "      <td>0.433138</td>\n",
       "      <td>...</td>\n",
       "      <td>0.471541</td>\n",
       "      <td>0.433138</td>\n",
       "      <td>0.433138</td>\n",
       "      <td>0.471541</td>\n",
       "      <td>0.471541</td>\n",
       "      <td>0.471541</td>\n",
       "      <td>0.458289</td>\n",
       "      <td>0.190320</td>\n",
       "      <td>0.433138</td>\n",
       "      <td>0.433138</td>\n",
       "    </tr>\n",
       "    <tr>\n",
       "      <th>min</th>\n",
       "      <td>0.000000</td>\n",
       "      <td>0.000000</td>\n",
       "      <td>0.000000</td>\n",
       "      <td>0.000000</td>\n",
       "      <td>0.000000</td>\n",
       "      <td>0.000000</td>\n",
       "      <td>0.000000</td>\n",
       "      <td>0.000000</td>\n",
       "      <td>0.000000</td>\n",
       "      <td>0.000000</td>\n",
       "      <td>...</td>\n",
       "      <td>0.000000</td>\n",
       "      <td>0.000000</td>\n",
       "      <td>0.000000</td>\n",
       "      <td>0.000000</td>\n",
       "      <td>0.000000</td>\n",
       "      <td>0.000000</td>\n",
       "      <td>0.000000</td>\n",
       "      <td>0.000000</td>\n",
       "      <td>0.000000</td>\n",
       "      <td>0.000000</td>\n",
       "    </tr>\n",
       "    <tr>\n",
       "      <th>25%</th>\n",
       "      <td>0.000000</td>\n",
       "      <td>0.000000</td>\n",
       "      <td>0.000000</td>\n",
       "      <td>0.000000</td>\n",
       "      <td>0.000000</td>\n",
       "      <td>0.000000</td>\n",
       "      <td>0.000000</td>\n",
       "      <td>0.000000</td>\n",
       "      <td>0.000000</td>\n",
       "      <td>0.000000</td>\n",
       "      <td>...</td>\n",
       "      <td>0.000000</td>\n",
       "      <td>0.000000</td>\n",
       "      <td>0.000000</td>\n",
       "      <td>0.000000</td>\n",
       "      <td>0.000000</td>\n",
       "      <td>0.000000</td>\n",
       "      <td>0.000000</td>\n",
       "      <td>0.000000</td>\n",
       "      <td>0.000000</td>\n",
       "      <td>0.000000</td>\n",
       "    </tr>\n",
       "    <tr>\n",
       "      <th>50%</th>\n",
       "      <td>0.000000</td>\n",
       "      <td>0.000000</td>\n",
       "      <td>0.000000</td>\n",
       "      <td>0.000000</td>\n",
       "      <td>0.000000</td>\n",
       "      <td>0.000000</td>\n",
       "      <td>0.000000</td>\n",
       "      <td>0.000000</td>\n",
       "      <td>0.000000</td>\n",
       "      <td>0.000000</td>\n",
       "      <td>...</td>\n",
       "      <td>0.000000</td>\n",
       "      <td>0.000000</td>\n",
       "      <td>0.000000</td>\n",
       "      <td>0.000000</td>\n",
       "      <td>0.000000</td>\n",
       "      <td>0.000000</td>\n",
       "      <td>1.000000</td>\n",
       "      <td>0.000000</td>\n",
       "      <td>0.000000</td>\n",
       "      <td>0.000000</td>\n",
       "    </tr>\n",
       "    <tr>\n",
       "      <th>75%</th>\n",
       "      <td>0.250000</td>\n",
       "      <td>1.000000</td>\n",
       "      <td>0.250000</td>\n",
       "      <td>0.250000</td>\n",
       "      <td>1.000000</td>\n",
       "      <td>0.250000</td>\n",
       "      <td>0.000000</td>\n",
       "      <td>1.000000</td>\n",
       "      <td>0.000000</td>\n",
       "      <td>0.250000</td>\n",
       "      <td>...</td>\n",
       "      <td>1.000000</td>\n",
       "      <td>0.250000</td>\n",
       "      <td>0.250000</td>\n",
       "      <td>1.000000</td>\n",
       "      <td>1.000000</td>\n",
       "      <td>1.000000</td>\n",
       "      <td>1.000000</td>\n",
       "      <td>0.000000</td>\n",
       "      <td>0.250000</td>\n",
       "      <td>0.250000</td>\n",
       "    </tr>\n",
       "    <tr>\n",
       "      <th>max</th>\n",
       "      <td>1.000000</td>\n",
       "      <td>1.000000</td>\n",
       "      <td>1.000000</td>\n",
       "      <td>1.000000</td>\n",
       "      <td>1.000000</td>\n",
       "      <td>1.000000</td>\n",
       "      <td>1.000000</td>\n",
       "      <td>1.000000</td>\n",
       "      <td>1.000000</td>\n",
       "      <td>1.000000</td>\n",
       "      <td>...</td>\n",
       "      <td>1.000000</td>\n",
       "      <td>1.000000</td>\n",
       "      <td>1.000000</td>\n",
       "      <td>1.000000</td>\n",
       "      <td>1.000000</td>\n",
       "      <td>1.000000</td>\n",
       "      <td>1.000000</td>\n",
       "      <td>1.000000</td>\n",
       "      <td>1.000000</td>\n",
       "      <td>1.000000</td>\n",
       "    </tr>\n",
       "  </tbody>\n",
       "</table>\n",
       "<p>8 rows × 25 columns</p>\n",
       "</div>"
      ],
      "text/plain": [
       "             2door      2person        3door        4door      4person  \\\n",
       "count  1728.000000  1728.000000  1728.000000  1728.000000  1728.000000   \n",
       "mean      0.250000     0.333333     0.250000     0.250000     0.333333   \n",
       "std       0.433138     0.471541     0.433138     0.433138     0.471541   \n",
       "min       0.000000     0.000000     0.000000     0.000000     0.000000   \n",
       "25%       0.000000     0.000000     0.000000     0.000000     0.000000   \n",
       "50%       0.000000     0.000000     0.000000     0.000000     0.000000   \n",
       "75%       0.250000     1.000000     0.250000     0.250000     1.000000   \n",
       "max       1.000000     1.000000     1.000000     1.000000     1.000000   \n",
       "\n",
       "         5moredoor          acc   bigluggage         good    highmaint  ...  \\\n",
       "count  1728.000000  1728.000000  1728.000000  1728.000000  1728.000000  ...   \n",
       "mean      0.250000     0.222222     0.333333     0.039931     0.250000  ...   \n",
       "std       0.433138     0.415860     0.471541     0.195853     0.433138  ...   \n",
       "min       0.000000     0.000000     0.000000     0.000000     0.000000  ...   \n",
       "25%       0.000000     0.000000     0.000000     0.000000     0.000000  ...   \n",
       "50%       0.000000     0.000000     0.000000     0.000000     0.000000  ...   \n",
       "75%       0.250000     0.000000     1.000000     0.000000     0.250000  ...   \n",
       "max       1.000000     1.000000     1.000000     1.000000     1.000000  ...   \n",
       "\n",
       "        medluggage     medmaint  medpurchase    medsafety   moreperson  \\\n",
       "count  1728.000000  1728.000000  1728.000000  1728.000000  1728.000000   \n",
       "mean      0.333333     0.250000     0.250000     0.333333     0.333333   \n",
       "std       0.471541     0.433138     0.433138     0.471541     0.471541   \n",
       "min       0.000000     0.000000     0.000000     0.000000     0.000000   \n",
       "25%       0.000000     0.000000     0.000000     0.000000     0.000000   \n",
       "50%       0.000000     0.000000     0.000000     0.000000     0.000000   \n",
       "75%       1.000000     0.250000     0.250000     1.000000     1.000000   \n",
       "max       1.000000     1.000000     1.000000     1.000000     1.000000   \n",
       "\n",
       "       smallluggage        unacc        vgood   vhighmaint  vhighpurchase  \n",
       "count   1728.000000  1728.000000  1728.000000  1728.000000    1728.000000  \n",
       "mean       0.333333     0.700231     0.037616     0.250000       0.250000  \n",
       "std        0.471541     0.458289     0.190320     0.433138       0.433138  \n",
       "min        0.000000     0.000000     0.000000     0.000000       0.000000  \n",
       "25%        0.000000     0.000000     0.000000     0.000000       0.000000  \n",
       "50%        0.000000     1.000000     0.000000     0.000000       0.000000  \n",
       "75%        1.000000     1.000000     0.000000     0.250000       0.250000  \n",
       "max        1.000000     1.000000     1.000000     1.000000       1.000000  \n",
       "\n",
       "[8 rows x 25 columns]"
      ]
     },
     "execution_count": 10,
     "metadata": {},
     "output_type": "execute_result"
    }
   ],
   "source": [
    "# retrieving general statistics for numerical variables\n",
    "binary_car_data.describe()"
   ]
  },
  {
   "cell_type": "code",
   "execution_count": 11,
   "id": "stock-healing",
   "metadata": {},
   "outputs": [],
   "source": [
    "# importing apriori model and association rules\n",
    "from mlxtend.frequent_patterns import apriori, association_rules\n",
    "\n",
    "# builiding the model\n",
    "freq_items = apriori(binary_car_data, min_support=0.05, use_colnames=True)\n",
    "\n",
    "# collecting rules in a dataframe\n",
    "rules = association_rules(freq_items, metric=\"lift\", min_threshold=0.05)\n",
    "rules = rules.sort_values([\"support\", \"confidence\"], ascending=[False, False])"
   ]
  },
  {
   "cell_type": "code",
   "execution_count": 12,
   "id": "static-polish",
   "metadata": {},
   "outputs": [
    {
     "data": {
      "text/html": [
       "<div>\n",
       "<style scoped>\n",
       "    .dataframe tbody tr th:only-of-type {\n",
       "        vertical-align: middle;\n",
       "    }\n",
       "\n",
       "    .dataframe tbody tr th {\n",
       "        vertical-align: top;\n",
       "    }\n",
       "\n",
       "    .dataframe thead th {\n",
       "        text-align: right;\n",
       "    }\n",
       "</style>\n",
       "<table border=\"1\" class=\"dataframe\">\n",
       "  <thead>\n",
       "    <tr style=\"text-align: right;\">\n",
       "      <th></th>\n",
       "      <th>antecedents</th>\n",
       "      <th>consequents</th>\n",
       "      <th>antecedent support</th>\n",
       "      <th>consequent support</th>\n",
       "      <th>support</th>\n",
       "      <th>confidence</th>\n",
       "      <th>lift</th>\n",
       "      <th>leverage</th>\n",
       "      <th>conviction</th>\n",
       "    </tr>\n",
       "  </thead>\n",
       "  <tbody>\n",
       "    <tr>\n",
       "      <th>66</th>\n",
       "      <td>(2person)</td>\n",
       "      <td>(unacc)</td>\n",
       "      <td>0.333333</td>\n",
       "      <td>0.700231</td>\n",
       "      <td>0.333333</td>\n",
       "      <td>1.000000</td>\n",
       "      <td>1.428099</td>\n",
       "      <td>0.099923</td>\n",
       "      <td>inf</td>\n",
       "    </tr>\n",
       "    <tr>\n",
       "      <th>368</th>\n",
       "      <td>(lowsafety)</td>\n",
       "      <td>(unacc)</td>\n",
       "      <td>0.333333</td>\n",
       "      <td>0.700231</td>\n",
       "      <td>0.333333</td>\n",
       "      <td>1.000000</td>\n",
       "      <td>1.428099</td>\n",
       "      <td>0.099923</td>\n",
       "      <td>inf</td>\n",
       "    </tr>\n",
       "    <tr>\n",
       "      <th>67</th>\n",
       "      <td>(unacc)</td>\n",
       "      <td>(2person)</td>\n",
       "      <td>0.700231</td>\n",
       "      <td>0.333333</td>\n",
       "      <td>0.333333</td>\n",
       "      <td>0.476033</td>\n",
       "      <td>1.428099</td>\n",
       "      <td>0.099923</td>\n",
       "      <td>1.272345</td>\n",
       "    </tr>\n",
       "  </tbody>\n",
       "</table>\n",
       "</div>"
      ],
      "text/plain": [
       "     antecedents consequents  antecedent support  consequent support  \\\n",
       "66     (2person)     (unacc)            0.333333            0.700231   \n",
       "368  (lowsafety)     (unacc)            0.333333            0.700231   \n",
       "67       (unacc)   (2person)            0.700231            0.333333   \n",
       "\n",
       "      support  confidence      lift  leverage  conviction  \n",
       "66   0.333333    1.000000  1.428099  0.099923         inf  \n",
       "368  0.333333    1.000000  1.428099  0.099923         inf  \n",
       "67   0.333333    0.476033  1.428099  0.099923    1.272345  "
      ]
     },
     "execution_count": 12,
     "metadata": {},
     "output_type": "execute_result"
    }
   ],
   "source": [
    "# top 3 single item frequent item sets\n",
    "rules.head(3)"
   ]
  },
  {
   "cell_type": "markdown",
   "id": "pleasant-telescope",
   "metadata": {},
   "source": [
    "The top three rules with the strongest support with two items reveal some interesting findings. All three rules have the support of about 0.33. A two person vehicle antecedent and a consequent unacceptable rating have the confidence of 1.00. The same can be said for a low safety vehicle and a consequent unacceptable rating. An antecedent unacceptable rating and a consequent two person vehicle have the confidence of about 0.48. From a business perspective, these findings may indicate unacceptable car ratings are usually associated with two person and low safety vehicles. These rules might make a business purchase fewer two person and low safety vehicles. "
   ]
  },
  {
   "cell_type": "code",
   "execution_count": 13,
   "id": "suitable-satellite",
   "metadata": {},
   "outputs": [
    {
     "data": {
      "text/html": [
       "<div>\n",
       "<style scoped>\n",
       "    .dataframe tbody tr th:only-of-type {\n",
       "        vertical-align: middle;\n",
       "    }\n",
       "\n",
       "    .dataframe tbody tr th {\n",
       "        vertical-align: top;\n",
       "    }\n",
       "\n",
       "    .dataframe thead th {\n",
       "        text-align: right;\n",
       "    }\n",
       "</style>\n",
       "<table border=\"1\" class=\"dataframe\">\n",
       "  <thead>\n",
       "    <tr style=\"text-align: right;\">\n",
       "      <th></th>\n",
       "      <th>antecedents</th>\n",
       "      <th>consequents</th>\n",
       "      <th>antecedent support</th>\n",
       "      <th>consequent support</th>\n",
       "      <th>support</th>\n",
       "      <th>confidence</th>\n",
       "      <th>lift</th>\n",
       "      <th>leverage</th>\n",
       "      <th>conviction</th>\n",
       "    </tr>\n",
       "  </thead>\n",
       "  <tbody>\n",
       "    <tr>\n",
       "      <th>518</th>\n",
       "      <td>(bigluggage, 2person)</td>\n",
       "      <td>(unacc)</td>\n",
       "      <td>0.111111</td>\n",
       "      <td>0.700231</td>\n",
       "      <td>0.111111</td>\n",
       "      <td>1.0</td>\n",
       "      <td>1.428099</td>\n",
       "      <td>0.033308</td>\n",
       "      <td>inf</td>\n",
       "    </tr>\n",
       "    <tr>\n",
       "      <th>537</th>\n",
       "      <td>(2person, highsafety)</td>\n",
       "      <td>(unacc)</td>\n",
       "      <td>0.111111</td>\n",
       "      <td>0.700231</td>\n",
       "      <td>0.111111</td>\n",
       "      <td>1.0</td>\n",
       "      <td>1.428099</td>\n",
       "      <td>0.033308</td>\n",
       "      <td>inf</td>\n",
       "    </tr>\n",
       "    <tr>\n",
       "      <th>554</th>\n",
       "      <td>(2person, lowsafety)</td>\n",
       "      <td>(unacc)</td>\n",
       "      <td>0.111111</td>\n",
       "      <td>0.700231</td>\n",
       "      <td>0.111111</td>\n",
       "      <td>1.0</td>\n",
       "      <td>1.428099</td>\n",
       "      <td>0.033308</td>\n",
       "      <td>inf</td>\n",
       "    </tr>\n",
       "  </tbody>\n",
       "</table>\n",
       "</div>"
      ],
      "text/plain": [
       "               antecedents consequents  antecedent support  \\\n",
       "518  (bigluggage, 2person)     (unacc)            0.111111   \n",
       "537  (2person, highsafety)     (unacc)            0.111111   \n",
       "554   (2person, lowsafety)     (unacc)            0.111111   \n",
       "\n",
       "     consequent support   support  confidence      lift  leverage  conviction  \n",
       "518            0.700231  0.111111         1.0  1.428099  0.033308         inf  \n",
       "537            0.700231  0.111111         1.0  1.428099  0.033308         inf  \n",
       "554            0.700231  0.111111         1.0  1.428099  0.033308         inf  "
      ]
     },
     "execution_count": 13,
     "metadata": {},
     "output_type": "execute_result"
    }
   ],
   "source": [
    "# top 3 double item frequent item sets\n",
    "rules.loc[rules[\"antecedents\"].astype(str).str.count(\",\") == 1].head(3)"
   ]
  },
  {
   "cell_type": "markdown",
   "id": "north-pennsylvania",
   "metadata": {},
   "source": [
    "These three rules with three items reveal two person vehicles are still associated with unacceptable ratings. The confidence level for each rules is 1.0. The biggest issue with two person vehicles is room capicity and safety to a degree."
   ]
  },
  {
   "cell_type": "markdown",
   "id": "lesser-livestock",
   "metadata": {},
   "source": [
    "### K-Means Clustering"
   ]
  },
  {
   "cell_type": "markdown",
   "id": "seeing-philip",
   "metadata": {},
   "source": [
    "This section will include a K-Means clustering classification algorithm. The goal is to find patterns around unacceptable ratings and non-unacceptable ratings."
   ]
  },
  {
   "cell_type": "code",
   "execution_count": 14,
   "id": "earned-trigger",
   "metadata": {},
   "outputs": [],
   "source": [
    "# converting categorical variable to numerical\n",
    "from sklearn import preprocessing\n",
    "\n",
    "label = preprocessing.LabelEncoder()\n",
    "X = pd.DataFrame() \n",
    "\n",
    "for i in car_data.columns :\n",
    "  X[i] = label.fit_transform(car_data[i])\n",
    "\n",
    "y = X.Rating\n",
    "X = X.iloc[:, :-1]"
   ]
  },
  {
   "cell_type": "code",
   "execution_count": 15,
   "id": "structured-airline",
   "metadata": {},
   "outputs": [
    {
     "data": {
      "text/html": [
       "<div>\n",
       "<style scoped>\n",
       "    .dataframe tbody tr th:only-of-type {\n",
       "        vertical-align: middle;\n",
       "    }\n",
       "\n",
       "    .dataframe tbody tr th {\n",
       "        vertical-align: top;\n",
       "    }\n",
       "\n",
       "    .dataframe thead th {\n",
       "        text-align: right;\n",
       "    }\n",
       "</style>\n",
       "<table border=\"1\" class=\"dataframe\">\n",
       "  <thead>\n",
       "    <tr style=\"text-align: right;\">\n",
       "      <th></th>\n",
       "      <th>Purchase Price</th>\n",
       "      <th>Maintenance Costs</th>\n",
       "      <th>Doors</th>\n",
       "      <th>Persons</th>\n",
       "      <th>Luggae Boot</th>\n",
       "      <th>Safety</th>\n",
       "    </tr>\n",
       "  </thead>\n",
       "  <tbody>\n",
       "    <tr>\n",
       "      <th>0</th>\n",
       "      <td>3</td>\n",
       "      <td>3</td>\n",
       "      <td>1</td>\n",
       "      <td>0</td>\n",
       "      <td>0</td>\n",
       "      <td>2</td>\n",
       "    </tr>\n",
       "    <tr>\n",
       "      <th>1</th>\n",
       "      <td>2</td>\n",
       "      <td>2</td>\n",
       "      <td>2</td>\n",
       "      <td>2</td>\n",
       "      <td>1</td>\n",
       "      <td>2</td>\n",
       "    </tr>\n",
       "    <tr>\n",
       "      <th>2</th>\n",
       "      <td>1</td>\n",
       "      <td>0</td>\n",
       "      <td>0</td>\n",
       "      <td>1</td>\n",
       "      <td>0</td>\n",
       "      <td>1</td>\n",
       "    </tr>\n",
       "    <tr>\n",
       "      <th>3</th>\n",
       "      <td>0</td>\n",
       "      <td>0</td>\n",
       "      <td>1</td>\n",
       "      <td>0</td>\n",
       "      <td>0</td>\n",
       "      <td>2</td>\n",
       "    </tr>\n",
       "    <tr>\n",
       "      <th>4</th>\n",
       "      <td>1</td>\n",
       "      <td>0</td>\n",
       "      <td>0</td>\n",
       "      <td>2</td>\n",
       "      <td>1</td>\n",
       "      <td>2</td>\n",
       "    </tr>\n",
       "  </tbody>\n",
       "</table>\n",
       "</div>"
      ],
      "text/plain": [
       "   Purchase Price  Maintenance Costs  Doors  Persons  Luggae Boot  Safety\n",
       "0               3                  3      1        0            0       2\n",
       "1               2                  2      2        2            1       2\n",
       "2               1                  0      0        1            0       1\n",
       "3               0                  0      1        0            0       2\n",
       "4               1                  0      0        2            1       2"
      ]
     },
     "execution_count": 15,
     "metadata": {},
     "output_type": "execute_result"
    }
   ],
   "source": [
    "# first five rows\n",
    "X.head()"
   ]
  },
  {
   "cell_type": "markdown",
   "id": "phantom-bulletin",
   "metadata": {},
   "source": [
    "I decided to only include a number of clusters range from 1-7 to minimize overfitting the data. It will also help from a computational performance aspect."
   ]
  },
  {
   "cell_type": "code",
   "execution_count": 16,
   "id": "altered-ivory",
   "metadata": {},
   "outputs": [
    {
     "data": {
      "text/plain": [
       "GridSearchCV(cv=5, estimator=KMeans(),\n",
       "             param_grid={'n_clusters': array([1, 2, 3, 4, 5, 6])})"
      ]
     },
     "execution_count": 16,
     "metadata": {},
     "output_type": "execute_result"
    }
   ],
   "source": [
    "# importing GridSearchCv for parameter tuning\n",
    "from sklearn.model_selection import GridSearchCV\n",
    "\n",
    "# instance of knn classifier\n",
    "from sklearn.cluster import KMeans\n",
    "kmeans = KMeans()\n",
    "\n",
    "# grid parameter values\n",
    "params = {\n",
    "    \"n_clusters\": np.arange(1, 7)\n",
    "}\n",
    "\n",
    "# testing all values in the model\n",
    "grid = GridSearchCV(kmeans, params, cv=5)\n",
    "\n",
    "# fitting model to data\n",
    "grid.fit(X)"
   ]
  },
  {
   "cell_type": "code",
   "execution_count": 17,
   "id": "innocent-associate",
   "metadata": {},
   "outputs": [
    {
     "data": {
      "text/html": [
       "<div>\n",
       "<style scoped>\n",
       "    .dataframe tbody tr th:only-of-type {\n",
       "        vertical-align: middle;\n",
       "    }\n",
       "\n",
       "    .dataframe tbody tr th {\n",
       "        vertical-align: top;\n",
       "    }\n",
       "\n",
       "    .dataframe thead th {\n",
       "        text-align: right;\n",
       "    }\n",
       "</style>\n",
       "<table border=\"1\" class=\"dataframe\">\n",
       "  <thead>\n",
       "    <tr style=\"text-align: right;\">\n",
       "      <th></th>\n",
       "      <th>mean_fit_time</th>\n",
       "      <th>std_fit_time</th>\n",
       "      <th>mean_score_time</th>\n",
       "      <th>std_score_time</th>\n",
       "      <th>param_n_clusters</th>\n",
       "      <th>params</th>\n",
       "      <th>split0_test_score</th>\n",
       "      <th>split1_test_score</th>\n",
       "      <th>split2_test_score</th>\n",
       "      <th>split3_test_score</th>\n",
       "      <th>split4_test_score</th>\n",
       "      <th>mean_test_score</th>\n",
       "      <th>std_test_score</th>\n",
       "      <th>rank_test_score</th>\n",
       "    </tr>\n",
       "  </thead>\n",
       "  <tbody>\n",
       "    <tr>\n",
       "      <th>0</th>\n",
       "      <td>0.075198</td>\n",
       "      <td>0.022835</td>\n",
       "      <td>0.002396</td>\n",
       "      <td>0.000491</td>\n",
       "      <td>6</td>\n",
       "      <td>{'n_clusters': 6}</td>\n",
       "      <td>-1123.397796</td>\n",
       "      <td>-1113.676593</td>\n",
       "      <td>-1122.795674</td>\n",
       "      <td>-1098.513839</td>\n",
       "      <td>-1112.500669</td>\n",
       "      <td>-1114.176914</td>\n",
       "      <td>9.029947</td>\n",
       "      <td>1</td>\n",
       "    </tr>\n",
       "    <tr>\n",
       "      <th>1</th>\n",
       "      <td>0.058774</td>\n",
       "      <td>0.009924</td>\n",
       "      <td>0.002263</td>\n",
       "      <td>0.001104</td>\n",
       "      <td>5</td>\n",
       "      <td>{'n_clusters': 5}</td>\n",
       "      <td>-1210.670164</td>\n",
       "      <td>-1223.196181</td>\n",
       "      <td>-1205.124969</td>\n",
       "      <td>-1201.691650</td>\n",
       "      <td>-1214.884378</td>\n",
       "      <td>-1211.113468</td>\n",
       "      <td>7.550378</td>\n",
       "      <td>2</td>\n",
       "    </tr>\n",
       "    <tr>\n",
       "      <th>2</th>\n",
       "      <td>0.057845</td>\n",
       "      <td>0.012181</td>\n",
       "      <td>0.002593</td>\n",
       "      <td>0.000489</td>\n",
       "      <td>4</td>\n",
       "      <td>{'n_clusters': 4}</td>\n",
       "      <td>-1304.575671</td>\n",
       "      <td>-1318.406368</td>\n",
       "      <td>-1289.004579</td>\n",
       "      <td>-1299.773844</td>\n",
       "      <td>-1307.011339</td>\n",
       "      <td>-1303.754360</td>\n",
       "      <td>9.585034</td>\n",
       "      <td>3</td>\n",
       "    </tr>\n",
       "    <tr>\n",
       "      <th>3</th>\n",
       "      <td>0.060637</td>\n",
       "      <td>0.004523</td>\n",
       "      <td>0.002993</td>\n",
       "      <td>0.000632</td>\n",
       "      <td>3</td>\n",
       "      <td>{'n_clusters': 3}</td>\n",
       "      <td>-1465.289463</td>\n",
       "      <td>-1461.174332</td>\n",
       "      <td>-1450.622977</td>\n",
       "      <td>-1454.671109</td>\n",
       "      <td>-1469.513631</td>\n",
       "      <td>-1460.254302</td>\n",
       "      <td>6.868318</td>\n",
       "      <td>4</td>\n",
       "    </tr>\n",
       "    <tr>\n",
       "      <th>4</th>\n",
       "      <td>0.034701</td>\n",
       "      <td>0.008309</td>\n",
       "      <td>0.002700</td>\n",
       "      <td>0.000987</td>\n",
       "      <td>2</td>\n",
       "      <td>{'n_clusters': 2}</td>\n",
       "      <td>-1658.908039</td>\n",
       "      <td>-1654.554509</td>\n",
       "      <td>-1644.837189</td>\n",
       "      <td>-1639.367901</td>\n",
       "      <td>-1664.430065</td>\n",
       "      <td>-1652.419541</td>\n",
       "      <td>9.151489</td>\n",
       "      <td>5</td>\n",
       "    </tr>\n",
       "  </tbody>\n",
       "</table>\n",
       "</div>"
      ],
      "text/plain": [
       "   mean_fit_time  std_fit_time  mean_score_time  std_score_time  \\\n",
       "0       0.075198      0.022835         0.002396        0.000491   \n",
       "1       0.058774      0.009924         0.002263        0.001104   \n",
       "2       0.057845      0.012181         0.002593        0.000489   \n",
       "3       0.060637      0.004523         0.002993        0.000632   \n",
       "4       0.034701      0.008309         0.002700        0.000987   \n",
       "\n",
       "  param_n_clusters             params  split0_test_score  split1_test_score  \\\n",
       "0                6  {'n_clusters': 6}       -1123.397796       -1113.676593   \n",
       "1                5  {'n_clusters': 5}       -1210.670164       -1223.196181   \n",
       "2                4  {'n_clusters': 4}       -1304.575671       -1318.406368   \n",
       "3                3  {'n_clusters': 3}       -1465.289463       -1461.174332   \n",
       "4                2  {'n_clusters': 2}       -1658.908039       -1654.554509   \n",
       "\n",
       "   split2_test_score  split3_test_score  split4_test_score  mean_test_score  \\\n",
       "0       -1122.795674       -1098.513839       -1112.500669     -1114.176914   \n",
       "1       -1205.124969       -1201.691650       -1214.884378     -1211.113468   \n",
       "2       -1289.004579       -1299.773844       -1307.011339     -1303.754360   \n",
       "3       -1450.622977       -1454.671109       -1469.513631     -1460.254302   \n",
       "4       -1644.837189       -1639.367901       -1664.430065     -1652.419541   \n",
       "\n",
       "   std_test_score  rank_test_score  \n",
       "0        9.029947                1  \n",
       "1        7.550378                2  \n",
       "2        9.585034                3  \n",
       "3        6.868318                4  \n",
       "4        9.151489                5  "
      ]
     },
     "execution_count": 17,
     "metadata": {},
     "output_type": "execute_result"
    }
   ],
   "source": [
    "# displaying grid search results\n",
    "results = pd.DataFrame(grid.cv_results_).sort_values(\"rank_test_score\").reset_index(drop=True)\n",
    "results[:5]"
   ]
  },
  {
   "cell_type": "markdown",
   "id": "prescription-course",
   "metadata": {},
   "source": [
    "Six clusters returns the highest mean distance test score **(-1117.90)**. I use this model to predict target values."
   ]
  },
  {
   "cell_type": "code",
   "execution_count": 18,
   "id": "crucial-decline",
   "metadata": {},
   "outputs": [
    {
     "data": {
      "text/plain": [
       "0    0.203125\n",
       "1    0.203125\n",
       "2    0.156250\n",
       "3    0.140625\n",
       "4    0.140625\n",
       "5    0.156250\n",
       "dtype: float64"
      ]
     },
     "execution_count": 18,
     "metadata": {},
     "output_type": "execute_result"
    }
   ],
   "source": [
    "# predicting target values\n",
    "pred_target = grid.predict(X)\n",
    "pd.Series(pred_target).value_counts(normalize = True).sort_index()"
   ]
  },
  {
   "cell_type": "markdown",
   "id": "familiar-eleven",
   "metadata": {},
   "source": [
    "The clusters have similar relative frequencies."
   ]
  },
  {
   "cell_type": "markdown",
   "id": "secret-mandate",
   "metadata": {},
   "source": [
    "It will be difficult to visualize clusters due to the high number of categorical features. Even using methods like PCA might not be beneficial. A possible solution is to use stripplots with the rating as a hue. Reducing the number of unique values in the rating column to \"unacceptable\" and \"acceptable\" will make it easier to find meaningful insights."
   ]
  },
  {
   "cell_type": "code",
   "execution_count": 19,
   "id": "appointed-herald",
   "metadata": {},
   "outputs": [
    {
     "data": {
      "text/html": [
       "<div>\n",
       "<style scoped>\n",
       "    .dataframe tbody tr th:only-of-type {\n",
       "        vertical-align: middle;\n",
       "    }\n",
       "\n",
       "    .dataframe tbody tr th {\n",
       "        vertical-align: top;\n",
       "    }\n",
       "\n",
       "    .dataframe thead th {\n",
       "        text-align: right;\n",
       "    }\n",
       "</style>\n",
       "<table border=\"1\" class=\"dataframe\">\n",
       "  <thead>\n",
       "    <tr style=\"text-align: right;\">\n",
       "      <th></th>\n",
       "      <th>Purchase Price</th>\n",
       "      <th>Maintenance Costs</th>\n",
       "      <th>Doors</th>\n",
       "      <th>Persons</th>\n",
       "      <th>Luggae Boot</th>\n",
       "      <th>Safety</th>\n",
       "      <th>New Rating</th>\n",
       "      <th>Cluster</th>\n",
       "    </tr>\n",
       "  </thead>\n",
       "  <tbody>\n",
       "    <tr>\n",
       "      <th>0</th>\n",
       "      <td>3</td>\n",
       "      <td>3</td>\n",
       "      <td>1</td>\n",
       "      <td>0</td>\n",
       "      <td>0</td>\n",
       "      <td>2</td>\n",
       "      <td>unacc</td>\n",
       "      <td>4</td>\n",
       "    </tr>\n",
       "    <tr>\n",
       "      <th>1</th>\n",
       "      <td>2</td>\n",
       "      <td>2</td>\n",
       "      <td>2</td>\n",
       "      <td>2</td>\n",
       "      <td>1</td>\n",
       "      <td>2</td>\n",
       "      <td>acc</td>\n",
       "      <td>5</td>\n",
       "    </tr>\n",
       "    <tr>\n",
       "      <th>2</th>\n",
       "      <td>1</td>\n",
       "      <td>0</td>\n",
       "      <td>0</td>\n",
       "      <td>1</td>\n",
       "      <td>0</td>\n",
       "      <td>1</td>\n",
       "      <td>unacc</td>\n",
       "      <td>0</td>\n",
       "    </tr>\n",
       "    <tr>\n",
       "      <th>3</th>\n",
       "      <td>0</td>\n",
       "      <td>0</td>\n",
       "      <td>1</td>\n",
       "      <td>0</td>\n",
       "      <td>0</td>\n",
       "      <td>2</td>\n",
       "      <td>unacc</td>\n",
       "      <td>0</td>\n",
       "    </tr>\n",
       "    <tr>\n",
       "      <th>4</th>\n",
       "      <td>1</td>\n",
       "      <td>0</td>\n",
       "      <td>0</td>\n",
       "      <td>2</td>\n",
       "      <td>1</td>\n",
       "      <td>2</td>\n",
       "      <td>acc</td>\n",
       "      <td>0</td>\n",
       "    </tr>\n",
       "    <tr>\n",
       "      <th>5</th>\n",
       "      <td>2</td>\n",
       "      <td>1</td>\n",
       "      <td>1</td>\n",
       "      <td>2</td>\n",
       "      <td>0</td>\n",
       "      <td>2</td>\n",
       "      <td>acc</td>\n",
       "      <td>3</td>\n",
       "    </tr>\n",
       "    <tr>\n",
       "      <th>6</th>\n",
       "      <td>0</td>\n",
       "      <td>2</td>\n",
       "      <td>3</td>\n",
       "      <td>1</td>\n",
       "      <td>2</td>\n",
       "      <td>1</td>\n",
       "      <td>unacc</td>\n",
       "      <td>2</td>\n",
       "    </tr>\n",
       "    <tr>\n",
       "      <th>7</th>\n",
       "      <td>3</td>\n",
       "      <td>1</td>\n",
       "      <td>0</td>\n",
       "      <td>1</td>\n",
       "      <td>1</td>\n",
       "      <td>1</td>\n",
       "      <td>unacc</td>\n",
       "      <td>3</td>\n",
       "    </tr>\n",
       "    <tr>\n",
       "      <th>8</th>\n",
       "      <td>0</td>\n",
       "      <td>2</td>\n",
       "      <td>1</td>\n",
       "      <td>0</td>\n",
       "      <td>2</td>\n",
       "      <td>0</td>\n",
       "      <td>unacc</td>\n",
       "      <td>0</td>\n",
       "    </tr>\n",
       "    <tr>\n",
       "      <th>9</th>\n",
       "      <td>3</td>\n",
       "      <td>3</td>\n",
       "      <td>3</td>\n",
       "      <td>1</td>\n",
       "      <td>0</td>\n",
       "      <td>0</td>\n",
       "      <td>unacc</td>\n",
       "      <td>5</td>\n",
       "    </tr>\n",
       "  </tbody>\n",
       "</table>\n",
       "</div>"
      ],
      "text/plain": [
       "   Purchase Price  Maintenance Costs  Doors  Persons  Luggae Boot  Safety  \\\n",
       "0               3                  3      1        0            0       2   \n",
       "1               2                  2      2        2            1       2   \n",
       "2               1                  0      0        1            0       1   \n",
       "3               0                  0      1        0            0       2   \n",
       "4               1                  0      0        2            1       2   \n",
       "5               2                  1      1        2            0       2   \n",
       "6               0                  2      3        1            2       1   \n",
       "7               3                  1      0        1            1       1   \n",
       "8               0                  2      1        0            2       0   \n",
       "9               3                  3      3        1            0       0   \n",
       "\n",
       "  New Rating  Cluster  \n",
       "0      unacc        4  \n",
       "1        acc        5  \n",
       "2      unacc        0  \n",
       "3      unacc        0  \n",
       "4        acc        0  \n",
       "5        acc        3  \n",
       "6      unacc        2  \n",
       "7      unacc        3  \n",
       "8      unacc        0  \n",
       "9      unacc        5  "
      ]
     },
     "execution_count": 19,
     "metadata": {},
     "output_type": "execute_result"
    }
   ],
   "source": [
    "# creating new dataframe with features and predicted targets\n",
    "df_results = X.copy()\n",
    "df_results['New Rating'] = car_data['Rating'].apply(lambda x: \"unacc\" if x == \"unacc\" else 'acc')\n",
    "df_results[\"Cluster\"] = pred_target\n",
    "df_results[:10]"
   ]
  },
  {
   "cell_type": "code",
   "execution_count": 20,
   "id": "chicken-massachusetts",
   "metadata": {},
   "outputs": [
    {
     "data": {
      "image/png": "[encoded data removed]",
      "text/plain": [
       "<Figure size 576x288 with 1 Axes>"
      ]
     },
     "metadata": {},
     "output_type": "display_data"
    }
   ],
   "source": [
    "# using swarm plots to visualize clusters\n",
    "plt.figure(figsize=(8,4))\n",
    "sns.stripplot(x=\"Cluster\", y=\"Purchase Price\", hue=\"New Rating\", palette=\"hls\", jitter=True, data=df_results);\n",
    "plt.legend(facecolor=\"white\", bbox_to_anchor=(1.2, 1))\n",
    "plt.show()"
   ]
  },
  {
   "cell_type": "markdown",
   "id": "demographic-minute",
   "metadata": {},
   "source": [
    "Clusters 0-2 have more acceptable car ratings in low-medium price range. Clusters 3-5 have more acceptable car ratings in the medium-high range."
   ]
  },
  {
   "cell_type": "code",
   "execution_count": 21,
   "id": "cognitive-arkansas",
   "metadata": {},
   "outputs": [
    {
     "data": {
      "image/png": "[encoded data removed]",
      "text/plain": [
       "<Figure size 576x288 with 1 Axes>"
      ]
     },
     "metadata": {},
     "output_type": "display_data"
    }
   ],
   "source": [
    "# using swarm plots to visualize clusters\n",
    "plt.figure(figsize=(8,4))\n",
    "sns.stripplot(x=\"Cluster\", y=\"Maintenance Costs\", hue=\"New Rating\", palette=\"hls\", jitter=True, data=df_results);\n",
    "plt.legend(facecolor=\"white\", bbox_to_anchor=(1.2, 1))\n",
    "plt.show()"
   ]
  },
  {
   "cell_type": "markdown",
   "id": "fixed-flood",
   "metadata": {},
   "source": [
    "Clusters 0-1 and 3 have more acceptable car ratings due to low-high maintenance costs. Clusters 4-5 have fewer acceptable car ratings because most vehicles have high-very high maintenance costs. "
   ]
  },
  {
   "cell_type": "code",
   "execution_count": 22,
   "id": "applied-registrar",
   "metadata": {},
   "outputs": [
    {
     "data": {
      "image/png": "[encoded data removed]",
      "text/plain": [
       "<Figure size 576x288 with 1 Axes>"
      ]
     },
     "metadata": {},
     "output_type": "display_data"
    }
   ],
   "source": [
    "# using swarm plots to visualize clusters\n",
    "plt.figure(figsize=(8,4))\n",
    "sns.stripplot(x=\"Cluster\", y=\"Doors\", hue=\"New Rating\", palette=\"hls\", jitter=True, data=df_results);\n",
    "plt.legend(facecolor=\"white\", bbox_to_anchor=(1.2, 1))\n",
    "plt.show()"
   ]
  },
  {
   "cell_type": "markdown",
   "id": "threatened-genetics",
   "metadata": {},
   "source": [
    "The doors clusters do not indicate any useful insights. The patterns seem to be all over the place."
   ]
  },
  {
   "cell_type": "code",
   "execution_count": 23,
   "id": "talented-fever",
   "metadata": {},
   "outputs": [
    {
     "data": {
      "image/png": "[encoded data removed]",
      "text/plain": [
       "<Figure size 576x288 with 1 Axes>"
      ]
     },
     "metadata": {},
     "output_type": "display_data"
    }
   ],
   "source": [
    "# using swarm plots to visualize clusters\n",
    "plt.figure(figsize=(8,4))\n",
    "sns.stripplot(x=\"Cluster\", y=\"Persons\", hue=\"New Rating\", palette=\"hls\", jitter=True, data=df_results);\n",
    "plt.legend(facecolor=\"white\", bbox_to_anchor=(1.2, 1))\n",
    "plt.show()"
   ]
  },
  {
   "cell_type": "markdown",
   "id": "noted-tuition",
   "metadata": {},
   "source": [
    "All clusters have a high number of unacceptable car ratings for two person vehicles. On the contrast, all of them have a good amount of vehicles with acceptable car ratings for four person or more than four person vehicles."
   ]
  },
  {
   "cell_type": "code",
   "execution_count": 24,
   "id": "armed-stylus",
   "metadata": {},
   "outputs": [
    {
     "data": {
      "image/png": "[encoded data removed]",
      "text/plain": [
       "<Figure size 576x288 with 1 Axes>"
      ]
     },
     "metadata": {},
     "output_type": "display_data"
    }
   ],
   "source": [
    "# using swarm plots to visualize clusters\n",
    "plt.figure(figsize=(8,4))\n",
    "sns.stripplot(x=\"Cluster\", y=\"Luggae Boot\", hue=\"New Rating\", palette=\"hls\", jitter=True, data=df_results);\n",
    "plt.legend(facecolor=\"white\", bbox_to_anchor=(1.2, 1))\n",
    "plt.show()"
   ]
  },
  {
   "cell_type": "markdown",
   "id": "veterinary-norway",
   "metadata": {},
   "source": [
    "The first two cluster have more acceptable car ratings for low-medium luggage vehicles."
   ]
  },
  {
   "cell_type": "code",
   "execution_count": 25,
   "id": "relative-territory",
   "metadata": {},
   "outputs": [
    {
     "data": {
      "image/png": "[encoded data removed]",
      "text/plain": [
       "<Figure size 576x288 with 1 Axes>"
      ]
     },
     "metadata": {},
     "output_type": "display_data"
    }
   ],
   "source": [
    "# using swarm plots to visualize clusters\n",
    "plt.figure(figsize=(8,4))\n",
    "sns.stripplot(x=\"Cluster\", y=\"Safety\", hue=\"New Rating\", palette=\"hls\", jitter=True, data=df_results);\n",
    "plt.legend(facecolor=\"white\", bbox_to_anchor=(1.2, 1))\n",
    "plt.show()"
   ]
  },
  {
   "cell_type": "markdown",
   "id": "devoted-boards",
   "metadata": {},
   "source": [
    "Cluster 0-2 have a lot of acceptable car ratings for high safe vehicles. However, there are many acceptable car ratings for low safe vehicles across all cluster. I wonder if their associated with another feature we have seen?"
   ]
  },
  {
   "cell_type": "markdown",
   "id": "treated-central",
   "metadata": {},
   "source": [
    "Two features that might be interesting from a business perspective are purchase price and maintenance costs. The purchase price variable has an even number of clusters with a high amount of acceptable car ratings in different price ranges. Clusters 0-2 have many acceptable car ratings from low-mid purchase prices, while clusters 3-5 have many from high-very high purchase prices. For maintenance costs, clusters with low-medium costs have more acceptable car ratings. These feature patterns are easy to identify separately using stripplots."
   ]
  },
  {
   "cell_type": "markdown",
   "id": "fixed-america",
   "metadata": {},
   "source": [
    "### K-Nearest Neighbors Classification"
   ]
  },
  {
   "cell_type": "markdown",
   "id": "sporting-flesh",
   "metadata": {},
   "source": [
    "The objective with a K-Nearest Neighbor classifier is to determine accuracy, precision, recall, and f1 scores for the target **\"ratings\"**."
   ]
  },
  {
   "cell_type": "code",
   "execution_count": 26,
   "id": "sticky-gardening",
   "metadata": {},
   "outputs": [],
   "source": [
    "# importing scikit-learn packages for KNeighbors classifier model\n",
    "from sklearn.neighbors import KNeighborsClassifier\n",
    "from sklearn.model_selection import train_test_split\n",
    "from sklearn.impute import SimpleImputer\n",
    "from sklearn.preprocessing import OneHotEncoder\n",
    "from sklearn.compose import make_column_transformer\n",
    "from sklearn.pipeline import make_pipeline"
   ]
  },
  {
   "cell_type": "code",
   "execution_count": 27,
   "id": "white-chapel",
   "metadata": {},
   "outputs": [
    {
     "name": "stdout",
     "output_type": "stream",
     "text": [
      "(1728, 6)\n",
      "(1728,)\n"
     ]
    }
   ],
   "source": [
    "# features\n",
    "X = car_data.iloc[:, :-1]\n",
    "print(X.shape)\n",
    "\n",
    "# target\n",
    "y = car_data.Rating\n",
    "print(y.shape)"
   ]
  },
  {
   "cell_type": "markdown",
   "id": "composite-hundred",
   "metadata": {},
   "source": [
    "Splitting the data into traning and testing for a final holdout validation set.\n",
    "20% will be used for the testing set."
   ]
  },
  {
   "cell_type": "code",
   "execution_count": 28,
   "id": "arbitrary-lincoln",
   "metadata": {},
   "outputs": [
    {
     "name": "stdout",
     "output_type": "stream",
     "text": [
      "X_train: 1382 X_test: 346 y_train: 1382 y_test: 346\n"
     ]
    }
   ],
   "source": [
    "# splitting the data using K-Folds Cross Validation\n",
    "X_train, X_test, y_train, y_test=train_test_split(X, y, test_size=0.2, random_state=1, shuffle=True)\n",
    "print(\"X_train:\", len(X_train), \"X_test:\", len(X_test),\n",
    "      \"y_train:\", len(X_train), \"y_test:\", len(X_test))"
   ]
  },
  {
   "cell_type": "code",
   "execution_count": 29,
   "id": "responsible-julian",
   "metadata": {},
   "outputs": [],
   "source": [
    "# creating Simple Imputer, OneHot Encoder, and Standard Scaler objects\n",
    "constant_imp = SimpleImputer(strategy=\"most_frequent\")\n",
    "ohe = OneHotEncoder(handle_unknown=\"ignore\")"
   ]
  },
  {
   "cell_type": "code",
   "execution_count": 30,
   "id": "decimal-somalia",
   "metadata": {},
   "outputs": [],
   "source": [
    "# creating pipeline for categorical variable transformations\n",
    "imp_ohe = make_pipeline(constant_imp, ohe)"
   ]
  },
  {
   "cell_type": "code",
   "execution_count": 31,
   "id": "palestinian-fundamentals",
   "metadata": {},
   "outputs": [],
   "source": [
    "# transforming variables using a column transformer\n",
    "ct_imputer = make_column_transformer(\n",
    "    (imp_ohe, X.columns)\n",
    ")"
   ]
  },
  {
   "cell_type": "code",
   "execution_count": 32,
   "id": "actual-hopkins",
   "metadata": {},
   "outputs": [],
   "source": [
    "# creating an instance of knn classifier\n",
    "knn = KNeighborsClassifier(n_neighbors=3)"
   ]
  },
  {
   "cell_type": "code",
   "execution_count": 33,
   "id": "italian-relation",
   "metadata": {},
   "outputs": [
    {
     "data": {
      "text/plain": [
       "Pipeline(steps=[('columntransformer',\n",
       "                 ColumnTransformer(transformers=[('pipeline',\n",
       "                                                  Pipeline(steps=[('simpleimputer',\n",
       "                                                                   SimpleImputer(strategy='most_frequent')),\n",
       "                                                                  ('onehotencoder',\n",
       "                                                                   OneHotEncoder(handle_unknown='ignore'))]),\n",
       "                                                  Index(['Purchase Price', 'Maintenance Costs', 'Doors', 'Persons',\n",
       "       'Luggae Boot', 'Safety'],\n",
       "      dtype='object'))])),\n",
       "                ('kneighborsclassifier', KNeighborsClassifier(n_neighbors=3))])"
      ]
     },
     "execution_count": 33,
     "metadata": {},
     "output_type": "execute_result"
    }
   ],
   "source": [
    "# creating a pipeline\n",
    "pipe = make_pipeline(ct_imputer, knn)\n",
    "pipe.fit(X_train, y_train)"
   ]
  },
  {
   "cell_type": "code",
   "execution_count": 34,
   "id": "opened-bleeding",
   "metadata": {},
   "outputs": [
    {
     "data": {
      "text/plain": [
       "0.635"
      ]
     },
     "execution_count": 34,
     "metadata": {},
     "output_type": "execute_result"
    }
   ],
   "source": [
    "# using cross val score function to test model accuracy\n",
    "from sklearn.model_selection import cross_val_score\n",
    "round(cross_val_score(pipe, X, y, cv=5, scoring=\"f1_macro\").mean(), 3)"
   ]
  },
  {
   "cell_type": "code",
   "execution_count": 35,
   "id": "integral-sleeve",
   "metadata": {},
   "outputs": [
    {
     "data": {
      "text/plain": [
       "dict_keys(['columntransformer', 'kneighborsclassifier'])"
      ]
     },
     "execution_count": 35,
     "metadata": {},
     "output_type": "execute_result"
    }
   ],
   "source": [
    "# retrieving named steps in the pipeline\n",
    "pipe.named_steps.keys()"
   ]
  },
  {
   "cell_type": "markdown",
   "id": "balanced-miami",
   "metadata": {},
   "source": [
    "Two important parameters than can use tuning are:\n",
    "- number of neighbors\n",
    "- weights  \n",
    "\n",
    "The max number of neighbors will be 25. Weights can only uniform or distance measurements."
   ]
  },
  {
   "cell_type": "code",
   "execution_count": 36,
   "id": "retained-hughes",
   "metadata": {},
   "outputs": [],
   "source": [
    "# grid parameter values\n",
    "params = {\n",
    "    \"kneighborsclassifier__n_neighbors\": np.arange(1, 25),\n",
    "    \"kneighborsclassifier__weights\": [\"uniform\", \"distance\"]\n",
    "}"
   ]
  },
  {
   "cell_type": "code",
   "execution_count": 37,
   "id": "dramatic-montana",
   "metadata": {},
   "outputs": [],
   "source": [
    "# creating grid search CV instance\n",
    "from sklearn.model_selection import GridSearchCV\n",
    "grid = GridSearchCV(pipe, params, cv=5, scoring=\"f1_macro\")\n",
    "grid.fit(X, y);"
   ]
  },
  {
   "cell_type": "code",
   "execution_count": 38,
   "id": "ordered-treaty",
   "metadata": {},
   "outputs": [
    {
     "data": {
      "text/html": [
       "<div>\n",
       "<style scoped>\n",
       "    .dataframe tbody tr th:only-of-type {\n",
       "        vertical-align: middle;\n",
       "    }\n",
       "\n",
       "    .dataframe tbody tr th {\n",
       "        vertical-align: top;\n",
       "    }\n",
       "\n",
       "    .dataframe thead th {\n",
       "        text-align: right;\n",
       "    }\n",
       "</style>\n",
       "<table border=\"1\" class=\"dataframe\">\n",
       "  <thead>\n",
       "    <tr style=\"text-align: right;\">\n",
       "      <th></th>\n",
       "      <th>mean_fit_time</th>\n",
       "      <th>std_fit_time</th>\n",
       "      <th>mean_score_time</th>\n",
       "      <th>std_score_time</th>\n",
       "      <th>param_kneighborsclassifier__n_neighbors</th>\n",
       "      <th>param_kneighborsclassifier__weights</th>\n",
       "      <th>params</th>\n",
       "      <th>split0_test_score</th>\n",
       "      <th>split1_test_score</th>\n",
       "      <th>split2_test_score</th>\n",
       "      <th>split3_test_score</th>\n",
       "      <th>split4_test_score</th>\n",
       "      <th>mean_test_score</th>\n",
       "      <th>std_test_score</th>\n",
       "      <th>rank_test_score</th>\n",
       "    </tr>\n",
       "  </thead>\n",
       "  <tbody>\n",
       "    <tr>\n",
       "      <th>0</th>\n",
       "      <td>0.006783</td>\n",
       "      <td>0.000399</td>\n",
       "      <td>0.018150</td>\n",
       "      <td>0.000400</td>\n",
       "      <td>12</td>\n",
       "      <td>distance</td>\n",
       "      <td>{'kneighborsclassifier__n_neighbors': 12, 'kne...</td>\n",
       "      <td>0.786045</td>\n",
       "      <td>0.737006</td>\n",
       "      <td>0.767225</td>\n",
       "      <td>0.844242</td>\n",
       "      <td>0.704614</td>\n",
       "      <td>0.767827</td>\n",
       "      <td>0.047153</td>\n",
       "      <td>1</td>\n",
       "    </tr>\n",
       "    <tr>\n",
       "      <th>1</th>\n",
       "      <td>0.006385</td>\n",
       "      <td>0.000486</td>\n",
       "      <td>0.018754</td>\n",
       "      <td>0.000403</td>\n",
       "      <td>13</td>\n",
       "      <td>distance</td>\n",
       "      <td>{'kneighborsclassifier__n_neighbors': 13, 'kne...</td>\n",
       "      <td>0.754643</td>\n",
       "      <td>0.790226</td>\n",
       "      <td>0.756598</td>\n",
       "      <td>0.791901</td>\n",
       "      <td>0.695353</td>\n",
       "      <td>0.757744</td>\n",
       "      <td>0.035001</td>\n",
       "      <td>2</td>\n",
       "    </tr>\n",
       "    <tr>\n",
       "      <th>2</th>\n",
       "      <td>0.006183</td>\n",
       "      <td>0.000398</td>\n",
       "      <td>0.025132</td>\n",
       "      <td>0.000399</td>\n",
       "      <td>12</td>\n",
       "      <td>uniform</td>\n",
       "      <td>{'kneighborsclassifier__n_neighbors': 12, 'kne...</td>\n",
       "      <td>0.771040</td>\n",
       "      <td>0.733430</td>\n",
       "      <td>0.774240</td>\n",
       "      <td>0.782398</td>\n",
       "      <td>0.704614</td>\n",
       "      <td>0.753145</td>\n",
       "      <td>0.029546</td>\n",
       "      <td>3</td>\n",
       "    </tr>\n",
       "    <tr>\n",
       "      <th>3</th>\n",
       "      <td>0.006377</td>\n",
       "      <td>0.000481</td>\n",
       "      <td>0.017952</td>\n",
       "      <td>0.000631</td>\n",
       "      <td>14</td>\n",
       "      <td>distance</td>\n",
       "      <td>{'kneighborsclassifier__n_neighbors': 14, 'kne...</td>\n",
       "      <td>0.752403</td>\n",
       "      <td>0.727921</td>\n",
       "      <td>0.752788</td>\n",
       "      <td>0.819498</td>\n",
       "      <td>0.677825</td>\n",
       "      <td>0.746087</td>\n",
       "      <td>0.045747</td>\n",
       "      <td>4</td>\n",
       "    </tr>\n",
       "    <tr>\n",
       "      <th>4</th>\n",
       "      <td>0.006779</td>\n",
       "      <td>0.000400</td>\n",
       "      <td>0.024846</td>\n",
       "      <td>0.000171</td>\n",
       "      <td>11</td>\n",
       "      <td>uniform</td>\n",
       "      <td>{'kneighborsclassifier__n_neighbors': 11, 'kne...</td>\n",
       "      <td>0.813639</td>\n",
       "      <td>0.717353</td>\n",
       "      <td>0.747684</td>\n",
       "      <td>0.803905</td>\n",
       "      <td>0.637493</td>\n",
       "      <td>0.744015</td>\n",
       "      <td>0.064040</td>\n",
       "      <td>5</td>\n",
       "    </tr>\n",
       "    <tr>\n",
       "      <th>5</th>\n",
       "      <td>0.006383</td>\n",
       "      <td>0.000489</td>\n",
       "      <td>0.018350</td>\n",
       "      <td>0.000489</td>\n",
       "      <td>11</td>\n",
       "      <td>distance</td>\n",
       "      <td>{'kneighborsclassifier__n_neighbors': 11, 'kne...</td>\n",
       "      <td>0.821604</td>\n",
       "      <td>0.714987</td>\n",
       "      <td>0.740662</td>\n",
       "      <td>0.803905</td>\n",
       "      <td>0.637493</td>\n",
       "      <td>0.743730</td>\n",
       "      <td>0.066041</td>\n",
       "      <td>6</td>\n",
       "    </tr>\n",
       "    <tr>\n",
       "      <th>6</th>\n",
       "      <td>0.006582</td>\n",
       "      <td>0.000489</td>\n",
       "      <td>0.018949</td>\n",
       "      <td>0.000002</td>\n",
       "      <td>16</td>\n",
       "      <td>distance</td>\n",
       "      <td>{'kneighborsclassifier__n_neighbors': 16, 'kne...</td>\n",
       "      <td>0.689194</td>\n",
       "      <td>0.714415</td>\n",
       "      <td>0.748547</td>\n",
       "      <td>0.850866</td>\n",
       "      <td>0.701585</td>\n",
       "      <td>0.740921</td>\n",
       "      <td>0.058432</td>\n",
       "      <td>7</td>\n",
       "    </tr>\n",
       "    <tr>\n",
       "      <th>7</th>\n",
       "      <td>0.006279</td>\n",
       "      <td>0.000397</td>\n",
       "      <td>0.027932</td>\n",
       "      <td>0.006993</td>\n",
       "      <td>10</td>\n",
       "      <td>uniform</td>\n",
       "      <td>{'kneighborsclassifier__n_neighbors': 10, 'kne...</td>\n",
       "      <td>0.731049</td>\n",
       "      <td>0.759185</td>\n",
       "      <td>0.733332</td>\n",
       "      <td>0.750825</td>\n",
       "      <td>0.708438</td>\n",
       "      <td>0.736566</td>\n",
       "      <td>0.017590</td>\n",
       "      <td>8</td>\n",
       "    </tr>\n",
       "    <tr>\n",
       "      <th>8</th>\n",
       "      <td>0.006582</td>\n",
       "      <td>0.000489</td>\n",
       "      <td>0.018351</td>\n",
       "      <td>0.000487</td>\n",
       "      <td>10</td>\n",
       "      <td>distance</td>\n",
       "      <td>{'kneighborsclassifier__n_neighbors': 10, 'kne...</td>\n",
       "      <td>0.728632</td>\n",
       "      <td>0.759185</td>\n",
       "      <td>0.733332</td>\n",
       "      <td>0.750825</td>\n",
       "      <td>0.708438</td>\n",
       "      <td>0.736082</td>\n",
       "      <td>0.017767</td>\n",
       "      <td>9</td>\n",
       "    </tr>\n",
       "    <tr>\n",
       "      <th>9</th>\n",
       "      <td>0.006781</td>\n",
       "      <td>0.000398</td>\n",
       "      <td>0.018159</td>\n",
       "      <td>0.000399</td>\n",
       "      <td>15</td>\n",
       "      <td>distance</td>\n",
       "      <td>{'kneighborsclassifier__n_neighbors': 15, 'kne...</td>\n",
       "      <td>0.719335</td>\n",
       "      <td>0.710883</td>\n",
       "      <td>0.753344</td>\n",
       "      <td>0.796121</td>\n",
       "      <td>0.678841</td>\n",
       "      <td>0.731705</td>\n",
       "      <td>0.039997</td>\n",
       "      <td>10</td>\n",
       "    </tr>\n",
       "  </tbody>\n",
       "</table>\n",
       "</div>"
      ],
      "text/plain": [
       "   mean_fit_time  std_fit_time  mean_score_time  std_score_time  \\\n",
       "0       0.006783      0.000399         0.018150        0.000400   \n",
       "1       0.006385      0.000486         0.018754        0.000403   \n",
       "2       0.006183      0.000398         0.025132        0.000399   \n",
       "3       0.006377      0.000481         0.017952        0.000631   \n",
       "4       0.006779      0.000400         0.024846        0.000171   \n",
       "5       0.006383      0.000489         0.018350        0.000489   \n",
       "6       0.006582      0.000489         0.018949        0.000002   \n",
       "7       0.006279      0.000397         0.027932        0.006993   \n",
       "8       0.006582      0.000489         0.018351        0.000487   \n",
       "9       0.006781      0.000398         0.018159        0.000399   \n",
       "\n",
       "  param_kneighborsclassifier__n_neighbors param_kneighborsclassifier__weights  \\\n",
       "0                                      12                            distance   \n",
       "1                                      13                            distance   \n",
       "2                                      12                             uniform   \n",
       "3                                      14                            distance   \n",
       "4                                      11                             uniform   \n",
       "5                                      11                            distance   \n",
       "6                                      16                            distance   \n",
       "7                                      10                             uniform   \n",
       "8                                      10                            distance   \n",
       "9                                      15                            distance   \n",
       "\n",
       "                                              params  split0_test_score  \\\n",
       "0  {'kneighborsclassifier__n_neighbors': 12, 'kne...           0.786045   \n",
       "1  {'kneighborsclassifier__n_neighbors': 13, 'kne...           0.754643   \n",
       "2  {'kneighborsclassifier__n_neighbors': 12, 'kne...           0.771040   \n",
       "3  {'kneighborsclassifier__n_neighbors': 14, 'kne...           0.752403   \n",
       "4  {'kneighborsclassifier__n_neighbors': 11, 'kne...           0.813639   \n",
       "5  {'kneighborsclassifier__n_neighbors': 11, 'kne...           0.821604   \n",
       "6  {'kneighborsclassifier__n_neighbors': 16, 'kne...           0.689194   \n",
       "7  {'kneighborsclassifier__n_neighbors': 10, 'kne...           0.731049   \n",
       "8  {'kneighborsclassifier__n_neighbors': 10, 'kne...           0.728632   \n",
       "9  {'kneighborsclassifier__n_neighbors': 15, 'kne...           0.719335   \n",
       "\n",
       "   split1_test_score  split2_test_score  split3_test_score  split4_test_score  \\\n",
       "0           0.737006           0.767225           0.844242           0.704614   \n",
       "1           0.790226           0.756598           0.791901           0.695353   \n",
       "2           0.733430           0.774240           0.782398           0.704614   \n",
       "3           0.727921           0.752788           0.819498           0.677825   \n",
       "4           0.717353           0.747684           0.803905           0.637493   \n",
       "5           0.714987           0.740662           0.803905           0.637493   \n",
       "6           0.714415           0.748547           0.850866           0.701585   \n",
       "7           0.759185           0.733332           0.750825           0.708438   \n",
       "8           0.759185           0.733332           0.750825           0.708438   \n",
       "9           0.710883           0.753344           0.796121           0.678841   \n",
       "\n",
       "   mean_test_score  std_test_score  rank_test_score  \n",
       "0         0.767827        0.047153                1  \n",
       "1         0.757744        0.035001                2  \n",
       "2         0.753145        0.029546                3  \n",
       "3         0.746087        0.045747                4  \n",
       "4         0.744015        0.064040                5  \n",
       "5         0.743730        0.066041                6  \n",
       "6         0.740921        0.058432                7  \n",
       "7         0.736566        0.017590                8  \n",
       "8         0.736082        0.017767                9  \n",
       "9         0.731705        0.039997               10  "
      ]
     },
     "execution_count": 38,
     "metadata": {},
     "output_type": "execute_result"
    }
   ],
   "source": [
    "# displaying grid search results\n",
    "results = pd.DataFrame(grid.cv_results_).sort_values(\"rank_test_score\").reset_index(drop=True)[:10]\n",
    "results"
   ]
  },
  {
   "cell_type": "markdown",
   "id": "patient-contrast",
   "metadata": {},
   "source": [
    "Twelve neighbors produces the highest mean f1 score (0.77) using distance as the weight."
   ]
  },
  {
   "cell_type": "code",
   "execution_count": 39,
   "id": "clinical-chassis",
   "metadata": {},
   "outputs": [],
   "source": [
    "# predicting target probabilities\n",
    "pred_probs = grid.predict_proba(X_test)"
   ]
  },
  {
   "cell_type": "code",
   "execution_count": 40,
   "id": "italian-attraction",
   "metadata": {},
   "outputs": [],
   "source": [
    "# predicting target\n",
    "pred_out = grid.predict(X_test)"
   ]
  },
  {
   "cell_type": "code",
   "execution_count": 41,
   "id": "developing-melbourne",
   "metadata": {},
   "outputs": [],
   "source": [
    "# importing scikitplot for machine learning evaluation metrics\n",
    "import scikitplot as skplt"
   ]
  },
  {
   "cell_type": "code",
   "execution_count": 42,
   "id": "round-stocks",
   "metadata": {},
   "outputs": [
    {
     "data": {
      "image/png": "[encoded data removed]",
      "text/plain": [
       "<Figure size 720x360 with 1 Axes>"
      ]
     },
     "metadata": {},
     "output_type": "display_data"
    }
   ],
   "source": [
    "# plotting precision and recall curves\n",
    "plt.style.use(\"ggplot\")\n",
    "skplt.metrics.plot_precision_recall(y_test, pred_probs, figsize=(10,5))\n",
    "plt.legend(facecolor=\"white\")\n",
    "plt.show()"
   ]
  },
  {
   "cell_type": "markdown",
   "id": "collaborative-charlotte",
   "metadata": {},
   "source": [
    "The model seems to overfit the data. This is probably from due to only training the model using ordinal features. Let's look at an ROC curve and confusion matrix to confirm these results."
   ]
  },
  {
   "cell_type": "code",
   "execution_count": 43,
   "id": "brutal-swimming",
   "metadata": {},
   "outputs": [
    {
     "data": {
      "image/png": "[encoded data removed]",
      "text/plain": [
       "<Figure size 720x360 with 1 Axes>"
      ]
     },
     "metadata": {},
     "output_type": "display_data"
    }
   ],
   "source": [
    "# plotting ROC curves\n",
    "plt.style.use(\"ggplot\")\n",
    "skplt.metrics.plot_roc(y_test, pred_probs, figsize=(10,5))\n",
    "plt.legend(facecolor=\"white\")\n",
    "plt.show()"
   ]
  },
  {
   "cell_type": "markdown",
   "id": "quantitative-regulation",
   "metadata": {},
   "source": [
    "As expected, the roc curves indicated the model is overfitting the data."
   ]
  },
  {
   "cell_type": "code",
   "execution_count": 44,
   "id": "prerequisite-column",
   "metadata": {},
   "outputs": [
    {
     "data": {
      "image/png": "[encoded data removed]",
      "text/plain": [
       "<Figure size 720x360 with 2 Axes>"
      ]
     },
     "metadata": {},
     "output_type": "display_data"
    }
   ],
   "source": [
    "# creating confusion matrix\n",
    "from sklearn.metrics import confusion_matrix\n",
    "cm = confusion_matrix(y_test, pred_out)\n",
    "\n",
    "# creating figure and plotting heatmap\n",
    "plt.figure(figsize=(10,5))\n",
    "sns.heatmap(cm, annot=True, fmt=\".2f\", linewidths=.5, square=True,  cmap=\"Blues_r\");\n",
    "plt.ylabel(\"Actual Label\");\n",
    "plt.xlabel(\"Predicted Label\");\n",
    "plt.title(\"Accuracy Score: {:.2f}\".format(round((np.trace(cm)) / (np.sum(cm)),2)));"
   ]
  },
  {
   "cell_type": "code",
   "execution_count": 45,
   "id": "divine-second",
   "metadata": {},
   "outputs": [
    {
     "name": "stdout",
     "output_type": "stream",
     "text": [
      "precision :  1.0\n",
      "recall :  1.0\n",
      "fscore :  1.0\n",
      "support :  None\n"
     ]
    }
   ],
   "source": [
    "# importing evaluation metrics and itertool\n",
    "from sklearn.metrics import precision_recall_fscore_support\n",
    "import itertools\n",
    "\n",
    "# creating lists containing scores and names\n",
    "score_results = list(precision_recall_fscore_support(y_test, pred_out, average=\"macro\"))\n",
    "score_names = [\"precision\", \"recall\", \"fscore\", \"support\"]\n",
    "\n",
    "# looping through both lists and printing elements\n",
    "for (score, name) in zip(score_results, score_names):\n",
    "    if score != None:\n",
    "        print(name, \": \", round(score, 2))\n",
    "    else:\n",
    "        print(name, \": \", score)"
   ]
  },
  {
   "cell_type": "markdown",
   "id": "fourth-mount",
   "metadata": {},
   "source": [
    "All scores are perfect signalling a high chance of overfitting."
   ]
  },
  {
   "cell_type": "markdown",
   "id": "dedicated-corner",
   "metadata": {},
   "source": [
    "The model is probably overfitting the data. My guess is the fixed amount of values in the ordinal variables make it easy for the model to memorize all future outcomes. An ideal solution might be to convert some of the ordinal variables to quantitative to reducing the chance of memorization."
   ]
  }
 ],
 "metadata": {
  "kernelspec": {
   "display_name": "Python 3",
   "language": "python",
   "name": "python3"
  },
  "language_info": {
   "codemirror_mode": {
    "name": "ipython",
    "version": 3
   },
   "file_extension": ".py",
   "mimetype": "text/x-python",
   "name": "python",
   "nbconvert_exporter": "python",
   "pygments_lexer": "ipython3",
   "version": "3.8.8"
  }
 },
 "nbformat": 4,
 "nbformat_minor": 5
}
